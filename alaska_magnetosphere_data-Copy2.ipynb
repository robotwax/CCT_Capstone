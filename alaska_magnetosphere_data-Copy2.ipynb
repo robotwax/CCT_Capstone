{
 "cells": [
  {
   "cell_type": "code",
   "execution_count": 1,
   "id": "e791b92a",
   "metadata": {
    "scrolled": true
   },
   "outputs": [],
   "source": [
    "import datetime\n",
    "import json\n",
    "import re\n",
    "import pandas as pd\n",
    "from bs4 import BeautifulSoup\n",
    "from urllib.request import urlopen\n",
    "from pandas import DataFrame\n",
    "import numpy as np\n",
    "import numpy as nd\n",
    "import numpy.ma as ma\n",
    "from plotly.graph_objs import *\n",
    "import  plotly.graph_objs as go\n",
    "from datetime import datetime\n",
    "import itertools\n",
    "from datetime import timedelta"
   ]
  },
  {
   "cell_type": "code",
   "execution_count": 64,
   "id": "bc888ba6",
   "metadata": {},
   "outputs": [],
   "source": [
    "#conda install -c anaconda beautifulsoup4"
   ]
  },
  {
   "cell_type": "code",
   "execution_count": 65,
   "id": "1de95299",
   "metadata": {},
   "outputs": [],
   "source": [
    "def lat_lon_to_float(v):\n",
    "    #Convert strings from NHC to float locations\n",
    "    \n",
    "    if (v[-1] == 'S') or (v[-1] == 'W'):\n",
    "        multiplier = -1\n",
    "    else:\n",
    "        multiplier = 1\n",
    "    return(float(v[:-1]) * multiplier)"
   ]
  },
  {
   "cell_type": "code",
   "execution_count": 66,
   "id": "b5dbfc69",
   "metadata": {},
   "outputs": [],
   "source": [
    "data = []\n",
    "\n",
    "with open('hurdat2-1851-2021-041922.txt', 'r') as f:\n",
    "    for line in f.readlines():\n",
    "        if line.startswith('AL'):\n",
    "            #create a list of the items sep ','\n",
    "            storm_id = line.split(',')\n",
    "            #select first item and strip white space\n",
    "            storm_number = storm_id[0].strip()\n",
    "            storm_name = storm_id[1].strip()\n",
    "        else:\n",
    "            location_line = line.split(',')\n",
    "            #strp is 'string parse'\n",
    "            dt = datetime.strptime(location_line[0] + location_line[1], '%Y%m%d %H%M')\n",
    "            storm_status = location_line[3].strip()\n",
    "            storm_lat = lat_lon_to_float(location_line[4].strip())\n",
    "            storm_lon = lat_lon_to_float(location_line[5].strip())\n",
    "            max_sust = location_line[6].strip()\n",
    "            min_pres = location_line[7].strip()\n",
    "            data.append([dt, storm_number, storm_name, storm_status, storm_lat, storm_lon, max_sust, min_pres])\n",
    "        "
   ]
  },
  {
   "cell_type": "code",
   "execution_count": 6,
   "id": "4d33ada5",
   "metadata": {},
   "outputs": [],
   "source": [
    "hurdat2 = pd.DataFrame(data, columns=['date', 'storm_id', 'name', 'cat', 'lat', 'long', 'max_sust_windspeed(knots)', 'min_pressure(millibars)'])\n"
   ]
  },
  {
   "cell_type": "code",
   "execution_count": 7,
   "id": "c686848a",
   "metadata": {},
   "outputs": [],
   "source": [
    "hurdat2.to_csv('hurdat_all.csv', index=False)"
   ]
  },
  {
   "cell_type": "markdown",
   "id": "6a5b0543",
   "metadata": {},
   "source": [
    "## Start Here"
   ]
  },
  {
   "cell_type": "code",
   "execution_count": 67,
   "id": "0bb48d54",
   "metadata": {},
   "outputs": [],
   "source": [
    "hurdat2 = pd.read_csv('hurdat_all.csv')"
   ]
  },
  {
   "cell_type": "code",
   "execution_count": 68,
   "id": "d5fcc938",
   "metadata": {},
   "outputs": [],
   "source": [
    "def storm_Ident(NAME, YEAR, hurdat2):\n",
    "    hurdat3 = hurdat2.loc[(hurdat2['name']==NAME) & (hurdat2['dates'].str[:4]==YEAR)]\n",
    "    return((hurdat3.date.min(), hurdat3.date.max()))\n"
   ]
  },
  {
   "cell_type": "code",
   "execution_count": 69,
   "id": "d35e9119",
   "metadata": {},
   "outputs": [],
   "source": [
    "#Validation function\n",
    "def integerValidation(msg2 = \"Input year: \"):\n",
    "    validAnswer = False\n",
    "    while(not validAnswer):\n",
    "        try:\n",
    "            YEAR = int(input(msg2))\n",
    "            if int(1851) <= YEAR <= int(2021):\n",
    "                validAnswer = True\n",
    "        except:\n",
    "            print(\"This must be an integer number and between the range 1851 and 2021\")\n",
    "    return(YEAR)"
   ]
  },
  {
   "cell_type": "code",
   "execution_count": 70,
   "id": "e45bb793",
   "metadata": {},
   "outputs": [],
   "source": [
    "\n",
    "#Validation function\n",
    "def alphaValidation(names, msg = \"Input Hurricane Name: \"):\n",
    "    validAnswer = False\n",
    "    while(not validAnswer):\n",
    "        NAME = (input(msg))\n",
    "        NAME = NAME.upper()\n",
    "        if NAME in names:\n",
    "            validAnswer = True\n",
    "            return(NAME)\n",
    "        else:\n",
    "            print(\"There is no record of this name in the database\")\n",
    "            validAnswer=False\n",
    "    \n"
   ]
  },
  {
   "cell_type": "code",
   "execution_count": 71,
   "id": "4bdbe201",
   "metadata": {},
   "outputs": [
    {
     "name": "stdout",
     "output_type": "stream",
     "text": [
      "Input Hurricane Name: dorian\n",
      "Input year: 2019\n",
      "2019-08-24 06:00:00 2019-09-09 00:00:00\n"
     ]
    }
   ],
   "source": [
    "#Applet for getting the Storm from Name and Year\n",
    "hurdat2['dates'] = hurdat2.date.astype('str')\n",
    "names = hurdat2.name.unique()\n",
    "NAME = alphaValidation(names)\n",
    "NAME = NAME.upper()\n",
    "YEAR = str(integerValidation())\n",
    "ranges = storm_Ident(NAME, YEAR, hurdat2)\n",
    "print(ranges[0], ranges[1])"
   ]
  },
  {
   "cell_type": "code",
   "execution_count": 14,
   "id": "84f432f1",
   "metadata": {},
   "outputs": [],
   "source": [
    "ranges=('20190901', '20190905')"
   ]
  },
  {
   "cell_type": "code",
   "execution_count": 15,
   "id": "b269afd8",
   "metadata": {},
   "outputs": [],
   "source": [
    "df_ = pd.date_range(start= ranges[0], end= ranges[1], freq='D')\n",
    "rng = df_.format(formatter=lambda x: x.strftime('%Y/%m/%d'))\n",
    "rng2 = df_.format(formatter=lambda x: x.strftime('%Y_%m_%d'))\n",
    "rng3 = list(zip(rng, rng2))"
   ]
  },
  {
   "cell_type": "markdown",
   "id": "054c3525",
   "metadata": {},
   "source": [
    "The code below draws down data from the magnetometers located in Alaska, for the period when Hurricane Dorian was active."
   ]
  },
  {
   "cell_type": "code",
   "execution_count": 16,
   "id": "41912984",
   "metadata": {},
   "outputs": [],
   "source": [
    "\n",
    "stations = ['eagle', 'fortyukon', 'gakona', 'kenai', 'poker']\n"
   ]
  },
  {
   "cell_type": "code",
   "execution_count": 61,
   "id": "0bf97208",
   "metadata": {},
   "outputs": [],
   "source": [
    "start = \"https://www.gi.alaska.edu/api/magnetometer/DATA/www/\"\n",
    "\n",
    "bs = \"/\"\n",
    "us = \"_\"\n",
    "end = \".csv.tar.gz\"\n",
    "\n",
    "frames = []\n",
    "\n",
    "for i in rng3:\n",
    "    for c in stations:\n",
    "            url = start + i[0] + bs + c + bs + c + us + i[1] + end\n",
    "            csv = urlopen(url)\n",
    "            df = pd.read_csv(csv, compression='gzip', header=None, sep=',', on_bad_lines='skip')\n",
    "            frames.append(df)\n",
    "        except:\n",
    "            continue"
   ]
  },
  {
   "cell_type": "code",
   "execution_count": 56,
   "id": "a84a9501",
   "metadata": {},
   "outputs": [
    {
     "name": "stdout",
     "output_type": "stream",
     "text": [
      "eagle_2019_09_01_23.csv\n",
      "fortyukon_2019_09_01_21.csv\n",
      "gakona_2019_09_01_00.csv\n",
      "kenai_2019_09_01_00.csv\n",
      "poker_2019_09_01_23.csv\n",
      "eagle_2019_09_02_23.csv\n",
      "fortyukon_2019_09_02_20.csv\n",
      "gakona_2019_09_02_00.csv\n",
      "kenai_2019_09_02_00.csv\n",
      "poker_2019_09_02_23.csv\n",
      "eagle_2019_09_03_23.csv\n",
      "fortyukon_2019_09_03_20.csv\n",
      "gakona_2019_09_03_00.csv\n",
      "kenai_2019_09_03_00.csv\n",
      "poker_2019_09_03_23.csv\n",
      "eagle_2019_09_04_23.csv\n",
      "fortyukon_2019_09_04_20.csv\n",
      "gakona_2019_09_04_00.csv\n",
      "kenai_2019_09_04_00.csv\n",
      "poker_2019_09_04_23.csv\n",
      "eagle_2019_09_05_23.csv\n",
      "fortyukon_2019_09_05_22.csv\n",
      "gakona_2019_09_05_00.csv\n",
      "kenai_2019_09_05_00.csv\n",
      "poker_2019_09_05_23.csv\n"
     ]
    }
   ],
   "source": [
    "for i in frames:\n",
    "    m = i[0][0]\n",
    "    mags = m.split(',')\n",
    "    station_id = mags[0].split('_')\n",
    "    #select first item and strip white space\n",
    "    station = station_id[0].strip()\n",
    "    stat3 = station_id[3].strip()\n",
    "    dt = datetime.strptime(station_id[1].strip() + station_id[2].strip() + stat3[:2] + '000000', '%Y%m%d%H%M%S')                \n",
    "    dec_time = float(mags[1].strip())\n",
    "    H = float(mags[2].strip())\n",
    "    D = float(mags[3].strip())\n",
    "    Z = float(mags[4].strip())\n",
    "    data2.append([station, dt, dec_time, H, D, Z])\n",
    "    print(m)"
   ]
  },
  {
   "cell_type": "code",
   "execution_count": null,
   "id": "0fb48718",
   "metadata": {},
   "outputs": [],
   "source": [
    "result = pd.concat(frames)"
   ]
  },
  {
   "cell_type": "code",
   "execution_count": 45,
   "id": "5899900d",
   "metadata": {},
   "outputs": [
    {
     "data": {
      "text/html": [
       "<div>\n",
       "<style scoped>\n",
       "    .dataframe tbody tr th:only-of-type {\n",
       "        vertical-align: middle;\n",
       "    }\n",
       "\n",
       "    .dataframe tbody tr th {\n",
       "        vertical-align: top;\n",
       "    }\n",
       "\n",
       "    .dataframe thead th {\n",
       "        text-align: right;\n",
       "    }\n",
       "</style>\n",
       "<table border=\"1\" class=\"dataframe\">\n",
       "  <thead>\n",
       "    <tr style=\"text-align: right;\">\n",
       "      <th></th>\n",
       "      <th>0</th>\n",
       "      <th>1</th>\n",
       "      <th>2</th>\n",
       "      <th>3</th>\n",
       "      <th>4</th>\n",
       "    </tr>\n",
       "  </thead>\n",
       "  <tbody>\n",
       "    <tr>\n",
       "      <th>0</th>\n",
       "      <td>eagle_2019_09_01_23.csv</td>\n",
       "      <td>23.000000</td>\n",
       "      <td>12687.9656</td>\n",
       "      <td>-270.7750</td>\n",
       "      <td>54771.4625</td>\n",
       "    </tr>\n",
       "    <tr>\n",
       "      <th>1</th>\n",
       "      <td>23:00:01</td>\n",
       "      <td>23.000278</td>\n",
       "      <td>12688.4563</td>\n",
       "      <td>-270.5875</td>\n",
       "      <td>54771.4875</td>\n",
       "    </tr>\n",
       "    <tr>\n",
       "      <th>2</th>\n",
       "      <td>23:00:02</td>\n",
       "      <td>23.000556</td>\n",
       "      <td>12688.9938</td>\n",
       "      <td>-270.4125</td>\n",
       "      <td>54771.5531</td>\n",
       "    </tr>\n",
       "    <tr>\n",
       "      <th>3</th>\n",
       "      <td>23:00:03</td>\n",
       "      <td>23.000833</td>\n",
       "      <td>12689.5500</td>\n",
       "      <td>-270.2188</td>\n",
       "      <td>54771.5594</td>\n",
       "    </tr>\n",
       "    <tr>\n",
       "      <th>4</th>\n",
       "      <td>23:00:04</td>\n",
       "      <td>23.001111</td>\n",
       "      <td>12690.1688</td>\n",
       "      <td>-270.0719</td>\n",
       "      <td>54771.5750</td>\n",
       "    </tr>\n",
       "  </tbody>\n",
       "</table>\n",
       "</div>"
      ],
      "text/plain": [
       "                         0          1           2         3           4\n",
       "0  eagle_2019_09_01_23.csv  23.000000  12687.9656 -270.7750  54771.4625\n",
       "1                 23:00:01  23.000278  12688.4563 -270.5875  54771.4875\n",
       "2                 23:00:02  23.000556  12688.9938 -270.4125  54771.5531\n",
       "3                 23:00:03  23.000833  12689.5500 -270.2188  54771.5594\n",
       "4                 23:00:04  23.001111  12690.1688 -270.0719  54771.5750"
      ]
     },
     "execution_count": 45,
     "metadata": {},
     "output_type": "execute_result"
    }
   ],
   "source": [
    "result.head()"
   ]
  },
  {
   "cell_type": "code",
   "execution_count": 46,
   "id": "02ad7b03",
   "metadata": {},
   "outputs": [
    {
     "data": {
      "text/html": [
       "<div>\n",
       "<style scoped>\n",
       "    .dataframe tbody tr th:only-of-type {\n",
       "        vertical-align: middle;\n",
       "    }\n",
       "\n",
       "    .dataframe tbody tr th {\n",
       "        vertical-align: top;\n",
       "    }\n",
       "\n",
       "    .dataframe thead th {\n",
       "        text-align: right;\n",
       "    }\n",
       "</style>\n",
       "<table border=\"1\" class=\"dataframe\">\n",
       "  <thead>\n",
       "    <tr style=\"text-align: right;\">\n",
       "      <th></th>\n",
       "      <th>0</th>\n",
       "      <th>1</th>\n",
       "      <th>2</th>\n",
       "      <th>3</th>\n",
       "      <th>4</th>\n",
       "    </tr>\n",
       "  </thead>\n",
       "  <tbody>\n",
       "    <tr>\n",
       "      <th>0</th>\n",
       "      <td>eagle_2019_09_01_23.csv</td>\n",
       "      <td>23.000000</td>\n",
       "      <td>12687.9656</td>\n",
       "      <td>-270.7750</td>\n",
       "      <td>54771.4625</td>\n",
       "    </tr>\n",
       "    <tr>\n",
       "      <th>1</th>\n",
       "      <td>23:00:01</td>\n",
       "      <td>23.000278</td>\n",
       "      <td>12688.4563</td>\n",
       "      <td>-270.5875</td>\n",
       "      <td>54771.4875</td>\n",
       "    </tr>\n",
       "    <tr>\n",
       "      <th>2</th>\n",
       "      <td>23:00:02</td>\n",
       "      <td>23.000556</td>\n",
       "      <td>12688.9938</td>\n",
       "      <td>-270.4125</td>\n",
       "      <td>54771.5531</td>\n",
       "    </tr>\n",
       "    <tr>\n",
       "      <th>3</th>\n",
       "      <td>23:00:03</td>\n",
       "      <td>23.000833</td>\n",
       "      <td>12689.5500</td>\n",
       "      <td>-270.2188</td>\n",
       "      <td>54771.5594</td>\n",
       "    </tr>\n",
       "    <tr>\n",
       "      <th>4</th>\n",
       "      <td>23:00:04</td>\n",
       "      <td>23.001111</td>\n",
       "      <td>12690.1688</td>\n",
       "      <td>-270.0719</td>\n",
       "      <td>54771.5750</td>\n",
       "    </tr>\n",
       "  </tbody>\n",
       "</table>\n",
       "</div>"
      ],
      "text/plain": [
       "                         0          1           2         3           4\n",
       "0  eagle_2019_09_01_23.csv  23.000000  12687.9656 -270.7750  54771.4625\n",
       "1                 23:00:01  23.000278  12688.4563 -270.5875  54771.4875\n",
       "2                 23:00:02  23.000556  12688.9938 -270.4125  54771.5531\n",
       "3                 23:00:03  23.000833  12689.5500 -270.2188  54771.5594\n",
       "4                 23:00:04  23.001111  12690.1688 -270.0719  54771.5750"
      ]
     },
     "execution_count": 46,
     "metadata": {},
     "output_type": "execute_result"
    }
   ],
   "source": [
    "result = result.dropna()\n",
    "result.head()"
   ]
  },
  {
   "cell_type": "code",
   "execution_count": 47,
   "id": "d61ee874",
   "metadata": {},
   "outputs": [
    {
     "data": {
      "text/html": [
       "<div>\n",
       "<style scoped>\n",
       "    .dataframe tbody tr th:only-of-type {\n",
       "        vertical-align: middle;\n",
       "    }\n",
       "\n",
       "    .dataframe tbody tr th {\n",
       "        vertical-align: top;\n",
       "    }\n",
       "\n",
       "    .dataframe thead th {\n",
       "        text-align: right;\n",
       "    }\n",
       "</style>\n",
       "<table border=\"1\" class=\"dataframe\">\n",
       "  <thead>\n",
       "    <tr style=\"text-align: right;\">\n",
       "      <th></th>\n",
       "      <th>time</th>\n",
       "      <th>dec_time</th>\n",
       "      <th>H</th>\n",
       "      <th>D</th>\n",
       "      <th>Z</th>\n",
       "    </tr>\n",
       "  </thead>\n",
       "  <tbody>\n",
       "    <tr>\n",
       "      <th>0</th>\n",
       "      <td>eagle_2019_09_01_23.csv</td>\n",
       "      <td>23.000000</td>\n",
       "      <td>12687.9656</td>\n",
       "      <td>-270.7750</td>\n",
       "      <td>54771.4625</td>\n",
       "    </tr>\n",
       "    <tr>\n",
       "      <th>1</th>\n",
       "      <td>23:00:01</td>\n",
       "      <td>23.000278</td>\n",
       "      <td>12688.4563</td>\n",
       "      <td>-270.5875</td>\n",
       "      <td>54771.4875</td>\n",
       "    </tr>\n",
       "    <tr>\n",
       "      <th>2</th>\n",
       "      <td>23:00:02</td>\n",
       "      <td>23.000556</td>\n",
       "      <td>12688.9938</td>\n",
       "      <td>-270.4125</td>\n",
       "      <td>54771.5531</td>\n",
       "    </tr>\n",
       "    <tr>\n",
       "      <th>3</th>\n",
       "      <td>23:00:03</td>\n",
       "      <td>23.000833</td>\n",
       "      <td>12689.5500</td>\n",
       "      <td>-270.2188</td>\n",
       "      <td>54771.5594</td>\n",
       "    </tr>\n",
       "    <tr>\n",
       "      <th>4</th>\n",
       "      <td>23:00:04</td>\n",
       "      <td>23.001111</td>\n",
       "      <td>12690.1688</td>\n",
       "      <td>-270.0719</td>\n",
       "      <td>54771.5750</td>\n",
       "    </tr>\n",
       "  </tbody>\n",
       "</table>\n",
       "</div>"
      ],
      "text/plain": [
       "                      time   dec_time           H         D           Z\n",
       "0  eagle_2019_09_01_23.csv  23.000000  12687.9656 -270.7750  54771.4625\n",
       "1                 23:00:01  23.000278  12688.4563 -270.5875  54771.4875\n",
       "2                 23:00:02  23.000556  12688.9938 -270.4125  54771.5531\n",
       "3                 23:00:03  23.000833  12689.5500 -270.2188  54771.5594\n",
       "4                 23:00:04  23.001111  12690.1688 -270.0719  54771.5750"
      ]
     },
     "execution_count": 47,
     "metadata": {},
     "output_type": "execute_result"
    }
   ],
   "source": [
    "result.columns = ['time', 'dec_time', 'H', 'D', 'Z']\n",
    "result.head()"
   ]
  },
  {
   "cell_type": "code",
   "execution_count": 54,
   "id": "5a211b71",
   "metadata": {},
   "outputs": [
    {
     "ename": "AttributeError",
     "evalue": "'Series' object has no attribute 'isdecimal'",
     "output_type": "error",
     "traceback": [
      "\u001b[0;31m---------------------------------------------------------------------------\u001b[0m",
      "\u001b[0;31mAttributeError\u001b[0m                            Traceback (most recent call last)",
      "\u001b[0;32m/var/folders/xj/29kl316s2v94r6z0nbw_9l8w0000gn/T/ipykernel_13742/2442808397.py\u001b[0m in \u001b[0;36m<module>\u001b[0;34m\u001b[0m\n\u001b[1;32m      1\u001b[0m \u001b[0mresult\u001b[0m\u001b[0;34m[\u001b[0m\u001b[0;34m'bool'\u001b[0m\u001b[0;34m]\u001b[0m \u001b[0;34m=\u001b[0m \u001b[0;32mFalse\u001b[0m\u001b[0;34m\u001b[0m\u001b[0;34m\u001b[0m\u001b[0m\n\u001b[0;32m----> 2\u001b[0;31m \u001b[0mresult\u001b[0m\u001b[0;34m.\u001b[0m\u001b[0mloc\u001b[0m\u001b[0;34m[\u001b[0m\u001b[0mresult\u001b[0m\u001b[0;34m[\u001b[0m\u001b[0;34m'time'\u001b[0m\u001b[0;34m]\u001b[0m\u001b[0;34m.\u001b[0m\u001b[0misdecimal\u001b[0m\u001b[0;34m,\u001b[0m\u001b[0;34m'bool'\u001b[0m\u001b[0;34m]\u001b[0m \u001b[0;34m=\u001b[0m \u001b[0;32mTrue\u001b[0m\u001b[0;34m\u001b[0m\u001b[0;34m\u001b[0m\u001b[0m\n\u001b[0m\u001b[1;32m      3\u001b[0m \u001b[0mresult\u001b[0m\u001b[0;34m.\u001b[0m\u001b[0mhead\u001b[0m\u001b[0;34m(\u001b[0m\u001b[0;34m)\u001b[0m\u001b[0;34m\u001b[0m\u001b[0;34m\u001b[0m\u001b[0m\n",
      "\u001b[0;32m/opt/anaconda3/envs/voila2/lib/python3.7/site-packages/pandas/core/generic.py\u001b[0m in \u001b[0;36m__getattr__\u001b[0;34m(self, name)\u001b[0m\n\u001b[1;32m   5485\u001b[0m         ):\n\u001b[1;32m   5486\u001b[0m             \u001b[0;32mreturn\u001b[0m \u001b[0mself\u001b[0m\u001b[0;34m[\u001b[0m\u001b[0mname\u001b[0m\u001b[0;34m]\u001b[0m\u001b[0;34m\u001b[0m\u001b[0;34m\u001b[0m\u001b[0m\n\u001b[0;32m-> 5487\u001b[0;31m         \u001b[0;32mreturn\u001b[0m \u001b[0mobject\u001b[0m\u001b[0;34m.\u001b[0m\u001b[0m__getattribute__\u001b[0m\u001b[0;34m(\u001b[0m\u001b[0mself\u001b[0m\u001b[0;34m,\u001b[0m \u001b[0mname\u001b[0m\u001b[0;34m)\u001b[0m\u001b[0;34m\u001b[0m\u001b[0;34m\u001b[0m\u001b[0m\n\u001b[0m\u001b[1;32m   5488\u001b[0m \u001b[0;34m\u001b[0m\u001b[0m\n\u001b[1;32m   5489\u001b[0m     \u001b[0;32mdef\u001b[0m \u001b[0m__setattr__\u001b[0m\u001b[0;34m(\u001b[0m\u001b[0mself\u001b[0m\u001b[0;34m,\u001b[0m \u001b[0mname\u001b[0m\u001b[0;34m:\u001b[0m \u001b[0mstr\u001b[0m\u001b[0;34m,\u001b[0m \u001b[0mvalue\u001b[0m\u001b[0;34m)\u001b[0m \u001b[0;34m->\u001b[0m \u001b[0;32mNone\u001b[0m\u001b[0;34m:\u001b[0m\u001b[0;34m\u001b[0m\u001b[0;34m\u001b[0m\u001b[0m\n",
      "\u001b[0;31mAttributeError\u001b[0m: 'Series' object has no attribute 'isdecimal'"
     ]
    }
   ],
   "source": [
    "result['bool'] = False\n",
    "result.loc[result['time'].isdecimal,'bool'] = True\n",
    "result.head()"
   ]
  },
  {
   "cell_type": "markdown",
   "id": "59dedf82",
   "metadata": {},
   "source": [
    "In order to process this data, it is more convenient to save it as a txt file."
   ]
  },
  {
   "cell_type": "code",
   "execution_count": 20,
   "id": "faa58127",
   "metadata": {},
   "outputs": [],
   "source": [
    "result.to_csv('geomag3.txt', sep=',', header=None, index=False)"
   ]
  },
  {
   "cell_type": "code",
   "execution_count": null,
   "id": "06be25ef",
   "metadata": {},
   "outputs": [],
   "source": [
    "#dfv = pd.read_csv('geomag2.txt')\n",
    "#dfv.head()"
   ]
  },
  {
   "cell_type": "code",
   "execution_count": 37,
   "id": "fe4ba0fc",
   "metadata": {},
   "outputs": [
    {
     "ename": "AttributeError",
     "evalue": "'int' object has no attribute 'startswith'",
     "output_type": "error",
     "traceback": [
      "\u001b[0;31m---------------------------------------------------------------------------\u001b[0m",
      "\u001b[0;31mAttributeError\u001b[0m                            Traceback (most recent call last)",
      "\u001b[0;32m/var/folders/xj/29kl316s2v94r6z0nbw_9l8w0000gn/T/ipykernel_13742/977788866.py\u001b[0m in \u001b[0;36m<module>\u001b[0;34m\u001b[0m\n\u001b[1;32m      4\u001b[0m \u001b[0;34m\u001b[0m\u001b[0m\n\u001b[1;32m      5\u001b[0m \u001b[0;32mfor\u001b[0m \u001b[0mline\u001b[0m \u001b[0;32min\u001b[0m \u001b[0mresult\u001b[0m\u001b[0;34m:\u001b[0m\u001b[0;34m\u001b[0m\u001b[0;34m\u001b[0m\u001b[0m\n\u001b[0;32m----> 6\u001b[0;31m     \u001b[0;32mif\u001b[0m \u001b[0mline\u001b[0m\u001b[0;34m.\u001b[0m\u001b[0mstartswith\u001b[0m\u001b[0;34m(\u001b[0m\u001b[0;34m'ea'\u001b[0m\u001b[0;34m)\u001b[0m \u001b[0;32mor\u001b[0m \u001b[0mline\u001b[0m\u001b[0;34m.\u001b[0m\u001b[0mstartswith\u001b[0m\u001b[0;34m(\u001b[0m\u001b[0;34m'fo'\u001b[0m\u001b[0;34m)\u001b[0m \u001b[0;32mor\u001b[0m \u001b[0mline\u001b[0m\u001b[0;34m.\u001b[0m\u001b[0mstartswith\u001b[0m\u001b[0;34m(\u001b[0m\u001b[0;34m'ga'\u001b[0m\u001b[0;34m)\u001b[0m \u001b[0;32mor\u001b[0m \u001b[0mline\u001b[0m\u001b[0;34m.\u001b[0m\u001b[0mstartswith\u001b[0m\u001b[0;34m(\u001b[0m\u001b[0;34m'ke'\u001b[0m\u001b[0;34m)\u001b[0m \u001b[0;32mor\u001b[0m \u001b[0mline\u001b[0m\u001b[0;34m.\u001b[0m\u001b[0mstartswith\u001b[0m\u001b[0;34m(\u001b[0m\u001b[0;34m'po'\u001b[0m\u001b[0;34m)\u001b[0m\u001b[0;34m:\u001b[0m\u001b[0;34m\u001b[0m\u001b[0;34m\u001b[0m\u001b[0m\n\u001b[0m\u001b[1;32m      7\u001b[0m         \u001b[0;31m#create a list of the items sep ','\u001b[0m\u001b[0;34m\u001b[0m\u001b[0;34m\u001b[0m\u001b[0;34m\u001b[0m\u001b[0m\n\u001b[1;32m      8\u001b[0m         \u001b[0mmags\u001b[0m \u001b[0;34m=\u001b[0m \u001b[0mline\u001b[0m\u001b[0;34m.\u001b[0m\u001b[0msplit\u001b[0m\u001b[0;34m(\u001b[0m\u001b[0;34m','\u001b[0m\u001b[0;34m)\u001b[0m\u001b[0;34m\u001b[0m\u001b[0;34m\u001b[0m\u001b[0m\n",
      "\u001b[0;31mAttributeError\u001b[0m: 'int' object has no attribute 'startswith'"
     ]
    }
   ],
   "source": [
    "options = ['00:00:00', '06:00:00', '12:00:00', '18:00:00']\n",
    "\n",
    "data2 = []\n",
    "\n",
    "with open('geomag3.txt', 'r') as f:\n",
    "    for line in f.readlines():\n",
    "        if line.startswith('ea') or line.startswith('fo') or line.startswith('ga') or line.startswith('ke') or line.startswith('po'):\n",
    "            #create a list of the items sep ','\n",
    "            mags = line.split(',')\n",
    "            station_id = mags[0].split('_')\n",
    "            #select first item and strip white space\n",
    "            station = station_id[0].strip()\n",
    "            stat3 = station_id[3].strip()\n",
    "            dt = datetime.strptime(station_id[1].strip() + station_id[2].strip() + stat3[:2] + '000000', '%Y%m%d%H%M%S')                \n",
    "            dec_time = float(mags[1].strip())\n",
    "            H = float(mags[2].strip())\n",
    "            D = float(mags[3].strip())\n",
    "            Z = float(mags[4].strip())\n",
    "            data2.append([station, dt, dec_time, H, D, Z])\n",
    "        else:\n",
    "            location_line = line.split(',')\n",
    "            time = location_line[0].split(':')\n",
    "            #strp is 'string parse'\n",
    "            if location_line[0] in options:\n",
    "                try:\n",
    "                    dt1 = datetime.strptime(station_id[1].strip() + station_id[2].strip() + station_id[3].strip()[:2] + time[0].strip() + time[1].strip() + time[2].strip(), '%Y%m%d%H%M%S')\n",
    "                except:\n",
    "                    dt1 = datetime.strptime(station_id[1].strip() + station_id[2].strip() + station_id[3].strip()[:2] + time[0].strip() + time[1].strip() + '00', '%Y%m%d%H%M%S')\n",
    "                dec_time = float(location_line[1].strip())\n",
    "                H = float(location_line[2].strip())\n",
    "                D = float(location_line[3].strip())\n",
    "                Z = float(location_line[4].strip())\n",
    "                data2.append([station, dt1, dec_time, H, D, Z])\n",
    "            else:\n",
    "                continue\n"
   ]
  },
  {
   "cell_type": "code",
   "execution_count": null,
   "id": "82209b56",
   "metadata": {},
   "outputs": [],
   "source": []
  },
  {
   "cell_type": "code",
   "execution_count": 22,
   "id": "7b699195",
   "metadata": {},
   "outputs": [
    {
     "data": {
      "text/plain": [
       "['eagle',\n",
       " datetime.datetime(2019, 9, 1, 0, 0),\n",
       " 23.0,\n",
       " 12687.9656,\n",
       " -270.775,\n",
       " 54771.4625]"
      ]
     },
     "execution_count": 22,
     "metadata": {},
     "output_type": "execute_result"
    }
   ],
   "source": [
    "data2[0]"
   ]
  },
  {
   "cell_type": "code",
   "execution_count": 23,
   "id": "170f17ba",
   "metadata": {},
   "outputs": [
    {
     "data": {
      "text/html": [
       "<div>\n",
       "<style scoped>\n",
       "    .dataframe tbody tr th:only-of-type {\n",
       "        vertical-align: middle;\n",
       "    }\n",
       "\n",
       "    .dataframe tbody tr th {\n",
       "        vertical-align: top;\n",
       "    }\n",
       "\n",
       "    .dataframe thead th {\n",
       "        text-align: right;\n",
       "    }\n",
       "</style>\n",
       "<table border=\"1\" class=\"dataframe\">\n",
       "  <thead>\n",
       "    <tr style=\"text-align: right;\">\n",
       "      <th></th>\n",
       "      <th>station</th>\n",
       "      <th>date</th>\n",
       "      <th>dec_time</th>\n",
       "      <th>H</th>\n",
       "      <th>D</th>\n",
       "      <th>Z</th>\n",
       "    </tr>\n",
       "  </thead>\n",
       "  <tbody>\n",
       "    <tr>\n",
       "      <th>0</th>\n",
       "      <td>eagle</td>\n",
       "      <td>2019-09-01 00:00:00</td>\n",
       "      <td>23.0</td>\n",
       "      <td>12687.9656</td>\n",
       "      <td>-270.7750</td>\n",
       "      <td>54771.4625</td>\n",
       "    </tr>\n",
       "    <tr>\n",
       "      <th>1</th>\n",
       "      <td>eagle</td>\n",
       "      <td>2019-09-01 00:00:00</td>\n",
       "      <td>0.0</td>\n",
       "      <td>12664.8531</td>\n",
       "      <td>-311.8000</td>\n",
       "      <td>54759.7938</td>\n",
       "    </tr>\n",
       "    <tr>\n",
       "      <th>2</th>\n",
       "      <td>eagle</td>\n",
       "      <td>2019-09-01 06:00:00</td>\n",
       "      <td>6.0</td>\n",
       "      <td>12363.4469</td>\n",
       "      <td>-300.4156</td>\n",
       "      <td>54402.7281</td>\n",
       "    </tr>\n",
       "    <tr>\n",
       "      <th>3</th>\n",
       "      <td>eagle</td>\n",
       "      <td>2019-09-01 12:00:00</td>\n",
       "      <td>12.0</td>\n",
       "      <td>11080.5125</td>\n",
       "      <td>-552.9813</td>\n",
       "      <td>55025.2688</td>\n",
       "    </tr>\n",
       "    <tr>\n",
       "      <th>4</th>\n",
       "      <td>eagle</td>\n",
       "      <td>2019-09-01 18:00:00</td>\n",
       "      <td>18.0</td>\n",
       "      <td>12390.4969</td>\n",
       "      <td>-240.7406</td>\n",
       "      <td>54704.2313</td>\n",
       "    </tr>\n",
       "  </tbody>\n",
       "</table>\n",
       "</div>"
      ],
      "text/plain": [
       "  station                date  dec_time           H         D           Z\n",
       "0   eagle 2019-09-01 00:00:00      23.0  12687.9656 -270.7750  54771.4625\n",
       "1   eagle 2019-09-01 00:00:00       0.0  12664.8531 -311.8000  54759.7938\n",
       "2   eagle 2019-09-01 06:00:00       6.0  12363.4469 -300.4156  54402.7281\n",
       "3   eagle 2019-09-01 12:00:00      12.0  11080.5125 -552.9813  55025.2688\n",
       "4   eagle 2019-09-01 18:00:00      18.0  12390.4969 -240.7406  54704.2313"
      ]
     },
     "execution_count": 23,
     "metadata": {},
     "output_type": "execute_result"
    }
   ],
   "source": [
    "df2 = pd.DataFrame(data2, columns = ['station', 'date', 'dec_time', 'H', 'D', 'Z'])\n",
    "df2.head()\n"
   ]
  },
  {
   "cell_type": "code",
   "execution_count": 24,
   "id": "a95caaf4",
   "metadata": {},
   "outputs": [
    {
     "data": {
      "text/html": [
       "<div>\n",
       "<style scoped>\n",
       "    .dataframe tbody tr th:only-of-type {\n",
       "        vertical-align: middle;\n",
       "    }\n",
       "\n",
       "    .dataframe tbody tr th {\n",
       "        vertical-align: top;\n",
       "    }\n",
       "\n",
       "    .dataframe thead th {\n",
       "        text-align: right;\n",
       "    }\n",
       "</style>\n",
       "<table border=\"1\" class=\"dataframe\">\n",
       "  <thead>\n",
       "    <tr style=\"text-align: right;\">\n",
       "      <th></th>\n",
       "      <th>station</th>\n",
       "      <th>date</th>\n",
       "      <th>dec_time</th>\n",
       "      <th>H</th>\n",
       "      <th>D</th>\n",
       "      <th>Z</th>\n",
       "    </tr>\n",
       "  </thead>\n",
       "  <tbody>\n",
       "    <tr>\n",
       "      <th>114</th>\n",
       "      <td>poker</td>\n",
       "      <td>2019-09-05 00:00:00</td>\n",
       "      <td>7.0</td>\n",
       "      <td>12041.2469</td>\n",
       "      <td>-725.4750</td>\n",
       "      <td>54132.6781</td>\n",
       "    </tr>\n",
       "    <tr>\n",
       "      <th>115</th>\n",
       "      <td>poker</td>\n",
       "      <td>2019-09-05 00:00:00</td>\n",
       "      <td>0.0</td>\n",
       "      <td>12145.4250</td>\n",
       "      <td>-712.6781</td>\n",
       "      <td>54156.9813</td>\n",
       "    </tr>\n",
       "    <tr>\n",
       "      <th>116</th>\n",
       "      <td>poker</td>\n",
       "      <td>2019-09-05 06:00:00</td>\n",
       "      <td>6.0</td>\n",
       "      <td>12231.3625</td>\n",
       "      <td>-668.1562</td>\n",
       "      <td>54082.5250</td>\n",
       "    </tr>\n",
       "    <tr>\n",
       "      <th>117</th>\n",
       "      <td>poker</td>\n",
       "      <td>2019-09-05 12:00:00</td>\n",
       "      <td>12.0</td>\n",
       "      <td>12106.7250</td>\n",
       "      <td>-697.2969</td>\n",
       "      <td>54049.3250</td>\n",
       "    </tr>\n",
       "    <tr>\n",
       "      <th>118</th>\n",
       "      <td>poker</td>\n",
       "      <td>2019-09-05 18:00:00</td>\n",
       "      <td>18.0</td>\n",
       "      <td>12144.8219</td>\n",
       "      <td>-681.6250</td>\n",
       "      <td>54146.2031</td>\n",
       "    </tr>\n",
       "  </tbody>\n",
       "</table>\n",
       "</div>"
      ],
      "text/plain": [
       "    station                date  dec_time           H         D           Z\n",
       "114   poker 2019-09-05 00:00:00       7.0  12041.2469 -725.4750  54132.6781\n",
       "115   poker 2019-09-05 00:00:00       0.0  12145.4250 -712.6781  54156.9813\n",
       "116   poker 2019-09-05 06:00:00       6.0  12231.3625 -668.1562  54082.5250\n",
       "117   poker 2019-09-05 12:00:00      12.0  12106.7250 -697.2969  54049.3250\n",
       "118   poker 2019-09-05 18:00:00      18.0  12144.8219 -681.6250  54146.2031"
      ]
     },
     "execution_count": 24,
     "metadata": {},
     "output_type": "execute_result"
    }
   ],
   "source": [
    "df2.tail()"
   ]
  },
  {
   "cell_type": "code",
   "execution_count": 25,
   "id": "265b57b8",
   "metadata": {},
   "outputs": [
    {
     "data": {
      "text/plain": [
       "station             object\n",
       "date        datetime64[ns]\n",
       "dec_time           float64\n",
       "H                  float64\n",
       "D                  float64\n",
       "Z                  float64\n",
       "dtype: object"
      ]
     },
     "execution_count": 25,
     "metadata": {},
     "output_type": "execute_result"
    }
   ],
   "source": [
    "df2.dtypes"
   ]
  },
  {
   "cell_type": "markdown",
   "id": "12644e63",
   "metadata": {},
   "source": [
    "To get the total value of the magnetic field, it is necessary to take the square root of the sum of the squares of the magnetic coordinates H, D, Z."
   ]
  },
  {
   "cell_type": "code",
   "execution_count": 26,
   "id": "79ff0aee",
   "metadata": {},
   "outputs": [
    {
     "data": {
      "text/html": [
       "<div>\n",
       "<style scoped>\n",
       "    .dataframe tbody tr th:only-of-type {\n",
       "        vertical-align: middle;\n",
       "    }\n",
       "\n",
       "    .dataframe tbody tr th {\n",
       "        vertical-align: top;\n",
       "    }\n",
       "\n",
       "    .dataframe thead th {\n",
       "        text-align: right;\n",
       "    }\n",
       "</style>\n",
       "<table border=\"1\" class=\"dataframe\">\n",
       "  <thead>\n",
       "    <tr style=\"text-align: right;\">\n",
       "      <th></th>\n",
       "      <th>station</th>\n",
       "      <th>date</th>\n",
       "      <th>dec_time</th>\n",
       "      <th>H</th>\n",
       "      <th>D</th>\n",
       "      <th>Z</th>\n",
       "      <th>M</th>\n",
       "    </tr>\n",
       "  </thead>\n",
       "  <tbody>\n",
       "    <tr>\n",
       "      <th>0</th>\n",
       "      <td>eagle</td>\n",
       "      <td>2019-09-01 00:00:00</td>\n",
       "      <td>23.0</td>\n",
       "      <td>12687.9656</td>\n",
       "      <td>-270.7750</td>\n",
       "      <td>54771.4625</td>\n",
       "      <td>56222.512347</td>\n",
       "    </tr>\n",
       "    <tr>\n",
       "      <th>1</th>\n",
       "      <td>eagle</td>\n",
       "      <td>2019-09-01 00:00:00</td>\n",
       "      <td>0.0</td>\n",
       "      <td>12664.8531</td>\n",
       "      <td>-311.8000</td>\n",
       "      <td>54759.7938</td>\n",
       "      <td>56206.145040</td>\n",
       "    </tr>\n",
       "    <tr>\n",
       "      <th>2</th>\n",
       "      <td>eagle</td>\n",
       "      <td>2019-09-01 06:00:00</td>\n",
       "      <td>6.0</td>\n",
       "      <td>12363.4469</td>\n",
       "      <td>-300.4156</td>\n",
       "      <td>54402.7281</td>\n",
       "      <td>55790.697195</td>\n",
       "    </tr>\n",
       "    <tr>\n",
       "      <th>3</th>\n",
       "      <td>eagle</td>\n",
       "      <td>2019-09-01 12:00:00</td>\n",
       "      <td>12.0</td>\n",
       "      <td>11080.5125</td>\n",
       "      <td>-552.9813</td>\n",
       "      <td>55025.2688</td>\n",
       "      <td>56132.555189</td>\n",
       "    </tr>\n",
       "    <tr>\n",
       "      <th>4</th>\n",
       "      <td>eagle</td>\n",
       "      <td>2019-09-01 18:00:00</td>\n",
       "      <td>18.0</td>\n",
       "      <td>12390.4969</td>\n",
       "      <td>-240.7406</td>\n",
       "      <td>54704.2313</td>\n",
       "      <td>56090.420676</td>\n",
       "    </tr>\n",
       "  </tbody>\n",
       "</table>\n",
       "</div>"
      ],
      "text/plain": [
       "  station                date  dec_time           H         D           Z  \\\n",
       "0   eagle 2019-09-01 00:00:00      23.0  12687.9656 -270.7750  54771.4625   \n",
       "1   eagle 2019-09-01 00:00:00       0.0  12664.8531 -311.8000  54759.7938   \n",
       "2   eagle 2019-09-01 06:00:00       6.0  12363.4469 -300.4156  54402.7281   \n",
       "3   eagle 2019-09-01 12:00:00      12.0  11080.5125 -552.9813  55025.2688   \n",
       "4   eagle 2019-09-01 18:00:00      18.0  12390.4969 -240.7406  54704.2313   \n",
       "\n",
       "              M  \n",
       "0  56222.512347  \n",
       "1  56206.145040  \n",
       "2  55790.697195  \n",
       "3  56132.555189  \n",
       "4  56090.420676  "
      ]
     },
     "execution_count": 26,
     "metadata": {},
     "output_type": "execute_result"
    }
   ],
   "source": [
    "import math\n",
    "df2['M'] = np.sqrt((df2.H**2)+(df2.D**2)+(df2.Z**2))\n",
    "df2.head()"
   ]
  },
  {
   "cell_type": "markdown",
   "id": "53e4bec6",
   "metadata": {},
   "source": [
    "To get a better estimate of the Earth's magnetic field, it is necessary to take the average of the readings from the 5 stations. However, it is apparent that there are differences between the number of observation between the different stations."
   ]
  },
  {
   "cell_type": "code",
   "execution_count": 27,
   "id": "70cdc82c",
   "metadata": {},
   "outputs": [
    {
     "name": "stdout",
     "output_type": "stream",
     "text": [
      "(25, 7)\n",
      "(26, 7)\n",
      "(22, 7)\n",
      "(20, 7)\n",
      "(26, 7)\n"
     ]
    }
   ],
   "source": [
    "stations = ['eagle', 'fortyukon', 'gakona', 'kenai', 'poker']\n",
    "\n",
    "for i in stations:\n",
    "    dfk = df2.loc[df2['station']==i]\n",
    "    print(dfk.shape)"
   ]
  },
  {
   "cell_type": "code",
   "execution_count": 28,
   "id": "6fee4506",
   "metadata": {},
   "outputs": [
    {
     "data": {
      "text/html": [
       "<div>\n",
       "<style scoped>\n",
       "    .dataframe tbody tr th:only-of-type {\n",
       "        vertical-align: middle;\n",
       "    }\n",
       "\n",
       "    .dataframe tbody tr th {\n",
       "        vertical-align: top;\n",
       "    }\n",
       "\n",
       "    .dataframe thead th {\n",
       "        text-align: right;\n",
       "    }\n",
       "</style>\n",
       "<table border=\"1\" class=\"dataframe\">\n",
       "  <thead>\n",
       "    <tr style=\"text-align: right;\">\n",
       "      <th></th>\n",
       "      <th>station</th>\n",
       "      <th>date</th>\n",
       "      <th>dec_time</th>\n",
       "      <th>H</th>\n",
       "      <th>D</th>\n",
       "      <th>Z</th>\n",
       "      <th>M</th>\n",
       "    </tr>\n",
       "  </thead>\n",
       "  <tbody>\n",
       "    <tr>\n",
       "      <th>78</th>\n",
       "      <td>fortyukon</td>\n",
       "      <td>2019-09-04</td>\n",
       "      <td>0.0</td>\n",
       "      <td>11270.5312</td>\n",
       "      <td>203.1656</td>\n",
       "      <td>54769.0906</td>\n",
       "      <td>55917.076416</td>\n",
       "    </tr>\n",
       "  </tbody>\n",
       "</table>\n",
       "</div>"
      ],
      "text/plain": [
       "      station       date  dec_time           H         D           Z  \\\n",
       "78  fortyukon 2019-09-04       0.0  11270.5312  203.1656  54769.0906   \n",
       "\n",
       "               M  \n",
       "78  55917.076416  "
      ]
     },
     "execution_count": 28,
     "metadata": {},
     "output_type": "execute_result"
    }
   ],
   "source": [
    "#identify duplicate rows\n",
    "duplicateRows = df2[df2.duplicated()]\n",
    "\n",
    "#view duplicate rows\n",
    "duplicateRows"
   ]
  },
  {
   "cell_type": "code",
   "execution_count": 29,
   "id": "2fce7a4f",
   "metadata": {},
   "outputs": [
    {
     "data": {
      "text/plain": [
       "(119, 7)"
      ]
     },
     "execution_count": 29,
     "metadata": {},
     "output_type": "execute_result"
    }
   ],
   "source": [
    "df2.shape"
   ]
  },
  {
   "cell_type": "code",
   "execution_count": 30,
   "id": "f6911ba8",
   "metadata": {},
   "outputs": [
    {
     "data": {
      "text/plain": [
       "(118, 7)"
      ]
     },
     "execution_count": 30,
     "metadata": {},
     "output_type": "execute_result"
    }
   ],
   "source": [
    "df2 = df2.drop_duplicates()\n",
    "df2.shape"
   ]
  },
  {
   "cell_type": "markdown",
   "id": "890dfbee",
   "metadata": {},
   "source": [
    "After duplicate rows are removed the length of the different datasets for each station are more even, but not completely so. This suggests that the timing of the dataframes are not totally aligned somehow. However, since we are taking an average based on time, this misalignment should not cause a problem."
   ]
  },
  {
   "cell_type": "code",
   "execution_count": 32,
   "id": "137010a8",
   "metadata": {},
   "outputs": [
    {
     "name": "stdout",
     "output_type": "stream",
     "text": [
      "(25, 7)\n",
      "(25, 7)\n",
      "(22, 7)\n",
      "(20, 7)\n",
      "(26, 7)\n"
     ]
    }
   ],
   "source": [
    "stations = ['eagle', 'fortyukon', 'gakona', 'kenai', 'poker']\n",
    "\n",
    "for i in stations:\n",
    "    dfk = df2.loc[df2['station']==i]\n",
    "    print(dfk.shape)"
   ]
  },
  {
   "cell_type": "code",
   "execution_count": 34,
   "id": "8d7256e6",
   "metadata": {},
   "outputs": [],
   "source": [
    "cols = ['station']\n",
    "df4 = df2.drop(cols, axis=1)"
   ]
  },
  {
   "cell_type": "code",
   "execution_count": 35,
   "id": "6129412d",
   "metadata": {},
   "outputs": [
    {
     "data": {
      "text/html": [
       "<div>\n",
       "<style scoped>\n",
       "    .dataframe tbody tr th:only-of-type {\n",
       "        vertical-align: middle;\n",
       "    }\n",
       "\n",
       "    .dataframe tbody tr th {\n",
       "        vertical-align: top;\n",
       "    }\n",
       "\n",
       "    .dataframe thead th {\n",
       "        text-align: right;\n",
       "    }\n",
       "</style>\n",
       "<table border=\"1\" class=\"dataframe\">\n",
       "  <thead>\n",
       "    <tr style=\"text-align: right;\">\n",
       "      <th></th>\n",
       "      <th>dec_time</th>\n",
       "      <th>H</th>\n",
       "      <th>D</th>\n",
       "      <th>Z</th>\n",
       "      <th>M</th>\n",
       "    </tr>\n",
       "    <tr>\n",
       "      <th>date</th>\n",
       "      <th></th>\n",
       "      <th></th>\n",
       "      <th></th>\n",
       "      <th></th>\n",
       "      <th></th>\n",
       "    </tr>\n",
       "  </thead>\n",
       "  <tbody>\n",
       "    <tr>\n",
       "      <th>2019-09-01 00:00:00</th>\n",
       "      <td>8.375000</td>\n",
       "      <td>12824.369913</td>\n",
       "      <td>102.121100</td>\n",
       "      <td>54166.492600</td>\n",
       "      <td>55697.225583</td>\n",
       "    </tr>\n",
       "    <tr>\n",
       "      <th>2019-09-01 06:00:00</th>\n",
       "      <td>6.000000</td>\n",
       "      <td>13166.701260</td>\n",
       "      <td>341.249380</td>\n",
       "      <td>53726.941240</td>\n",
       "      <td>55364.574831</td>\n",
       "    </tr>\n",
       "    <tr>\n",
       "      <th>2019-09-01 12:00:00</th>\n",
       "      <td>12.000000</td>\n",
       "      <td>12186.716260</td>\n",
       "      <td>-10.039380</td>\n",
       "      <td>53951.993140</td>\n",
       "      <td>55369.905969</td>\n",
       "    </tr>\n",
       "    <tr>\n",
       "      <th>2019-09-01 18:00:00</th>\n",
       "      <td>18.000000</td>\n",
       "      <td>13084.516260</td>\n",
       "      <td>363.845020</td>\n",
       "      <td>53880.073140</td>\n",
       "      <td>55492.730673</td>\n",
       "    </tr>\n",
       "    <tr>\n",
       "      <th>2019-09-02 00:00:00</th>\n",
       "      <td>7.444444</td>\n",
       "      <td>12917.238200</td>\n",
       "      <td>398.679178</td>\n",
       "      <td>54138.916344</td>\n",
       "      <td>55696.435167</td>\n",
       "    </tr>\n",
       "  </tbody>\n",
       "</table>\n",
       "</div>"
      ],
      "text/plain": [
       "                      dec_time             H           D             Z  \\\n",
       "date                                                                     \n",
       "2019-09-01 00:00:00   8.375000  12824.369913  102.121100  54166.492600   \n",
       "2019-09-01 06:00:00   6.000000  13166.701260  341.249380  53726.941240   \n",
       "2019-09-01 12:00:00  12.000000  12186.716260  -10.039380  53951.993140   \n",
       "2019-09-01 18:00:00  18.000000  13084.516260  363.845020  53880.073140   \n",
       "2019-09-02 00:00:00   7.444444  12917.238200  398.679178  54138.916344   \n",
       "\n",
       "                                M  \n",
       "date                               \n",
       "2019-09-01 00:00:00  55697.225583  \n",
       "2019-09-01 06:00:00  55364.574831  \n",
       "2019-09-01 12:00:00  55369.905969  \n",
       "2019-09-01 18:00:00  55492.730673  \n",
       "2019-09-02 00:00:00  55696.435167  "
      ]
     },
     "execution_count": 35,
     "metadata": {},
     "output_type": "execute_result"
    }
   ],
   "source": [
    "df5 = df4.groupby('date').mean()\n",
    "df5.head()"
   ]
  },
  {
   "cell_type": "markdown",
   "id": "d8cbec53",
   "metadata": {},
   "source": [
    "Our final dataset for the magnetic fields with all 5 stations averaged."
   ]
  },
  {
   "cell_type": "code",
   "execution_count": 36,
   "id": "ceac959e",
   "metadata": {},
   "outputs": [
    {
     "data": {
      "text/html": [
       "<div>\n",
       "<style scoped>\n",
       "    .dataframe tbody tr th:only-of-type {\n",
       "        vertical-align: middle;\n",
       "    }\n",
       "\n",
       "    .dataframe tbody tr th {\n",
       "        vertical-align: top;\n",
       "    }\n",
       "\n",
       "    .dataframe thead th {\n",
       "        text-align: right;\n",
       "    }\n",
       "</style>\n",
       "<table border=\"1\" class=\"dataframe\">\n",
       "  <thead>\n",
       "    <tr style=\"text-align: right;\">\n",
       "      <th></th>\n",
       "      <th>date</th>\n",
       "      <th>dec_time</th>\n",
       "      <th>H</th>\n",
       "      <th>D</th>\n",
       "      <th>Z</th>\n",
       "      <th>M</th>\n",
       "    </tr>\n",
       "  </thead>\n",
       "  <tbody>\n",
       "    <tr>\n",
       "      <th>0</th>\n",
       "      <td>2019-09-01 00:00:00</td>\n",
       "      <td>8.375000</td>\n",
       "      <td>12824.369913</td>\n",
       "      <td>102.121100</td>\n",
       "      <td>54166.492600</td>\n",
       "      <td>55697.225583</td>\n",
       "    </tr>\n",
       "    <tr>\n",
       "      <th>1</th>\n",
       "      <td>2019-09-01 06:00:00</td>\n",
       "      <td>6.000000</td>\n",
       "      <td>13166.701260</td>\n",
       "      <td>341.249380</td>\n",
       "      <td>53726.941240</td>\n",
       "      <td>55364.574831</td>\n",
       "    </tr>\n",
       "    <tr>\n",
       "      <th>2</th>\n",
       "      <td>2019-09-01 12:00:00</td>\n",
       "      <td>12.000000</td>\n",
       "      <td>12186.716260</td>\n",
       "      <td>-10.039380</td>\n",
       "      <td>53951.993140</td>\n",
       "      <td>55369.905969</td>\n",
       "    </tr>\n",
       "    <tr>\n",
       "      <th>3</th>\n",
       "      <td>2019-09-01 18:00:00</td>\n",
       "      <td>18.000000</td>\n",
       "      <td>13084.516260</td>\n",
       "      <td>363.845020</td>\n",
       "      <td>53880.073140</td>\n",
       "      <td>55492.730673</td>\n",
       "    </tr>\n",
       "    <tr>\n",
       "      <th>4</th>\n",
       "      <td>2019-09-02 00:00:00</td>\n",
       "      <td>7.444444</td>\n",
       "      <td>12917.238200</td>\n",
       "      <td>398.679178</td>\n",
       "      <td>54138.916344</td>\n",
       "      <td>55696.435167</td>\n",
       "    </tr>\n",
       "  </tbody>\n",
       "</table>\n",
       "</div>"
      ],
      "text/plain": [
       "                 date   dec_time             H           D             Z  \\\n",
       "0 2019-09-01 00:00:00   8.375000  12824.369913  102.121100  54166.492600   \n",
       "1 2019-09-01 06:00:00   6.000000  13166.701260  341.249380  53726.941240   \n",
       "2 2019-09-01 12:00:00  12.000000  12186.716260  -10.039380  53951.993140   \n",
       "3 2019-09-01 18:00:00  18.000000  13084.516260  363.845020  53880.073140   \n",
       "4 2019-09-02 00:00:00   7.444444  12917.238200  398.679178  54138.916344   \n",
       "\n",
       "              M  \n",
       "0  55697.225583  \n",
       "1  55364.574831  \n",
       "2  55369.905969  \n",
       "3  55492.730673  \n",
       "4  55696.435167  "
      ]
     },
     "execution_count": 36,
     "metadata": {},
     "output_type": "execute_result"
    }
   ],
   "source": [
    "df5 = df5.reset_index()\n",
    "df5.head()"
   ]
  },
  {
   "cell_type": "code",
   "execution_count": 26,
   "id": "76f8ed1a",
   "metadata": {},
   "outputs": [
    {
     "name": "stdout",
     "output_type": "stream",
     "text": [
      "4\n",
      "False\n"
     ]
    }
   ],
   "source": [
    "test = ['1', '2', '3']\n",
    "\n",
    "u = input()\n",
    "if u in test:\n",
    "    print('True')\n",
    "else:\n",
    "    print('False')"
   ]
  },
  {
   "cell_type": "code",
   "execution_count": 28,
   "id": "19d61682",
   "metadata": {},
   "outputs": [],
   "source": [
    "df5.to_csv('magnetic_alaska.csv', index=False)"
   ]
  },
  {
   "cell_type": "markdown",
   "id": "34241771",
   "metadata": {},
   "source": [
    "## Test run for the above code."
   ]
  },
  {
   "cell_type": "code",
   "execution_count": 165,
   "id": "5715c53b",
   "metadata": {},
   "outputs": [],
   "source": [
    "url = 'https://www.gi.alaska.edu/api/magnetometer/DATA/www/2019/08/24/kenai/kenai_2019_08_24.csv.tar.gz'\n",
    "csv = urlopen(url)\n",
    "\n",
    "df = pd.read_csv(csv, compression='gzip', header=None, sep=',', on_bad_lines='skip')"
   ]
  },
  {
   "cell_type": "code",
   "execution_count": 166,
   "id": "9612f739",
   "metadata": {},
   "outputs": [
    {
     "data": {
      "text/html": [
       "<div>\n",
       "<style scoped>\n",
       "    .dataframe tbody tr th:only-of-type {\n",
       "        vertical-align: middle;\n",
       "    }\n",
       "\n",
       "    .dataframe tbody tr th {\n",
       "        vertical-align: top;\n",
       "    }\n",
       "\n",
       "    .dataframe thead th {\n",
       "        text-align: right;\n",
       "    }\n",
       "</style>\n",
       "<table border=\"1\" class=\"dataframe\">\n",
       "  <thead>\n",
       "    <tr style=\"text-align: right;\">\n",
       "      <th></th>\n",
       "      <th>0</th>\n",
       "      <th>1</th>\n",
       "      <th>2</th>\n",
       "      <th>3</th>\n",
       "      <th>4</th>\n",
       "    </tr>\n",
       "  </thead>\n",
       "  <tbody>\n",
       "    <tr>\n",
       "      <th>0</th>\n",
       "      <td>kenai_2019_08_24_00.csv</td>\n",
       "      <td>0.000000</td>\n",
       "      <td>16097.4875</td>\n",
       "      <td>-347.7219</td>\n",
       "      <td>52090.6750</td>\n",
       "    </tr>\n",
       "    <tr>\n",
       "      <th>1</th>\n",
       "      <td>00:00:01</td>\n",
       "      <td>0.000278</td>\n",
       "      <td>16097.6719</td>\n",
       "      <td>-348.2281</td>\n",
       "      <td>52090.6000</td>\n",
       "    </tr>\n",
       "    <tr>\n",
       "      <th>2</th>\n",
       "      <td>00:00:02</td>\n",
       "      <td>0.000556</td>\n",
       "      <td>16097.9656</td>\n",
       "      <td>-349.0500</td>\n",
       "      <td>52090.5063</td>\n",
       "    </tr>\n",
       "    <tr>\n",
       "      <th>3</th>\n",
       "      <td>00:00:03</td>\n",
       "      <td>0.000833</td>\n",
       "      <td>16097.7812</td>\n",
       "      <td>-348.3438</td>\n",
       "      <td>52090.5688</td>\n",
       "    </tr>\n",
       "    <tr>\n",
       "      <th>4</th>\n",
       "      <td>00:00:04</td>\n",
       "      <td>0.001111</td>\n",
       "      <td>16098.0094</td>\n",
       "      <td>-348.7625</td>\n",
       "      <td>52090.4719</td>\n",
       "    </tr>\n",
       "  </tbody>\n",
       "</table>\n",
       "</div>"
      ],
      "text/plain": [
       "                         0         1           2         3           4\n",
       "0  kenai_2019_08_24_00.csv  0.000000  16097.4875 -347.7219  52090.6750\n",
       "1                 00:00:01  0.000278  16097.6719 -348.2281  52090.6000\n",
       "2                 00:00:02  0.000556  16097.9656 -349.0500  52090.5063\n",
       "3                 00:00:03  0.000833  16097.7812 -348.3438  52090.5688\n",
       "4                 00:00:04  0.001111  16098.0094 -348.7625  52090.4719"
      ]
     },
     "execution_count": 166,
     "metadata": {},
     "output_type": "execute_result"
    }
   ],
   "source": [
    "df.head()"
   ]
  },
  {
   "cell_type": "code",
   "execution_count": 167,
   "id": "ac693a6f",
   "metadata": {},
   "outputs": [
    {
     "data": {
      "text/plain": [
       "0     object\n",
       "1    float64\n",
       "2    float64\n",
       "3    float64\n",
       "4    float64\n",
       "dtype: object"
      ]
     },
     "execution_count": 167,
     "metadata": {},
     "output_type": "execute_result"
    }
   ],
   "source": [
    "df[1:].dtypes"
   ]
  },
  {
   "cell_type": "code",
   "execution_count": 43,
   "id": "5ed96cf2",
   "metadata": {},
   "outputs": [
    {
     "data": {
      "text/html": [
       "<div>\n",
       "<style scoped>\n",
       "    .dataframe tbody tr th:only-of-type {\n",
       "        vertical-align: middle;\n",
       "    }\n",
       "\n",
       "    .dataframe tbody tr th {\n",
       "        vertical-align: top;\n",
       "    }\n",
       "\n",
       "    .dataframe thead th {\n",
       "        text-align: right;\n",
       "    }\n",
       "</style>\n",
       "<table border=\"1\" class=\"dataframe\">\n",
       "  <thead>\n",
       "    <tr style=\"text-align: right;\">\n",
       "      <th></th>\n",
       "      <th>0</th>\n",
       "      <th>1</th>\n",
       "      <th>2</th>\n",
       "      <th>3</th>\n",
       "      <th>4</th>\n",
       "    </tr>\n",
       "  </thead>\n",
       "  <tbody>\n",
       "    <tr>\n",
       "      <th>1198</th>\n",
       "      <td>23:19:57</td>\n",
       "      <td>23.332500</td>\n",
       "      <td>12158.9188</td>\n",
       "      <td>-720.0844</td>\n",
       "      <td>54163.9656</td>\n",
       "    </tr>\n",
       "    <tr>\n",
       "      <th>1199</th>\n",
       "      <td>23:19:58</td>\n",
       "      <td>23.332778</td>\n",
       "      <td>12158.9938</td>\n",
       "      <td>-720.1156</td>\n",
       "      <td>54163.9531</td>\n",
       "    </tr>\n",
       "    <tr>\n",
       "      <th>1200</th>\n",
       "      <td>23:19:59</td>\n",
       "      <td>23.333056</td>\n",
       "      <td>12159.0125</td>\n",
       "      <td>-720.1563</td>\n",
       "      <td>54163.9594</td>\n",
       "    </tr>\n",
       "    <tr>\n",
       "      <th>1201</th>\n",
       "      <td>23:20:00</td>\n",
       "      <td>23.333333</td>\n",
       "      <td>12159.1063</td>\n",
       "      <td>-720.1500</td>\n",
       "      <td>54163.9625</td>\n",
       "    </tr>\n",
       "    <tr>\n",
       "      <th>1202</th>\n",
       "      <td>23:20:01</td>\n",
       "      <td>23.333611</td>\n",
       "      <td>12159.1594</td>\n",
       "      <td>-720.1219</td>\n",
       "      <td>54163.9781</td>\n",
       "    </tr>\n",
       "    <tr>\n",
       "      <th>...</th>\n",
       "      <td>...</td>\n",
       "      <td>...</td>\n",
       "      <td>...</td>\n",
       "      <td>...</td>\n",
       "      <td>...</td>\n",
       "    </tr>\n",
       "    <tr>\n",
       "      <th>2060</th>\n",
       "      <td>23:34:19</td>\n",
       "      <td>23.571944</td>\n",
       "      <td>12158.4344</td>\n",
       "      <td>-725.1656</td>\n",
       "      <td>54168.7125</td>\n",
       "    </tr>\n",
       "    <tr>\n",
       "      <th>2061</th>\n",
       "      <td>23:34:20</td>\n",
       "      <td>23.572222</td>\n",
       "      <td>12158.3781</td>\n",
       "      <td>-725.1844</td>\n",
       "      <td>54168.7281</td>\n",
       "    </tr>\n",
       "    <tr>\n",
       "      <th>2062</th>\n",
       "      <td>23:34:21</td>\n",
       "      <td>23.572500</td>\n",
       "      <td>12158.3313</td>\n",
       "      <td>-725.1875</td>\n",
       "      <td>54168.7938</td>\n",
       "    </tr>\n",
       "    <tr>\n",
       "      <th>2063</th>\n",
       "      <td>23:34:22</td>\n",
       "      <td>23.572778</td>\n",
       "      <td>12158.2688</td>\n",
       "      <td>-725.2313</td>\n",
       "      <td>54168.8313</td>\n",
       "    </tr>\n",
       "    <tr>\n",
       "      <th>2064</th>\n",
       "      <td>23:34:23</td>\n",
       "      <td>23.573056</td>\n",
       "      <td>12158.2313</td>\n",
       "      <td>-725.2844</td>\n",
       "      <td>54168.8906</td>\n",
       "    </tr>\n",
       "  </tbody>\n",
       "</table>\n",
       "<p>867 rows × 5 columns</p>\n",
       "</div>"
      ],
      "text/plain": [
       "             0          1           2         3           4\n",
       "1198  23:19:57  23.332500  12158.9188 -720.0844  54163.9656\n",
       "1199  23:19:58  23.332778  12158.9938 -720.1156  54163.9531\n",
       "1200  23:19:59  23.333056  12159.0125 -720.1563  54163.9594\n",
       "1201  23:20:00  23.333333  12159.1063 -720.1500  54163.9625\n",
       "1202  23:20:01  23.333611  12159.1594 -720.1219  54163.9781\n",
       "...        ...        ...         ...       ...         ...\n",
       "2060  23:34:19  23.571944  12158.4344 -725.1656  54168.7125\n",
       "2061  23:34:20  23.572222  12158.3781 -725.1844  54168.7281\n",
       "2062  23:34:21  23.572500  12158.3313 -725.1875  54168.7938\n",
       "2063  23:34:22  23.572778  12158.2688 -725.2313  54168.8313\n",
       "2064  23:34:23  23.573056  12158.2313 -725.2844  54168.8906\n",
       "\n",
       "[867 rows x 5 columns]"
      ]
     },
     "execution_count": 43,
     "metadata": {},
     "output_type": "execute_result"
    }
   ],
   "source": [
    "df[1198:2065]"
   ]
  },
  {
   "cell_type": "code",
   "execution_count": null,
   "id": "54d3cedc",
   "metadata": {},
   "outputs": [],
   "source": [
    "datetime.strptime(df[], '%Y%m%d')"
   ]
  },
  {
   "cell_type": "code",
   "execution_count": 133,
   "id": "b0bc57f9",
   "metadata": {},
   "outputs": [
    {
     "data": {
      "text/html": [
       "<div>\n",
       "<style scoped>\n",
       "    .dataframe tbody tr th:only-of-type {\n",
       "        vertical-align: middle;\n",
       "    }\n",
       "\n",
       "    .dataframe tbody tr th {\n",
       "        vertical-align: top;\n",
       "    }\n",
       "\n",
       "    .dataframe thead th {\n",
       "        text-align: right;\n",
       "    }\n",
       "</style>\n",
       "<table border=\"1\" class=\"dataframe\">\n",
       "  <thead>\n",
       "    <tr style=\"text-align: right;\">\n",
       "      <th></th>\n",
       "      <th>time</th>\n",
       "      <th>decimal_time</th>\n",
       "      <th>H</th>\n",
       "      <th>D</th>\n",
       "      <th>Z</th>\n",
       "    </tr>\n",
       "  </thead>\n",
       "  <tbody>\n",
       "    <tr>\n",
       "      <th>0</th>\n",
       "      <td>kenai_2019_08_24_00.csv</td>\n",
       "      <td>0.000000</td>\n",
       "      <td>16097.4875</td>\n",
       "      <td>-347.7219</td>\n",
       "      <td>52090.6750</td>\n",
       "    </tr>\n",
       "    <tr>\n",
       "      <th>1</th>\n",
       "      <td>00:00:01</td>\n",
       "      <td>0.000278</td>\n",
       "      <td>16097.6719</td>\n",
       "      <td>-348.2281</td>\n",
       "      <td>52090.6000</td>\n",
       "    </tr>\n",
       "    <tr>\n",
       "      <th>2</th>\n",
       "      <td>00:00:02</td>\n",
       "      <td>0.000556</td>\n",
       "      <td>16097.9656</td>\n",
       "      <td>-349.0500</td>\n",
       "      <td>52090.5063</td>\n",
       "    </tr>\n",
       "    <tr>\n",
       "      <th>3</th>\n",
       "      <td>00:00:03</td>\n",
       "      <td>0.000833</td>\n",
       "      <td>16097.7812</td>\n",
       "      <td>-348.3438</td>\n",
       "      <td>52090.5688</td>\n",
       "    </tr>\n",
       "    <tr>\n",
       "      <th>4</th>\n",
       "      <td>00:00:04</td>\n",
       "      <td>0.001111</td>\n",
       "      <td>16098.0094</td>\n",
       "      <td>-348.7625</td>\n",
       "      <td>52090.4719</td>\n",
       "    </tr>\n",
       "    <tr>\n",
       "      <th>...</th>\n",
       "      <td>...</td>\n",
       "      <td>...</td>\n",
       "      <td>...</td>\n",
       "      <td>...</td>\n",
       "      <td>...</td>\n",
       "    </tr>\n",
       "    <tr>\n",
       "      <th>172842</th>\n",
       "      <td>23:59:56</td>\n",
       "      <td>23.998889</td>\n",
       "      <td>16103.4844</td>\n",
       "      <td>-351.4844</td>\n",
       "      <td>52091.3625</td>\n",
       "    </tr>\n",
       "    <tr>\n",
       "      <th>172843</th>\n",
       "      <td>23:59:57</td>\n",
       "      <td>23.999167</td>\n",
       "      <td>16103.4531</td>\n",
       "      <td>-351.4500</td>\n",
       "      <td>52091.3719</td>\n",
       "    </tr>\n",
       "    <tr>\n",
       "      <th>172844</th>\n",
       "      <td>23:59:58</td>\n",
       "      <td>23.999444</td>\n",
       "      <td>16103.4750</td>\n",
       "      <td>-351.4438</td>\n",
       "      <td>52091.3969</td>\n",
       "    </tr>\n",
       "    <tr>\n",
       "      <th>172845</th>\n",
       "      <td>23:59:59</td>\n",
       "      <td>23.999722</td>\n",
       "      <td>16103.5406</td>\n",
       "      <td>-351.5063</td>\n",
       "      <td>52091.4094</td>\n",
       "    </tr>\n",
       "    <tr>\n",
       "      <th>172846</th>\n",
       "      <td>NaN</td>\n",
       "      <td>NaN</td>\n",
       "      <td>NaN</td>\n",
       "      <td>NaN</td>\n",
       "      <td>NaN</td>\n",
       "    </tr>\n",
       "  </tbody>\n",
       "</table>\n",
       "<p>172847 rows × 5 columns</p>\n",
       "</div>"
      ],
      "text/plain": [
       "                           time  decimal_time           H         D  \\\n",
       "0       kenai_2019_08_24_00.csv      0.000000  16097.4875 -347.7219   \n",
       "1                      00:00:01      0.000278  16097.6719 -348.2281   \n",
       "2                      00:00:02      0.000556  16097.9656 -349.0500   \n",
       "3                      00:00:03      0.000833  16097.7812 -348.3438   \n",
       "4                      00:00:04      0.001111  16098.0094 -348.7625   \n",
       "...                         ...           ...         ...       ...   \n",
       "172842                 23:59:56     23.998889  16103.4844 -351.4844   \n",
       "172843                 23:59:57     23.999167  16103.4531 -351.4500   \n",
       "172844                 23:59:58     23.999444  16103.4750 -351.4438   \n",
       "172845                 23:59:59     23.999722  16103.5406 -351.5063   \n",
       "172846                      NaN           NaN         NaN       NaN   \n",
       "\n",
       "                 Z  \n",
       "0       52090.6750  \n",
       "1       52090.6000  \n",
       "2       52090.5063  \n",
       "3       52090.5688  \n",
       "4       52090.4719  \n",
       "...            ...  \n",
       "172842  52091.3625  \n",
       "172843  52091.3719  \n",
       "172844  52091.3969  \n",
       "172845  52091.4094  \n",
       "172846         NaN  \n",
       "\n",
       "[172847 rows x 5 columns]"
      ]
     },
     "execution_count": 133,
     "metadata": {},
     "output_type": "execute_result"
    }
   ],
   "source": [
    "df.columns = ['time', 'decimal_time', 'H', 'D', 'Z']\n",
    "df"
   ]
  },
  {
   "cell_type": "code",
   "execution_count": 168,
   "id": "3003286d",
   "metadata": {},
   "outputs": [
    {
     "data": {
      "text/html": [
       "<div>\n",
       "<style scoped>\n",
       "    .dataframe tbody tr th:only-of-type {\n",
       "        vertical-align: middle;\n",
       "    }\n",
       "\n",
       "    .dataframe tbody tr th {\n",
       "        vertical-align: top;\n",
       "    }\n",
       "\n",
       "    .dataframe thead th {\n",
       "        text-align: right;\n",
       "    }\n",
       "</style>\n",
       "<table border=\"1\" class=\"dataframe\">\n",
       "  <thead>\n",
       "    <tr style=\"text-align: right;\">\n",
       "      <th></th>\n",
       "      <th>0</th>\n",
       "      <th>1</th>\n",
       "      <th>2</th>\n",
       "      <th>3</th>\n",
       "      <th>4</th>\n",
       "    </tr>\n",
       "  </thead>\n",
       "  <tbody>\n",
       "    <tr>\n",
       "      <th>0</th>\n",
       "      <td>kenai_2019_08_24_00.csv</td>\n",
       "      <td>0.000000</td>\n",
       "      <td>16097.4875</td>\n",
       "      <td>-347.7219</td>\n",
       "      <td>52090.6750</td>\n",
       "    </tr>\n",
       "    <tr>\n",
       "      <th>1</th>\n",
       "      <td>00:00:01</td>\n",
       "      <td>0.000278</td>\n",
       "      <td>16097.6719</td>\n",
       "      <td>-348.2281</td>\n",
       "      <td>52090.6000</td>\n",
       "    </tr>\n",
       "    <tr>\n",
       "      <th>2</th>\n",
       "      <td>00:00:02</td>\n",
       "      <td>0.000556</td>\n",
       "      <td>16097.9656</td>\n",
       "      <td>-349.0500</td>\n",
       "      <td>52090.5063</td>\n",
       "    </tr>\n",
       "    <tr>\n",
       "      <th>3</th>\n",
       "      <td>00:00:03</td>\n",
       "      <td>0.000833</td>\n",
       "      <td>16097.7812</td>\n",
       "      <td>-348.3438</td>\n",
       "      <td>52090.5688</td>\n",
       "    </tr>\n",
       "    <tr>\n",
       "      <th>4</th>\n",
       "      <td>00:00:04</td>\n",
       "      <td>0.001111</td>\n",
       "      <td>16098.0094</td>\n",
       "      <td>-348.7625</td>\n",
       "      <td>52090.4719</td>\n",
       "    </tr>\n",
       "    <tr>\n",
       "      <th>...</th>\n",
       "      <td>...</td>\n",
       "      <td>...</td>\n",
       "      <td>...</td>\n",
       "      <td>...</td>\n",
       "      <td>...</td>\n",
       "    </tr>\n",
       "    <tr>\n",
       "      <th>172841</th>\n",
       "      <td>23:59:55</td>\n",
       "      <td>23.998611</td>\n",
       "      <td>16103.5594</td>\n",
       "      <td>-351.8031</td>\n",
       "      <td>52091.3219</td>\n",
       "    </tr>\n",
       "    <tr>\n",
       "      <th>172842</th>\n",
       "      <td>23:59:56</td>\n",
       "      <td>23.998889</td>\n",
       "      <td>16103.4844</td>\n",
       "      <td>-351.4844</td>\n",
       "      <td>52091.3625</td>\n",
       "    </tr>\n",
       "    <tr>\n",
       "      <th>172843</th>\n",
       "      <td>23:59:57</td>\n",
       "      <td>23.999167</td>\n",
       "      <td>16103.4531</td>\n",
       "      <td>-351.4500</td>\n",
       "      <td>52091.3719</td>\n",
       "    </tr>\n",
       "    <tr>\n",
       "      <th>172844</th>\n",
       "      <td>23:59:58</td>\n",
       "      <td>23.999444</td>\n",
       "      <td>16103.4750</td>\n",
       "      <td>-351.4438</td>\n",
       "      <td>52091.3969</td>\n",
       "    </tr>\n",
       "    <tr>\n",
       "      <th>172845</th>\n",
       "      <td>23:59:59</td>\n",
       "      <td>23.999722</td>\n",
       "      <td>16103.5406</td>\n",
       "      <td>-351.5063</td>\n",
       "      <td>52091.4094</td>\n",
       "    </tr>\n",
       "  </tbody>\n",
       "</table>\n",
       "<p>172822 rows × 5 columns</p>\n",
       "</div>"
      ],
      "text/plain": [
       "                              0          1           2         3           4\n",
       "0       kenai_2019_08_24_00.csv   0.000000  16097.4875 -347.7219  52090.6750\n",
       "1                      00:00:01   0.000278  16097.6719 -348.2281  52090.6000\n",
       "2                      00:00:02   0.000556  16097.9656 -349.0500  52090.5063\n",
       "3                      00:00:03   0.000833  16097.7812 -348.3438  52090.5688\n",
       "4                      00:00:04   0.001111  16098.0094 -348.7625  52090.4719\n",
       "...                         ...        ...         ...       ...         ...\n",
       "172841                 23:59:55  23.998611  16103.5594 -351.8031  52091.3219\n",
       "172842                 23:59:56  23.998889  16103.4844 -351.4844  52091.3625\n",
       "172843                 23:59:57  23.999167  16103.4531 -351.4500  52091.3719\n",
       "172844                 23:59:58  23.999444  16103.4750 -351.4438  52091.3969\n",
       "172845                 23:59:59  23.999722  16103.5406 -351.5063  52091.4094\n",
       "\n",
       "[172822 rows x 5 columns]"
      ]
     },
     "execution_count": 168,
     "metadata": {},
     "output_type": "execute_result"
    }
   ],
   "source": [
    "df = df.dropna()\n",
    "df"
   ]
  },
  {
   "cell_type": "code",
   "execution_count": 140,
   "id": "cb2ae4fe",
   "metadata": {},
   "outputs": [
    {
     "name": "stderr",
     "output_type": "stream",
     "text": [
      "/opt/anaconda3/envs/voila2/lib/python3.7/site-packages/ipykernel_launcher.py:7: SettingWithCopyWarning: \n",
      "A value is trying to be set on a copy of a slice from a DataFrame.\n",
      "Try using .loc[row_indexer,col_indexer] = value instead\n",
      "\n",
      "See the caveats in the documentation: https://pandas.pydata.org/pandas-docs/stable/user_guide/indexing.html#returning-a-view-versus-a-copy\n",
      "  import sys\n"
     ]
    },
    {
     "data": {
      "text/html": [
       "<div>\n",
       "<style scoped>\n",
       "    .dataframe tbody tr th:only-of-type {\n",
       "        vertical-align: middle;\n",
       "    }\n",
       "\n",
       "    .dataframe tbody tr th {\n",
       "        vertical-align: top;\n",
       "    }\n",
       "\n",
       "    .dataframe thead th {\n",
       "        text-align: right;\n",
       "    }\n",
       "</style>\n",
       "<table border=\"1\" class=\"dataframe\">\n",
       "  <thead>\n",
       "    <tr style=\"text-align: right;\">\n",
       "      <th></th>\n",
       "      <th>time</th>\n",
       "      <th>decimal_time</th>\n",
       "      <th>H</th>\n",
       "      <th>D</th>\n",
       "      <th>Z</th>\n",
       "      <th>station</th>\n",
       "    </tr>\n",
       "  </thead>\n",
       "  <tbody>\n",
       "    <tr>\n",
       "      <th>0</th>\n",
       "      <td>kenai_2019_08_24_00.csv</td>\n",
       "      <td>0.000000</td>\n",
       "      <td>16097.4875</td>\n",
       "      <td>-347.7219</td>\n",
       "      <td>52090.6750</td>\n",
       "      <td>False</td>\n",
       "    </tr>\n",
       "    <tr>\n",
       "      <th>1</th>\n",
       "      <td>00:00:01</td>\n",
       "      <td>0.000278</td>\n",
       "      <td>16097.6719</td>\n",
       "      <td>-348.2281</td>\n",
       "      <td>52090.6000</td>\n",
       "      <td>True</td>\n",
       "    </tr>\n",
       "    <tr>\n",
       "      <th>2</th>\n",
       "      <td>00:00:02</td>\n",
       "      <td>0.000556</td>\n",
       "      <td>16097.9656</td>\n",
       "      <td>-349.0500</td>\n",
       "      <td>52090.5063</td>\n",
       "      <td>True</td>\n",
       "    </tr>\n",
       "    <tr>\n",
       "      <th>3</th>\n",
       "      <td>00:00:03</td>\n",
       "      <td>0.000833</td>\n",
       "      <td>16097.7812</td>\n",
       "      <td>-348.3438</td>\n",
       "      <td>52090.5688</td>\n",
       "      <td>True</td>\n",
       "    </tr>\n",
       "    <tr>\n",
       "      <th>4</th>\n",
       "      <td>00:00:04</td>\n",
       "      <td>0.001111</td>\n",
       "      <td>16098.0094</td>\n",
       "      <td>-348.7625</td>\n",
       "      <td>52090.4719</td>\n",
       "      <td>True</td>\n",
       "    </tr>\n",
       "  </tbody>\n",
       "</table>\n",
       "</div>"
      ],
      "text/plain": [
       "                      time  decimal_time           H         D           Z  \\\n",
       "0  kenai_2019_08_24_00.csv      0.000000  16097.4875 -347.7219  52090.6750   \n",
       "1                 00:00:01      0.000278  16097.6719 -348.2281  52090.6000   \n",
       "2                 00:00:02      0.000556  16097.9656 -349.0500  52090.5063   \n",
       "3                 00:00:03      0.000833  16097.7812 -348.3438  52090.5688   \n",
       "4                 00:00:04      0.001111  16098.0094 -348.7625  52090.4719   \n",
       "\n",
       "   station  \n",
       "0    False  \n",
       "1     True  \n",
       "2     True  \n",
       "3     True  \n",
       "4     True  "
      ]
     },
     "execution_count": 140,
     "metadata": {},
     "output_type": "execute_result"
    }
   ],
   "source": [
    "station = []\n",
    "for i in df.time:\n",
    "    c = i[:2]\n",
    "    x = c.isnumeric()\n",
    "    station.append(x)\n",
    "    \n",
    "df['station'] = station\n",
    "df.head()"
   ]
  },
  {
   "cell_type": "code",
   "execution_count": 30,
   "id": "8269ca7b",
   "metadata": {},
   "outputs": [
    {
     "ename": "NameError",
     "evalue": "name 'df' is not defined",
     "output_type": "error",
     "traceback": [
      "\u001b[0;31m---------------------------------------------------------------------------\u001b[0m",
      "\u001b[0;31mNameError\u001b[0m                                 Traceback (most recent call last)",
      "\u001b[0;32m/var/folders/xj/29kl316s2v94r6z0nbw_9l8w0000gn/T/ipykernel_95846/1186408280.py\u001b[0m in \u001b[0;36m<module>\u001b[0;34m\u001b[0m\n\u001b[0;32m----> 1\u001b[0;31m \u001b[0mdf\u001b[0m\u001b[0;34m.\u001b[0m\u001b[0mto_csv\u001b[0m\u001b[0;34m(\u001b[0m\u001b[0;34m'geomag.txt'\u001b[0m\u001b[0;34m,\u001b[0m \u001b[0msep\u001b[0m\u001b[0;34m=\u001b[0m\u001b[0;34m','\u001b[0m\u001b[0;34m,\u001b[0m \u001b[0mheader\u001b[0m\u001b[0;34m=\u001b[0m\u001b[0;32mNone\u001b[0m\u001b[0;34m,\u001b[0m \u001b[0mindex\u001b[0m\u001b[0;34m=\u001b[0m\u001b[0;32mFalse\u001b[0m\u001b[0;34m)\u001b[0m\u001b[0;34m\u001b[0m\u001b[0;34m\u001b[0m\u001b[0m\n\u001b[0m",
      "\u001b[0;31mNameError\u001b[0m: name 'df' is not defined"
     ]
    }
   ],
   "source": [
    "df.to_csv('geomag.txt', sep=',', header=None, index=False)  "
   ]
  },
  {
   "cell_type": "code",
   "execution_count": 31,
   "id": "aca0d584",
   "metadata": {},
   "outputs": [],
   "source": [
    "data1 = []\n",
    "\n",
    "with open('geomag.txt', 'r') as f:\n",
    "    for line in f.readlines():\n",
    "        if line.startswith('ea') or line.startswith('fo') or line.startswith('ga') or line.startswith('ke') or line.startswith('po'):\n",
    "            #create a list of the items sep ','\n",
    "            mags = line.split(',')\n",
    "            station_id = mags[0].split('_')\n",
    "            #select first item and strip white space\n",
    "            station = station_id[0].strip()\n",
    "            dt = datetime.strptime(station_id[1].strip() + station_id[2].strip() + station_id[3].strip() + '00' + '00' + '00', '%Y%m%d%H%M%S')\n",
    "            dec_time = mags[1].strip()\n",
    "            H = mags[2].strip()\n",
    "            D = mags[3].strip()\n",
    "            Z = mags[4].strip()\n",
    "            data1.append([station, dt, dec_time, H, D, Z])\n",
    "        else:\n",
    "            location_line = line.split(',')\n",
    "            time = location_line[0].split(':')\n",
    "            #strp is 'string parse'\n",
    "            dt1 = datetime.strptime(station_id[1].strip() + station_id[2].strip() + station_id[3].strip() + time[0].strip() + time[1].strip() + time[2].strip(), '%Y%m%d%H%M%S')\n",
    "            dec_time = location_line[1].strip()\n",
    "            H = location_line[2].strip()\n",
    "            D = location_line[3].strip()\n",
    "            Z = location_line[4].strip()\n",
    "            data1.append([station, dt1, dec_time, H, D, Z])"
   ]
  },
  {
   "cell_type": "code",
   "execution_count": 32,
   "id": "546c4fe5",
   "metadata": {},
   "outputs": [
    {
     "data": {
      "text/plain": [
       "['kenai',\n",
       " datetime.datetime(2019, 8, 24, 0, 0),\n",
       " '0.0',\n",
       " '16097.4875',\n",
       " '-347.7219',\n",
       " '52090.675']"
      ]
     },
     "execution_count": 32,
     "metadata": {},
     "output_type": "execute_result"
    }
   ],
   "source": [
    "data1[0]"
   ]
  },
  {
   "cell_type": "code",
   "execution_count": 33,
   "id": "a4429e42",
   "metadata": {},
   "outputs": [
    {
     "data": {
      "text/html": [
       "<div>\n",
       "<style scoped>\n",
       "    .dataframe tbody tr th:only-of-type {\n",
       "        vertical-align: middle;\n",
       "    }\n",
       "\n",
       "    .dataframe tbody tr th {\n",
       "        vertical-align: top;\n",
       "    }\n",
       "\n",
       "    .dataframe thead th {\n",
       "        text-align: right;\n",
       "    }\n",
       "</style>\n",
       "<table border=\"1\" class=\"dataframe\">\n",
       "  <thead>\n",
       "    <tr style=\"text-align: right;\">\n",
       "      <th></th>\n",
       "      <th>station</th>\n",
       "      <th>date</th>\n",
       "      <th>dec_time</th>\n",
       "      <th>H</th>\n",
       "      <th>D</th>\n",
       "      <th>Z</th>\n",
       "    </tr>\n",
       "  </thead>\n",
       "  <tbody>\n",
       "    <tr>\n",
       "      <th>0</th>\n",
       "      <td>kenai</td>\n",
       "      <td>2019-08-24 00:00:00</td>\n",
       "      <td>0.0</td>\n",
       "      <td>16097.4875</td>\n",
       "      <td>-347.7219</td>\n",
       "      <td>52090.675</td>\n",
       "    </tr>\n",
       "    <tr>\n",
       "      <th>1</th>\n",
       "      <td>kenai</td>\n",
       "      <td>2019-08-24 00:00:01</td>\n",
       "      <td>0.000278</td>\n",
       "      <td>16097.6719</td>\n",
       "      <td>-348.2281</td>\n",
       "      <td>52090.6</td>\n",
       "    </tr>\n",
       "    <tr>\n",
       "      <th>2</th>\n",
       "      <td>kenai</td>\n",
       "      <td>2019-08-24 00:00:02</td>\n",
       "      <td>0.000556</td>\n",
       "      <td>16097.9656</td>\n",
       "      <td>-349.05</td>\n",
       "      <td>52090.5063</td>\n",
       "    </tr>\n",
       "    <tr>\n",
       "      <th>3</th>\n",
       "      <td>kenai</td>\n",
       "      <td>2019-08-24 00:00:03</td>\n",
       "      <td>0.000833</td>\n",
       "      <td>16097.7812</td>\n",
       "      <td>-348.3438</td>\n",
       "      <td>52090.5688</td>\n",
       "    </tr>\n",
       "    <tr>\n",
       "      <th>4</th>\n",
       "      <td>kenai</td>\n",
       "      <td>2019-08-24 00:00:04</td>\n",
       "      <td>0.001111</td>\n",
       "      <td>16098.0094</td>\n",
       "      <td>-348.7625</td>\n",
       "      <td>52090.4719</td>\n",
       "    </tr>\n",
       "  </tbody>\n",
       "</table>\n",
       "</div>"
      ],
      "text/plain": [
       "  station                date  dec_time           H          D           Z\n",
       "0   kenai 2019-08-24 00:00:00       0.0  16097.4875  -347.7219   52090.675\n",
       "1   kenai 2019-08-24 00:00:01  0.000278  16097.6719  -348.2281     52090.6\n",
       "2   kenai 2019-08-24 00:00:02  0.000556  16097.9656    -349.05  52090.5063\n",
       "3   kenai 2019-08-24 00:00:03  0.000833  16097.7812  -348.3438  52090.5688\n",
       "4   kenai 2019-08-24 00:00:04  0.001111  16098.0094  -348.7625  52090.4719"
      ]
     },
     "execution_count": 33,
     "metadata": {},
     "output_type": "execute_result"
    }
   ],
   "source": [
    "df1 = pd.DataFrame(data1, columns = ['station', 'date', 'dec_time', 'H', 'D', 'Z'])\n",
    "df1.head()"
   ]
  },
  {
   "cell_type": "code",
   "execution_count": 177,
   "id": "bc9d1843",
   "metadata": {},
   "outputs": [
    {
     "data": {
      "text/html": [
       "<div>\n",
       "<style scoped>\n",
       "    .dataframe tbody tr th:only-of-type {\n",
       "        vertical-align: middle;\n",
       "    }\n",
       "\n",
       "    .dataframe tbody tr th {\n",
       "        vertical-align: top;\n",
       "    }\n",
       "\n",
       "    .dataframe thead th {\n",
       "        text-align: right;\n",
       "    }\n",
       "</style>\n",
       "<table border=\"1\" class=\"dataframe\">\n",
       "  <thead>\n",
       "    <tr style=\"text-align: right;\">\n",
       "      <th></th>\n",
       "      <th>station</th>\n",
       "      <th>date</th>\n",
       "      <th>dec_time</th>\n",
       "      <th>H</th>\n",
       "      <th>D</th>\n",
       "      <th>Z</th>\n",
       "    </tr>\n",
       "  </thead>\n",
       "  <tbody>\n",
       "    <tr>\n",
       "      <th>172817</th>\n",
       "      <td>kenai</td>\n",
       "      <td>2019-08-24 23:59:55</td>\n",
       "      <td>23.998611</td>\n",
       "      <td>16103.5594</td>\n",
       "      <td>-351.8031</td>\n",
       "      <td>52091.3219</td>\n",
       "    </tr>\n",
       "    <tr>\n",
       "      <th>172818</th>\n",
       "      <td>kenai</td>\n",
       "      <td>2019-08-24 23:59:56</td>\n",
       "      <td>23.998889</td>\n",
       "      <td>16103.4844</td>\n",
       "      <td>-351.4844</td>\n",
       "      <td>52091.3625</td>\n",
       "    </tr>\n",
       "    <tr>\n",
       "      <th>172819</th>\n",
       "      <td>kenai</td>\n",
       "      <td>2019-08-24 23:59:57</td>\n",
       "      <td>23.999167</td>\n",
       "      <td>16103.4531</td>\n",
       "      <td>-351.45</td>\n",
       "      <td>52091.3719</td>\n",
       "    </tr>\n",
       "    <tr>\n",
       "      <th>172820</th>\n",
       "      <td>kenai</td>\n",
       "      <td>2019-08-24 23:59:58</td>\n",
       "      <td>23.999444</td>\n",
       "      <td>16103.475</td>\n",
       "      <td>-351.4438</td>\n",
       "      <td>52091.3969</td>\n",
       "    </tr>\n",
       "    <tr>\n",
       "      <th>172821</th>\n",
       "      <td>kenai</td>\n",
       "      <td>2019-08-24 23:59:59</td>\n",
       "      <td>23.999722</td>\n",
       "      <td>16103.5406</td>\n",
       "      <td>-351.5063</td>\n",
       "      <td>52091.4094</td>\n",
       "    </tr>\n",
       "  </tbody>\n",
       "</table>\n",
       "</div>"
      ],
      "text/plain": [
       "       station                date   dec_time           H          D  \\\n",
       "172817   kenai 2019-08-24 23:59:55  23.998611  16103.5594  -351.8031   \n",
       "172818   kenai 2019-08-24 23:59:56  23.998889  16103.4844  -351.4844   \n",
       "172819   kenai 2019-08-24 23:59:57  23.999167  16103.4531    -351.45   \n",
       "172820   kenai 2019-08-24 23:59:58  23.999444   16103.475  -351.4438   \n",
       "172821   kenai 2019-08-24 23:59:59  23.999722  16103.5406  -351.5063   \n",
       "\n",
       "                 Z  \n",
       "172817  52091.3219  \n",
       "172818  52091.3625  \n",
       "172819  52091.3719  \n",
       "172820  52091.3969  \n",
       "172821  52091.4094  "
      ]
     },
     "execution_count": 177,
     "metadata": {},
     "output_type": "execute_result"
    }
   ],
   "source": [
    "df1.tail()"
   ]
  },
  {
   "cell_type": "code",
   "execution_count": 178,
   "id": "55717f99",
   "metadata": {},
   "outputs": [
    {
     "data": {
      "text/plain": [
       "array(['kenai'], dtype=object)"
      ]
     },
     "execution_count": 178,
     "metadata": {},
     "output_type": "execute_result"
    }
   ],
   "source": [
    "df1.station.unique()"
   ]
  },
  {
   "cell_type": "code",
   "execution_count": 56,
   "id": "756cf13c",
   "metadata": {},
   "outputs": [
    {
     "name": "stderr",
     "output_type": "stream",
     "text": [
      "/opt/anaconda3/envs/voila2/lib/python3.7/site-packages/pandas/core/generic.py:5516: SettingWithCopyWarning: \n",
      "A value is trying to be set on a copy of a slice from a DataFrame.\n",
      "Try using .loc[row_indexer,col_indexer] = value instead\n",
      "\n",
      "See the caveats in the documentation: https://pandas.pydata.org/pandas-docs/stable/user_guide/indexing.html#returning-a-view-versus-a-copy\n",
      "  self[name] = value\n"
     ]
    },
    {
     "data": {
      "text/html": [
       "<div>\n",
       "<style scoped>\n",
       "    .dataframe tbody tr th:only-of-type {\n",
       "        vertical-align: middle;\n",
       "    }\n",
       "\n",
       "    .dataframe tbody tr th {\n",
       "        vertical-align: top;\n",
       "    }\n",
       "\n",
       "    .dataframe thead th {\n",
       "        text-align: right;\n",
       "    }\n",
       "</style>\n",
       "<table border=\"1\" class=\"dataframe\">\n",
       "  <thead>\n",
       "    <tr style=\"text-align: right;\">\n",
       "      <th></th>\n",
       "      <th>time</th>\n",
       "      <th>decimal_time</th>\n",
       "      <th>H</th>\n",
       "      <th>D</th>\n",
       "      <th>Z</th>\n",
       "    </tr>\n",
       "  </thead>\n",
       "  <tbody>\n",
       "    <tr>\n",
       "      <th>0</th>\n",
       "      <td>23:00:00</td>\n",
       "      <td>23.000000</td>\n",
       "      <td>12147.6750</td>\n",
       "      <td>-720.5313</td>\n",
       "      <td>54155.9375</td>\n",
       "    </tr>\n",
       "    <tr>\n",
       "      <th>1</th>\n",
       "      <td>23:00:01</td>\n",
       "      <td>23.000278</td>\n",
       "      <td>12147.7656</td>\n",
       "      <td>-720.4875</td>\n",
       "      <td>54155.9531</td>\n",
       "    </tr>\n",
       "    <tr>\n",
       "      <th>2</th>\n",
       "      <td>23:00:02</td>\n",
       "      <td>23.000556</td>\n",
       "      <td>12147.8563</td>\n",
       "      <td>-720.4281</td>\n",
       "      <td>54155.9844</td>\n",
       "    </tr>\n",
       "    <tr>\n",
       "      <th>3</th>\n",
       "      <td>23:00:02</td>\n",
       "      <td>23.000833</td>\n",
       "      <td>12147.9188</td>\n",
       "      <td>-720.3469</td>\n",
       "      <td>54155.9656</td>\n",
       "    </tr>\n",
       "    <tr>\n",
       "      <th>4</th>\n",
       "      <td>23:00:03</td>\n",
       "      <td>23.001111</td>\n",
       "      <td>12147.9750</td>\n",
       "      <td>-720.2500</td>\n",
       "      <td>54156.0000</td>\n",
       "    </tr>\n",
       "    <tr>\n",
       "      <th>...</th>\n",
       "      <td>...</td>\n",
       "      <td>...</td>\n",
       "      <td>...</td>\n",
       "      <td>...</td>\n",
       "      <td>...</td>\n",
       "    </tr>\n",
       "    <tr>\n",
       "      <th>172841</th>\n",
       "      <td>22:59:54</td>\n",
       "      <td>22.998611</td>\n",
       "      <td>12146.9125</td>\n",
       "      <td>-720.5375</td>\n",
       "      <td>54155.9313</td>\n",
       "    </tr>\n",
       "    <tr>\n",
       "      <th>172842</th>\n",
       "      <td>22:59:56</td>\n",
       "      <td>22.998889</td>\n",
       "      <td>12147.0750</td>\n",
       "      <td>-720.5906</td>\n",
       "      <td>54155.9000</td>\n",
       "    </tr>\n",
       "    <tr>\n",
       "      <th>172843</th>\n",
       "      <td>22:59:57</td>\n",
       "      <td>22.999167</td>\n",
       "      <td>12147.2156</td>\n",
       "      <td>-720.6281</td>\n",
       "      <td>54155.9062</td>\n",
       "    </tr>\n",
       "    <tr>\n",
       "      <th>172844</th>\n",
       "      <td>22:59:57</td>\n",
       "      <td>22.999444</td>\n",
       "      <td>12147.3125</td>\n",
       "      <td>-720.6531</td>\n",
       "      <td>54155.9219</td>\n",
       "    </tr>\n",
       "    <tr>\n",
       "      <th>172845</th>\n",
       "      <td>22:59:58</td>\n",
       "      <td>22.999722</td>\n",
       "      <td>12147.5063</td>\n",
       "      <td>-720.5938</td>\n",
       "      <td>54155.9156</td>\n",
       "    </tr>\n",
       "  </tbody>\n",
       "</table>\n",
       "<p>172822 rows × 5 columns</p>\n",
       "</div>"
      ],
      "text/plain": [
       "            time  decimal_time           H         D           Z\n",
       "0       23:00:00     23.000000  12147.6750 -720.5313  54155.9375\n",
       "1       23:00:01     23.000278  12147.7656 -720.4875  54155.9531\n",
       "2       23:00:02     23.000556  12147.8563 -720.4281  54155.9844\n",
       "3       23:00:02     23.000833  12147.9188 -720.3469  54155.9656\n",
       "4       23:00:03     23.001111  12147.9750 -720.2500  54156.0000\n",
       "...          ...           ...         ...       ...         ...\n",
       "172841  22:59:54     22.998611  12146.9125 -720.5375  54155.9313\n",
       "172842  22:59:56     22.998889  12147.0750 -720.5906  54155.9000\n",
       "172843  22:59:57     22.999167  12147.2156 -720.6281  54155.9062\n",
       "172844  22:59:57     22.999444  12147.3125 -720.6531  54155.9219\n",
       "172845  22:59:58     22.999722  12147.5063 -720.5938  54155.9156\n",
       "\n",
       "[172822 rows x 5 columns]"
      ]
     },
     "execution_count": 56,
     "metadata": {},
     "output_type": "execute_result"
    }
   ],
   "source": [
    "k = []\n",
    "for  t in df.decimal_time:\n",
    "    h = t\n",
    "    m = (t*60)%60\n",
    "    s = (t*3600)%60\n",
    "    k.append('%d:%02d:%02d' % (h, m, s))\n",
    "    \n",
    "df.time=k\n",
    "df"
   ]
  },
  {
   "cell_type": "code",
   "execution_count": 60,
   "id": "78c78d7a",
   "metadata": {},
   "outputs": [
    {
     "name": "stderr",
     "output_type": "stream",
     "text": [
      "/opt/anaconda3/envs/voila2/lib/python3.7/site-packages/ipykernel_launcher.py:2: SettingWithCopyWarning: \n",
      "A value is trying to be set on a copy of a slice from a DataFrame.\n",
      "Try using .loc[row_indexer,col_indexer] = value instead\n",
      "\n",
      "See the caveats in the documentation: https://pandas.pydata.org/pandas-docs/stable/user_guide/indexing.html#returning-a-view-versus-a-copy\n",
      "  \n"
     ]
    },
    {
     "data": {
      "text/html": [
       "<div>\n",
       "<style scoped>\n",
       "    .dataframe tbody tr th:only-of-type {\n",
       "        vertical-align: middle;\n",
       "    }\n",
       "\n",
       "    .dataframe tbody tr th {\n",
       "        vertical-align: top;\n",
       "    }\n",
       "\n",
       "    .dataframe thead th {\n",
       "        text-align: right;\n",
       "    }\n",
       "</style>\n",
       "<table border=\"1\" class=\"dataframe\">\n",
       "  <thead>\n",
       "    <tr style=\"text-align: right;\">\n",
       "      <th></th>\n",
       "      <th>time</th>\n",
       "      <th>decimal_time</th>\n",
       "      <th>H</th>\n",
       "      <th>D</th>\n",
       "      <th>Z</th>\n",
       "      <th>M</th>\n",
       "    </tr>\n",
       "  </thead>\n",
       "  <tbody>\n",
       "    <tr>\n",
       "      <th>0</th>\n",
       "      <td>23:00:00</td>\n",
       "      <td>23.000000</td>\n",
       "      <td>12147.6750</td>\n",
       "      <td>-720.5313</td>\n",
       "      <td>54155.9375</td>\n",
       "      <td>55506.312612</td>\n",
       "    </tr>\n",
       "    <tr>\n",
       "      <th>1</th>\n",
       "      <td>23:00:01</td>\n",
       "      <td>23.000278</td>\n",
       "      <td>12147.7656</td>\n",
       "      <td>-720.4875</td>\n",
       "      <td>54155.9531</td>\n",
       "      <td>55506.347092</td>\n",
       "    </tr>\n",
       "    <tr>\n",
       "      <th>2</th>\n",
       "      <td>23:00:02</td>\n",
       "      <td>23.000556</td>\n",
       "      <td>12147.8563</td>\n",
       "      <td>-720.4281</td>\n",
       "      <td>54155.9844</td>\n",
       "      <td>55506.396709</td>\n",
       "    </tr>\n",
       "    <tr>\n",
       "      <th>3</th>\n",
       "      <td>23:00:02</td>\n",
       "      <td>23.000833</td>\n",
       "      <td>12147.9188</td>\n",
       "      <td>-720.3469</td>\n",
       "      <td>54155.9656</td>\n",
       "      <td>55506.390991</td>\n",
       "    </tr>\n",
       "    <tr>\n",
       "      <th>4</th>\n",
       "      <td>23:00:03</td>\n",
       "      <td>23.001111</td>\n",
       "      <td>12147.9750</td>\n",
       "      <td>-720.2500</td>\n",
       "      <td>54156.0000</td>\n",
       "      <td>55506.435597</td>\n",
       "    </tr>\n",
       "    <tr>\n",
       "      <th>...</th>\n",
       "      <td>...</td>\n",
       "      <td>...</td>\n",
       "      <td>...</td>\n",
       "      <td>...</td>\n",
       "      <td>...</td>\n",
       "      <td>...</td>\n",
       "    </tr>\n",
       "    <tr>\n",
       "      <th>172841</th>\n",
       "      <td>22:59:54</td>\n",
       "      <td>22.998611</td>\n",
       "      <td>12146.9125</td>\n",
       "      <td>-720.5375</td>\n",
       "      <td>54155.9313</td>\n",
       "      <td>55506.139773</td>\n",
       "    </tr>\n",
       "    <tr>\n",
       "      <th>172842</th>\n",
       "      <td>22:59:56</td>\n",
       "      <td>22.998889</td>\n",
       "      <td>12147.0750</td>\n",
       "      <td>-720.5906</td>\n",
       "      <td>54155.9000</td>\n",
       "      <td>55506.145486</td>\n",
       "    </tr>\n",
       "    <tr>\n",
       "      <th>172843</th>\n",
       "      <td>22:59:57</td>\n",
       "      <td>22.999167</td>\n",
       "      <td>12147.2156</td>\n",
       "      <td>-720.6281</td>\n",
       "      <td>54155.9062</td>\n",
       "      <td>55506.182791</td>\n",
       "    </tr>\n",
       "    <tr>\n",
       "      <th>172844</th>\n",
       "      <td>22:59:57</td>\n",
       "      <td>22.999444</td>\n",
       "      <td>12147.3125</td>\n",
       "      <td>-720.6531</td>\n",
       "      <td>54155.9219</td>\n",
       "      <td>55506.219640</td>\n",
       "    </tr>\n",
       "    <tr>\n",
       "      <th>172845</th>\n",
       "      <td>22:59:58</td>\n",
       "      <td>22.999722</td>\n",
       "      <td>12147.5063</td>\n",
       "      <td>-720.5938</td>\n",
       "      <td>54155.9156</td>\n",
       "      <td>55506.255136</td>\n",
       "    </tr>\n",
       "  </tbody>\n",
       "</table>\n",
       "<p>172822 rows × 6 columns</p>\n",
       "</div>"
      ],
      "text/plain": [
       "            time  decimal_time           H         D           Z             M\n",
       "0       23:00:00     23.000000  12147.6750 -720.5313  54155.9375  55506.312612\n",
       "1       23:00:01     23.000278  12147.7656 -720.4875  54155.9531  55506.347092\n",
       "2       23:00:02     23.000556  12147.8563 -720.4281  54155.9844  55506.396709\n",
       "3       23:00:02     23.000833  12147.9188 -720.3469  54155.9656  55506.390991\n",
       "4       23:00:03     23.001111  12147.9750 -720.2500  54156.0000  55506.435597\n",
       "...          ...           ...         ...       ...         ...           ...\n",
       "172841  22:59:54     22.998611  12146.9125 -720.5375  54155.9313  55506.139773\n",
       "172842  22:59:56     22.998889  12147.0750 -720.5906  54155.9000  55506.145486\n",
       "172843  22:59:57     22.999167  12147.2156 -720.6281  54155.9062  55506.182791\n",
       "172844  22:59:57     22.999444  12147.3125 -720.6531  54155.9219  55506.219640\n",
       "172845  22:59:58     22.999722  12147.5063 -720.5938  54155.9156  55506.255136\n",
       "\n",
       "[172822 rows x 6 columns]"
      ]
     },
     "execution_count": 60,
     "metadata": {},
     "output_type": "execute_result"
    }
   ],
   "source": [
    "import math\n",
    "df['M'] = np.sqrt((df.H**2)+(df.D**2)+(df.Z**2))\n",
    "df"
   ]
  },
  {
   "cell_type": "code",
   "execution_count": null,
   "id": "db8ed080",
   "metadata": {},
   "outputs": [],
   "source": [
    "df['DateTime'] = pd.to_datetime(df['DateTime'])"
   ]
  },
  {
   "cell_type": "code",
   "execution_count": 4,
   "id": "24b3a17c",
   "metadata": {},
   "outputs": [
    {
     "ename": "ValueError",
     "evalue": "unknown url type: '/api/magnetometer/DATA/www/2022/06/19/eagle/eagle_2019_August_31.csv'",
     "output_type": "error",
     "traceback": [
      "\u001b[0;31m---------------------------------------------------------------------------\u001b[0m",
      "\u001b[0;31mValueError\u001b[0m                                Traceback (most recent call last)",
      "\u001b[0;32m/var/folders/xj/29kl316s2v94r6z0nbw_9l8w0000gn/T/ipykernel_76104/799185181.py\u001b[0m in \u001b[0;36m<module>\u001b[0;34m\u001b[0m\n\u001b[1;32m      5\u001b[0m \u001b[0murl\u001b[0m \u001b[0;34m=\u001b[0m \u001b[0;34m\"/api/magnetometer/DATA/www/2022/06/19/eagle/eagle_\"\u001b[0m \u001b[0;34m+\u001b[0m \u001b[0mstr\u001b[0m\u001b[0;34m(\u001b[0m\u001b[0myear\u001b[0m\u001b[0;34m)\u001b[0m \u001b[0;34m+\u001b[0m \u001b[0;34m\"_\"\u001b[0m \u001b[0;34m+\u001b[0m \u001b[0mstr\u001b[0m\u001b[0;34m(\u001b[0m\u001b[0mmonth\u001b[0m\u001b[0;34m)\u001b[0m \u001b[0;34m+\u001b[0m \u001b[0;34m\"_\"\u001b[0m \u001b[0;34m+\u001b[0m \u001b[0mstr\u001b[0m\u001b[0;34m(\u001b[0m\u001b[0mday\u001b[0m\u001b[0;34m)\u001b[0m \u001b[0;34m+\u001b[0m \u001b[0;34m\".csv\"\u001b[0m\u001b[0;34m\u001b[0m\u001b[0;34m\u001b[0m\u001b[0m\n\u001b[1;32m      6\u001b[0m \u001b[0;34m\u001b[0m\u001b[0m\n\u001b[0;32m----> 7\u001b[0;31m \u001b[0mcsv\u001b[0m \u001b[0;34m=\u001b[0m \u001b[0murlopen\u001b[0m\u001b[0;34m(\u001b[0m\u001b[0murl\u001b[0m\u001b[0;34m)\u001b[0m\u001b[0;34m\u001b[0m\u001b[0;34m\u001b[0m\u001b[0m\n\u001b[0m\u001b[1;32m      8\u001b[0m \u001b[0;34m\u001b[0m\u001b[0m\n\u001b[1;32m      9\u001b[0m \u001b[0mdf\u001b[0m \u001b[0;34m=\u001b[0m \u001b[0mpd\u001b[0m\u001b[0;34m.\u001b[0m\u001b[0mDataFrame\u001b[0m\u001b[0;34m(\u001b[0m\u001b[0mcsv\u001b[0m\u001b[0;34m)\u001b[0m\u001b[0;34m\u001b[0m\u001b[0;34m\u001b[0m\u001b[0m\n",
      "\u001b[0;32m/opt/anaconda3/envs/voila2/lib/python3.7/urllib/request.py\u001b[0m in \u001b[0;36murlopen\u001b[0;34m(url, data, timeout, cafile, capath, cadefault, context)\u001b[0m\n\u001b[1;32m    220\u001b[0m     \u001b[0;32melse\u001b[0m\u001b[0;34m:\u001b[0m\u001b[0;34m\u001b[0m\u001b[0;34m\u001b[0m\u001b[0m\n\u001b[1;32m    221\u001b[0m         \u001b[0mopener\u001b[0m \u001b[0;34m=\u001b[0m \u001b[0m_opener\u001b[0m\u001b[0;34m\u001b[0m\u001b[0;34m\u001b[0m\u001b[0m\n\u001b[0;32m--> 222\u001b[0;31m     \u001b[0;32mreturn\u001b[0m \u001b[0mopener\u001b[0m\u001b[0;34m.\u001b[0m\u001b[0mopen\u001b[0m\u001b[0;34m(\u001b[0m\u001b[0murl\u001b[0m\u001b[0;34m,\u001b[0m \u001b[0mdata\u001b[0m\u001b[0;34m,\u001b[0m \u001b[0mtimeout\u001b[0m\u001b[0;34m)\u001b[0m\u001b[0;34m\u001b[0m\u001b[0;34m\u001b[0m\u001b[0m\n\u001b[0m\u001b[1;32m    223\u001b[0m \u001b[0;34m\u001b[0m\u001b[0m\n\u001b[1;32m    224\u001b[0m \u001b[0;32mdef\u001b[0m \u001b[0minstall_opener\u001b[0m\u001b[0;34m(\u001b[0m\u001b[0mopener\u001b[0m\u001b[0;34m)\u001b[0m\u001b[0;34m:\u001b[0m\u001b[0;34m\u001b[0m\u001b[0;34m\u001b[0m\u001b[0m\n",
      "\u001b[0;32m/opt/anaconda3/envs/voila2/lib/python3.7/urllib/request.py\u001b[0m in \u001b[0;36mopen\u001b[0;34m(self, fullurl, data, timeout)\u001b[0m\n\u001b[1;32m    508\u001b[0m         \u001b[0;31m# accept a URL or a Request object\u001b[0m\u001b[0;34m\u001b[0m\u001b[0;34m\u001b[0m\u001b[0;34m\u001b[0m\u001b[0m\n\u001b[1;32m    509\u001b[0m         \u001b[0;32mif\u001b[0m \u001b[0misinstance\u001b[0m\u001b[0;34m(\u001b[0m\u001b[0mfullurl\u001b[0m\u001b[0;34m,\u001b[0m \u001b[0mstr\u001b[0m\u001b[0;34m)\u001b[0m\u001b[0;34m:\u001b[0m\u001b[0;34m\u001b[0m\u001b[0;34m\u001b[0m\u001b[0m\n\u001b[0;32m--> 510\u001b[0;31m             \u001b[0mreq\u001b[0m \u001b[0;34m=\u001b[0m \u001b[0mRequest\u001b[0m\u001b[0;34m(\u001b[0m\u001b[0mfullurl\u001b[0m\u001b[0;34m,\u001b[0m \u001b[0mdata\u001b[0m\u001b[0;34m)\u001b[0m\u001b[0;34m\u001b[0m\u001b[0;34m\u001b[0m\u001b[0m\n\u001b[0m\u001b[1;32m    511\u001b[0m         \u001b[0;32melse\u001b[0m\u001b[0;34m:\u001b[0m\u001b[0;34m\u001b[0m\u001b[0;34m\u001b[0m\u001b[0m\n\u001b[1;32m    512\u001b[0m             \u001b[0mreq\u001b[0m \u001b[0;34m=\u001b[0m \u001b[0mfullurl\u001b[0m\u001b[0;34m\u001b[0m\u001b[0;34m\u001b[0m\u001b[0m\n",
      "\u001b[0;32m/opt/anaconda3/envs/voila2/lib/python3.7/urllib/request.py\u001b[0m in \u001b[0;36m__init__\u001b[0;34m(self, url, data, headers, origin_req_host, unverifiable, method)\u001b[0m\n\u001b[1;32m    326\u001b[0m                  \u001b[0morigin_req_host\u001b[0m\u001b[0;34m=\u001b[0m\u001b[0;32mNone\u001b[0m\u001b[0;34m,\u001b[0m \u001b[0munverifiable\u001b[0m\u001b[0;34m=\u001b[0m\u001b[0;32mFalse\u001b[0m\u001b[0;34m,\u001b[0m\u001b[0;34m\u001b[0m\u001b[0;34m\u001b[0m\u001b[0m\n\u001b[1;32m    327\u001b[0m                  method=None):\n\u001b[0;32m--> 328\u001b[0;31m         \u001b[0mself\u001b[0m\u001b[0;34m.\u001b[0m\u001b[0mfull_url\u001b[0m \u001b[0;34m=\u001b[0m \u001b[0murl\u001b[0m\u001b[0;34m\u001b[0m\u001b[0;34m\u001b[0m\u001b[0m\n\u001b[0m\u001b[1;32m    329\u001b[0m         \u001b[0mself\u001b[0m\u001b[0;34m.\u001b[0m\u001b[0mheaders\u001b[0m \u001b[0;34m=\u001b[0m \u001b[0;34m{\u001b[0m\u001b[0;34m}\u001b[0m\u001b[0;34m\u001b[0m\u001b[0;34m\u001b[0m\u001b[0m\n\u001b[1;32m    330\u001b[0m         \u001b[0mself\u001b[0m\u001b[0;34m.\u001b[0m\u001b[0munredirected_hdrs\u001b[0m \u001b[0;34m=\u001b[0m \u001b[0;34m{\u001b[0m\u001b[0;34m}\u001b[0m\u001b[0;34m\u001b[0m\u001b[0;34m\u001b[0m\u001b[0m\n",
      "\u001b[0;32m/opt/anaconda3/envs/voila2/lib/python3.7/urllib/request.py\u001b[0m in \u001b[0;36mfull_url\u001b[0;34m(self, url)\u001b[0m\n\u001b[1;32m    352\u001b[0m         \u001b[0mself\u001b[0m\u001b[0;34m.\u001b[0m\u001b[0m_full_url\u001b[0m \u001b[0;34m=\u001b[0m \u001b[0munwrap\u001b[0m\u001b[0;34m(\u001b[0m\u001b[0murl\u001b[0m\u001b[0;34m)\u001b[0m\u001b[0;34m\u001b[0m\u001b[0;34m\u001b[0m\u001b[0m\n\u001b[1;32m    353\u001b[0m         \u001b[0mself\u001b[0m\u001b[0;34m.\u001b[0m\u001b[0m_full_url\u001b[0m\u001b[0;34m,\u001b[0m \u001b[0mself\u001b[0m\u001b[0;34m.\u001b[0m\u001b[0mfragment\u001b[0m \u001b[0;34m=\u001b[0m \u001b[0msplittag\u001b[0m\u001b[0;34m(\u001b[0m\u001b[0mself\u001b[0m\u001b[0;34m.\u001b[0m\u001b[0m_full_url\u001b[0m\u001b[0;34m)\u001b[0m\u001b[0;34m\u001b[0m\u001b[0;34m\u001b[0m\u001b[0m\n\u001b[0;32m--> 354\u001b[0;31m         \u001b[0mself\u001b[0m\u001b[0;34m.\u001b[0m\u001b[0m_parse\u001b[0m\u001b[0;34m(\u001b[0m\u001b[0;34m)\u001b[0m\u001b[0;34m\u001b[0m\u001b[0;34m\u001b[0m\u001b[0m\n\u001b[0m\u001b[1;32m    355\u001b[0m \u001b[0;34m\u001b[0m\u001b[0m\n\u001b[1;32m    356\u001b[0m     \u001b[0;34m@\u001b[0m\u001b[0mfull_url\u001b[0m\u001b[0;34m.\u001b[0m\u001b[0mdeleter\u001b[0m\u001b[0;34m\u001b[0m\u001b[0;34m\u001b[0m\u001b[0m\n",
      "\u001b[0;32m/opt/anaconda3/envs/voila2/lib/python3.7/urllib/request.py\u001b[0m in \u001b[0;36m_parse\u001b[0;34m(self)\u001b[0m\n\u001b[1;32m    381\u001b[0m         \u001b[0mself\u001b[0m\u001b[0;34m.\u001b[0m\u001b[0mtype\u001b[0m\u001b[0;34m,\u001b[0m \u001b[0mrest\u001b[0m \u001b[0;34m=\u001b[0m \u001b[0msplittype\u001b[0m\u001b[0;34m(\u001b[0m\u001b[0mself\u001b[0m\u001b[0;34m.\u001b[0m\u001b[0m_full_url\u001b[0m\u001b[0;34m)\u001b[0m\u001b[0;34m\u001b[0m\u001b[0;34m\u001b[0m\u001b[0m\n\u001b[1;32m    382\u001b[0m         \u001b[0;32mif\u001b[0m \u001b[0mself\u001b[0m\u001b[0;34m.\u001b[0m\u001b[0mtype\u001b[0m \u001b[0;32mis\u001b[0m \u001b[0;32mNone\u001b[0m\u001b[0;34m:\u001b[0m\u001b[0;34m\u001b[0m\u001b[0;34m\u001b[0m\u001b[0m\n\u001b[0;32m--> 383\u001b[0;31m             \u001b[0;32mraise\u001b[0m \u001b[0mValueError\u001b[0m\u001b[0;34m(\u001b[0m\u001b[0;34m\"unknown url type: %r\"\u001b[0m \u001b[0;34m%\u001b[0m \u001b[0mself\u001b[0m\u001b[0;34m.\u001b[0m\u001b[0mfull_url\u001b[0m\u001b[0;34m)\u001b[0m\u001b[0;34m\u001b[0m\u001b[0;34m\u001b[0m\u001b[0m\n\u001b[0m\u001b[1;32m    384\u001b[0m         \u001b[0mself\u001b[0m\u001b[0;34m.\u001b[0m\u001b[0mhost\u001b[0m\u001b[0;34m,\u001b[0m \u001b[0mself\u001b[0m\u001b[0;34m.\u001b[0m\u001b[0mselector\u001b[0m \u001b[0;34m=\u001b[0m \u001b[0msplithost\u001b[0m\u001b[0;34m(\u001b[0m\u001b[0mrest\u001b[0m\u001b[0;34m)\u001b[0m\u001b[0;34m\u001b[0m\u001b[0;34m\u001b[0m\u001b[0m\n\u001b[1;32m    385\u001b[0m         \u001b[0;32mif\u001b[0m \u001b[0mself\u001b[0m\u001b[0;34m.\u001b[0m\u001b[0mhost\u001b[0m\u001b[0;34m:\u001b[0m\u001b[0;34m\u001b[0m\u001b[0;34m\u001b[0m\u001b[0m\n",
      "\u001b[0;31mValueError\u001b[0m: unknown url type: '/api/magnetometer/DATA/www/2022/06/19/eagle/eagle_2019_August_31.csv'"
     ]
    }
   ],
   "source": [
    "\n",
    "year = 2019\n",
    "month = 'August'\n",
    "day = 31\n",
    "\n",
    "url = \"https://www.gi.alaska.edu/api/magnetometer/DATA/www/\"+str(year)+\"/\" + month + \"/\"+ str(day)\"/eagle/eagle_\" + str(year) + \"_\" + str(month) + \"_\" + str(day) + \".csv\"\n",
    "\n",
    "csv = urlopen(url)\n",
    "\n",
    "df = pd.DataFrame(csv)\n",
    "df\n"
   ]
  },
  {
   "cell_type": "markdown",
   "id": "8aef355f",
   "metadata": {},
   "source": [
    "## Hurricane dataset"
   ]
  },
  {
   "cell_type": "code",
   "execution_count": 93,
   "id": "da7db875",
   "metadata": {},
   "outputs": [
    {
     "data": {
      "text/html": [
       "<div>\n",
       "<style scoped>\n",
       "    .dataframe tbody tr th:only-of-type {\n",
       "        vertical-align: middle;\n",
       "    }\n",
       "\n",
       "    .dataframe tbody tr th {\n",
       "        vertical-align: top;\n",
       "    }\n",
       "\n",
       "    .dataframe thead th {\n",
       "        text-align: right;\n",
       "    }\n",
       "</style>\n",
       "<table border=\"1\" class=\"dataframe\">\n",
       "  <thead>\n",
       "    <tr style=\"text-align: right;\">\n",
       "      <th></th>\n",
       "      <th>0</th>\n",
       "      <th>1</th>\n",
       "      <th>2</th>\n",
       "      <th>3</th>\n",
       "      <th>4</th>\n",
       "      <th>5</th>\n",
       "      <th>6</th>\n",
       "      <th>7</th>\n",
       "      <th>8</th>\n",
       "      <th>9</th>\n",
       "      <th>...</th>\n",
       "      <th>12</th>\n",
       "      <th>13</th>\n",
       "      <th>14</th>\n",
       "      <th>15</th>\n",
       "      <th>16</th>\n",
       "      <th>17</th>\n",
       "      <th>18</th>\n",
       "      <th>19</th>\n",
       "      <th>20</th>\n",
       "      <th>21</th>\n",
       "    </tr>\n",
       "  </thead>\n",
       "  <tbody>\n",
       "    <tr>\n",
       "      <th>0</th>\n",
       "      <td>AL011851</td>\n",
       "      <td>UNNAMED</td>\n",
       "      <td>14</td>\n",
       "      <td>NaN</td>\n",
       "      <td>NaN</td>\n",
       "      <td>NaN</td>\n",
       "      <td>NaN</td>\n",
       "      <td>NaN</td>\n",
       "      <td>NaN</td>\n",
       "      <td>NaN</td>\n",
       "      <td>...</td>\n",
       "      <td>NaN</td>\n",
       "      <td>NaN</td>\n",
       "      <td>NaN</td>\n",
       "      <td>NaN</td>\n",
       "      <td>NaN</td>\n",
       "      <td>NaN</td>\n",
       "      <td>NaN</td>\n",
       "      <td>NaN</td>\n",
       "      <td>NaN</td>\n",
       "      <td>NaN</td>\n",
       "    </tr>\n",
       "    <tr>\n",
       "      <th>1</th>\n",
       "      <td>18510625</td>\n",
       "      <td>0</td>\n",
       "      <td></td>\n",
       "      <td>HU</td>\n",
       "      <td>28.0N</td>\n",
       "      <td>94.8W</td>\n",
       "      <td>80.0</td>\n",
       "      <td>-999.0</td>\n",
       "      <td>-999.0</td>\n",
       "      <td>-999.0</td>\n",
       "      <td>...</td>\n",
       "      <td>-999.0</td>\n",
       "      <td>-999.0</td>\n",
       "      <td>-999.0</td>\n",
       "      <td>-999.0</td>\n",
       "      <td>-999.0</td>\n",
       "      <td>-999.0</td>\n",
       "      <td>-999.0</td>\n",
       "      <td>-999.0</td>\n",
       "      <td>-999.0</td>\n",
       "      <td>NaN</td>\n",
       "    </tr>\n",
       "    <tr>\n",
       "      <th>2</th>\n",
       "      <td>18510625</td>\n",
       "      <td>600</td>\n",
       "      <td></td>\n",
       "      <td>HU</td>\n",
       "      <td>28.0N</td>\n",
       "      <td>95.4W</td>\n",
       "      <td>80.0</td>\n",
       "      <td>-999.0</td>\n",
       "      <td>-999.0</td>\n",
       "      <td>-999.0</td>\n",
       "      <td>...</td>\n",
       "      <td>-999.0</td>\n",
       "      <td>-999.0</td>\n",
       "      <td>-999.0</td>\n",
       "      <td>-999.0</td>\n",
       "      <td>-999.0</td>\n",
       "      <td>-999.0</td>\n",
       "      <td>-999.0</td>\n",
       "      <td>-999.0</td>\n",
       "      <td>-999.0</td>\n",
       "      <td>NaN</td>\n",
       "    </tr>\n",
       "    <tr>\n",
       "      <th>3</th>\n",
       "      <td>18510625</td>\n",
       "      <td>1200</td>\n",
       "      <td></td>\n",
       "      <td>HU</td>\n",
       "      <td>28.0N</td>\n",
       "      <td>96.0W</td>\n",
       "      <td>80.0</td>\n",
       "      <td>-999.0</td>\n",
       "      <td>-999.0</td>\n",
       "      <td>-999.0</td>\n",
       "      <td>...</td>\n",
       "      <td>-999.0</td>\n",
       "      <td>-999.0</td>\n",
       "      <td>-999.0</td>\n",
       "      <td>-999.0</td>\n",
       "      <td>-999.0</td>\n",
       "      <td>-999.0</td>\n",
       "      <td>-999.0</td>\n",
       "      <td>-999.0</td>\n",
       "      <td>-999.0</td>\n",
       "      <td>NaN</td>\n",
       "    </tr>\n",
       "    <tr>\n",
       "      <th>4</th>\n",
       "      <td>18510625</td>\n",
       "      <td>1800</td>\n",
       "      <td></td>\n",
       "      <td>HU</td>\n",
       "      <td>28.1N</td>\n",
       "      <td>96.5W</td>\n",
       "      <td>80.0</td>\n",
       "      <td>-999.0</td>\n",
       "      <td>-999.0</td>\n",
       "      <td>-999.0</td>\n",
       "      <td>...</td>\n",
       "      <td>-999.0</td>\n",
       "      <td>-999.0</td>\n",
       "      <td>-999.0</td>\n",
       "      <td>-999.0</td>\n",
       "      <td>-999.0</td>\n",
       "      <td>-999.0</td>\n",
       "      <td>-999.0</td>\n",
       "      <td>-999.0</td>\n",
       "      <td>-999.0</td>\n",
       "      <td>NaN</td>\n",
       "    </tr>\n",
       "  </tbody>\n",
       "</table>\n",
       "<p>5 rows × 22 columns</p>\n",
       "</div>"
      ],
      "text/plain": [
       "         0                    1   2    3      4      5     6      7      8   \\\n",
       "0  AL011851              UNNAMED  14  NaN    NaN    NaN   NaN    NaN    NaN   \n",
       "1  18510625                    0       HU  28.0N  94.8W  80.0 -999.0 -999.0   \n",
       "2  18510625                  600       HU  28.0N  95.4W  80.0 -999.0 -999.0   \n",
       "3  18510625                 1200       HU  28.0N  96.0W  80.0 -999.0 -999.0   \n",
       "4  18510625                 1800       HU  28.1N  96.5W  80.0 -999.0 -999.0   \n",
       "\n",
       "      9   ...     12     13     14     15     16     17     18     19     20  \\\n",
       "0    NaN  ...    NaN    NaN    NaN    NaN    NaN    NaN    NaN    NaN    NaN   \n",
       "1 -999.0  ... -999.0 -999.0 -999.0 -999.0 -999.0 -999.0 -999.0 -999.0 -999.0   \n",
       "2 -999.0  ... -999.0 -999.0 -999.0 -999.0 -999.0 -999.0 -999.0 -999.0 -999.0   \n",
       "3 -999.0  ... -999.0 -999.0 -999.0 -999.0 -999.0 -999.0 -999.0 -999.0 -999.0   \n",
       "4 -999.0  ... -999.0 -999.0 -999.0 -999.0 -999.0 -999.0 -999.0 -999.0 -999.0   \n",
       "\n",
       "   21  \n",
       "0 NaN  \n",
       "1 NaN  \n",
       "2 NaN  \n",
       "3 NaN  \n",
       "4 NaN  \n",
       "\n",
       "[5 rows x 22 columns]"
      ]
     },
     "execution_count": 93,
     "metadata": {},
     "output_type": "execute_result"
    }
   ],
   "source": [
    "hdat = pd.read_csv('hurdat2-1851-2021-041922.csv', header=None, sep=',', on_bad_lines='skip')\n",
    "hdat.head()"
   ]
  },
  {
   "cell_type": "code",
   "execution_count": 94,
   "id": "ed5111f5",
   "metadata": {},
   "outputs": [
    {
     "data": {
      "text/html": [
       "<div>\n",
       "<style scoped>\n",
       "    .dataframe tbody tr th:only-of-type {\n",
       "        vertical-align: middle;\n",
       "    }\n",
       "\n",
       "    .dataframe tbody tr th {\n",
       "        vertical-align: top;\n",
       "    }\n",
       "\n",
       "    .dataframe thead th {\n",
       "        text-align: right;\n",
       "    }\n",
       "</style>\n",
       "<table border=\"1\" class=\"dataframe\">\n",
       "  <thead>\n",
       "    <tr style=\"text-align: right;\">\n",
       "      <th></th>\n",
       "      <th>date</th>\n",
       "      <th>time(UTC)</th>\n",
       "      <th>record_id</th>\n",
       "      <th>record_id2</th>\n",
       "      <th>lat</th>\n",
       "      <th>N/S</th>\n",
       "      <th>long</th>\n",
       "      <th>E/W</th>\n",
       "      <th>max_sust_windspeed(knots)</th>\n",
       "      <th>min_pressure(millibars)</th>\n",
       "      <th>...</th>\n",
       "      <th>34-kt_wind_radi_SW</th>\n",
       "      <th>34-kt_wind_radi_NW</th>\n",
       "      <th>50-kt_wind_radi_NE</th>\n",
       "      <th>50-kt_wind_radi_SE</th>\n",
       "      <th>50-kt_wind_radi_SW</th>\n",
       "      <th>50-kt_wind_radi_NW</th>\n",
       "      <th>64-kt_wind_radi_NE</th>\n",
       "      <th>64-kt_wind_radi_SE</th>\n",
       "      <th>64-kt_wind_radi_SW</th>\n",
       "      <th>64-kt_wind_radi_NW</th>\n",
       "    </tr>\n",
       "  </thead>\n",
       "  <tbody>\n",
       "    <tr>\n",
       "      <th>0</th>\n",
       "      <td>AL011851</td>\n",
       "      <td>UNNAMED</td>\n",
       "      <td>14</td>\n",
       "      <td>NaN</td>\n",
       "      <td>NaN</td>\n",
       "      <td>NaN</td>\n",
       "      <td>NaN</td>\n",
       "      <td>NaN</td>\n",
       "      <td>NaN</td>\n",
       "      <td>NaN</td>\n",
       "      <td>...</td>\n",
       "      <td>NaN</td>\n",
       "      <td>NaN</td>\n",
       "      <td>NaN</td>\n",
       "      <td>NaN</td>\n",
       "      <td>NaN</td>\n",
       "      <td>NaN</td>\n",
       "      <td>NaN</td>\n",
       "      <td>NaN</td>\n",
       "      <td>NaN</td>\n",
       "      <td>NaN</td>\n",
       "    </tr>\n",
       "    <tr>\n",
       "      <th>1</th>\n",
       "      <td>18510625</td>\n",
       "      <td>0</td>\n",
       "      <td></td>\n",
       "      <td>HU</td>\n",
       "      <td>28.0N</td>\n",
       "      <td>94.8W</td>\n",
       "      <td>80.0</td>\n",
       "      <td>-999.0</td>\n",
       "      <td>-999.0</td>\n",
       "      <td>-999.0</td>\n",
       "      <td>...</td>\n",
       "      <td>-999.0</td>\n",
       "      <td>-999.0</td>\n",
       "      <td>-999.0</td>\n",
       "      <td>-999.0</td>\n",
       "      <td>-999.0</td>\n",
       "      <td>-999.0</td>\n",
       "      <td>-999.0</td>\n",
       "      <td>-999.0</td>\n",
       "      <td>-999.0</td>\n",
       "      <td>NaN</td>\n",
       "    </tr>\n",
       "    <tr>\n",
       "      <th>2</th>\n",
       "      <td>18510625</td>\n",
       "      <td>600</td>\n",
       "      <td></td>\n",
       "      <td>HU</td>\n",
       "      <td>28.0N</td>\n",
       "      <td>95.4W</td>\n",
       "      <td>80.0</td>\n",
       "      <td>-999.0</td>\n",
       "      <td>-999.0</td>\n",
       "      <td>-999.0</td>\n",
       "      <td>...</td>\n",
       "      <td>-999.0</td>\n",
       "      <td>-999.0</td>\n",
       "      <td>-999.0</td>\n",
       "      <td>-999.0</td>\n",
       "      <td>-999.0</td>\n",
       "      <td>-999.0</td>\n",
       "      <td>-999.0</td>\n",
       "      <td>-999.0</td>\n",
       "      <td>-999.0</td>\n",
       "      <td>NaN</td>\n",
       "    </tr>\n",
       "    <tr>\n",
       "      <th>3</th>\n",
       "      <td>18510625</td>\n",
       "      <td>1200</td>\n",
       "      <td></td>\n",
       "      <td>HU</td>\n",
       "      <td>28.0N</td>\n",
       "      <td>96.0W</td>\n",
       "      <td>80.0</td>\n",
       "      <td>-999.0</td>\n",
       "      <td>-999.0</td>\n",
       "      <td>-999.0</td>\n",
       "      <td>...</td>\n",
       "      <td>-999.0</td>\n",
       "      <td>-999.0</td>\n",
       "      <td>-999.0</td>\n",
       "      <td>-999.0</td>\n",
       "      <td>-999.0</td>\n",
       "      <td>-999.0</td>\n",
       "      <td>-999.0</td>\n",
       "      <td>-999.0</td>\n",
       "      <td>-999.0</td>\n",
       "      <td>NaN</td>\n",
       "    </tr>\n",
       "    <tr>\n",
       "      <th>4</th>\n",
       "      <td>18510625</td>\n",
       "      <td>1800</td>\n",
       "      <td></td>\n",
       "      <td>HU</td>\n",
       "      <td>28.1N</td>\n",
       "      <td>96.5W</td>\n",
       "      <td>80.0</td>\n",
       "      <td>-999.0</td>\n",
       "      <td>-999.0</td>\n",
       "      <td>-999.0</td>\n",
       "      <td>...</td>\n",
       "      <td>-999.0</td>\n",
       "      <td>-999.0</td>\n",
       "      <td>-999.0</td>\n",
       "      <td>-999.0</td>\n",
       "      <td>-999.0</td>\n",
       "      <td>-999.0</td>\n",
       "      <td>-999.0</td>\n",
       "      <td>-999.0</td>\n",
       "      <td>-999.0</td>\n",
       "      <td>NaN</td>\n",
       "    </tr>\n",
       "  </tbody>\n",
       "</table>\n",
       "<p>5 rows × 22 columns</p>\n",
       "</div>"
      ],
      "text/plain": [
       "       date            time(UTC) record_id record_id2    lat    N/S  long  \\\n",
       "0  AL011851              UNNAMED        14        NaN    NaN    NaN   NaN   \n",
       "1  18510625                    0                   HU  28.0N  94.8W  80.0   \n",
       "2  18510625                  600                   HU  28.0N  95.4W  80.0   \n",
       "3  18510625                 1200                   HU  28.0N  96.0W  80.0   \n",
       "4  18510625                 1800                   HU  28.1N  96.5W  80.0   \n",
       "\n",
       "     E/W  max_sust_windspeed(knots)  min_pressure(millibars)  ...  \\\n",
       "0    NaN                        NaN                      NaN  ...   \n",
       "1 -999.0                     -999.0                   -999.0  ...   \n",
       "2 -999.0                     -999.0                   -999.0  ...   \n",
       "3 -999.0                     -999.0                   -999.0  ...   \n",
       "4 -999.0                     -999.0                   -999.0  ...   \n",
       "\n",
       "   34-kt_wind_radi_SW  34-kt_wind_radi_NW  50-kt_wind_radi_NE  \\\n",
       "0                 NaN                 NaN                 NaN   \n",
       "1              -999.0              -999.0              -999.0   \n",
       "2              -999.0              -999.0              -999.0   \n",
       "3              -999.0              -999.0              -999.0   \n",
       "4              -999.0              -999.0              -999.0   \n",
       "\n",
       "   50-kt_wind_radi_SE  50-kt_wind_radi_SW  50-kt_wind_radi_NW  \\\n",
       "0                 NaN                 NaN                 NaN   \n",
       "1              -999.0              -999.0              -999.0   \n",
       "2              -999.0              -999.0              -999.0   \n",
       "3              -999.0              -999.0              -999.0   \n",
       "4              -999.0              -999.0              -999.0   \n",
       "\n",
       "   64-kt_wind_radi_NE  64-kt_wind_radi_SE  64-kt_wind_radi_SW  \\\n",
       "0                 NaN                 NaN                 NaN   \n",
       "1              -999.0              -999.0              -999.0   \n",
       "2              -999.0              -999.0              -999.0   \n",
       "3              -999.0              -999.0              -999.0   \n",
       "4              -999.0              -999.0              -999.0   \n",
       "\n",
       "   64-kt_wind_radi_NW  \n",
       "0                 NaN  \n",
       "1                 NaN  \n",
       "2                 NaN  \n",
       "3                 NaN  \n",
       "4                 NaN  \n",
       "\n",
       "[5 rows x 22 columns]"
      ]
     },
     "execution_count": 94,
     "metadata": {},
     "output_type": "execute_result"
    }
   ],
   "source": [
    "cols = ['date',' time(UTC)', 'record_id', 'record_id2', 'lat', 'N/S', 'long', 'E/W', 'max_sust_windspeed(knots)',  'min_pressure(millibars)', '34-kt_wind_radi_NE(naut_miles)', '34-kt_wind_radi_SE', '34-kt_wind_radi_SW', '34-kt_wind_radi_NW', '50-kt_wind_radi_NE', '50-kt_wind_radi_SE', '50-kt_wind_radi_SW', '50-kt_wind_radi_NW', '64-kt_wind_radi_NE', '64-kt_wind_radi_SE', '64-kt_wind_radi_SW', '64-kt_wind_radi_NW']\n",
    "hdat.columns = cols\n",
    "hdat.head()"
   ]
  },
  {
   "cell_type": "markdown",
   "id": "58924e63",
   "metadata": {},
   "source": [
    "Attempt at recreating distance fucntion from java code found online. Attempt failed."
   ]
  },
  {
   "cell_type": "code",
   "execution_count": 92,
   "id": "b2f90d2f",
   "metadata": {},
   "outputs": [],
   "source": [
    "\n",
    "class LatLonNvectorSpherical():\n",
    "    \n",
    "    def __init__(self, lat1, long1, lat2, long2):\n",
    "        self.lat1 = lat1\n",
    "        self.long1 = long1\n",
    "        self.lat2 = lat2\n",
    "        self.long2 = long2\n",
    "        \n",
    "    def toRadians(self, this):\n",
    "        rads = this * (math.pi*180)\n",
    "        return(rads)\n",
    "        \n",
    "        \n",
    "     # Converts ‘this’ latitude/longitude point to an n-vector (normal to earth's surface).\n",
    "     #\n",
    "     # @returns {Nvector} Normalised n-vector representing lat/lon point.\n",
    "     #\n",
    "     # @example\n",
    "     #   const p = new LatLon(45, 45);\n",
    "     #   const v = p.toNvector();      // [0.5000,0.5000,0.7071]\n",
    "     \n",
    "    def toNvector(self, lat, long):\n",
    "        theta = self.toRadians(lat)\n",
    "        lambd = self.toRadians(long)\n",
    "\n",
    "        stheta = math.sin(theta)\n",
    "        ctheta = math.cos(theta)\n",
    "        slambd = math.sin(lambd)\n",
    "        clambd = math.cos(lambd)\n",
    "\n",
    "        # right-handed vector: x -> 0°E,0°N; y -> 90°E,0°N, z -> 90°N\n",
    "        x = ctheta * clambd\n",
    "        y = ctheta * slambd\n",
    "        z = stheta\n",
    "\n",
    "        return (x, y, z)\n",
    "\n",
    "    \n",
    "     # Returns the distance on the surface of the sphere from ‘this’ point to destination point.\n",
    "    \n",
    "     # @param   {LatLon}    point - Latitude/longitude of destination point.\n",
    "     # @param   {number}    [radius=6371e3] - Radius of earth (defaults to mean radius in metres).\n",
    "     # @returns {number}    Distance between this point and destination point, in same units as radius.\n",
    "     # @throws  {TypeError} Invalid point/radius.\n",
    "     \n",
    "     # @example\n",
    "     #   const p1 = new LatLon(52.205, 0.119);\n",
    "     #   const p2 = new LatLon(48.857, 2.351);\n",
    "     #   const d = p1.distanceTo(p2);          // 404.3 km\n",
    "\n",
    "    def distanceTo(self):\n",
    "        radius=6371e3\n",
    "        \n",
    "        R = int(radius)\n",
    "\n",
    "        n1 = self.toNvector(self.lat1, self.long1)\n",
    "        n2 = self.toNvector(self.lat2, self.long2)\n",
    "\n",
    "        stheta = len(np.cross(n1, n2))\n",
    "        ctheta = np.dot(n1, n2)\n",
    "        delta = math.atan2(stheta, ctheta) # tanδ = |n₁×n₂| / n₁⋅n₂\n",
    "\n",
    "        return(delta * R)"
   ]
  },
  {
   "cell_type": "code",
   "execution_count": 93,
   "id": "1cc82209",
   "metadata": {},
   "outputs": [],
   "source": [
    "p1 = LatLonNvectorSpherical(52.205, 0.119, 48.857, 2.351)"
   ]
  },
  {
   "cell_type": "code",
   "execution_count": 94,
   "id": "b02050ac",
   "metadata": {},
   "outputs": [
    {
     "data": {
      "text/plain": [
       "10535815.13877682"
      ]
     },
     "execution_count": 94,
     "metadata": {},
     "output_type": "execute_result"
    }
   ],
   "source": [
    "p1.distanceTo()"
   ]
  },
  {
   "cell_type": "code",
   "execution_count": 96,
   "id": "02029f16",
   "metadata": {},
   "outputs": [
    {
     "ename": "NameError",
     "evalue": "name 'radians' is not defined",
     "output_type": "error",
     "traceback": [
      "\u001b[0;31m---------------------------------------------------------------------------\u001b[0m",
      "\u001b[0;31mNameError\u001b[0m                                 Traceback (most recent call last)",
      "\u001b[0;32m/var/folders/xj/29kl316s2v94r6z0nbw_9l8w0000gn/T/ipykernel_80273/1148550512.py\u001b[0m in \u001b[0;36m<module>\u001b[0;34m\u001b[0m\n\u001b[0;32m----> 1\u001b[0;31m \u001b[0mradians\u001b[0m\u001b[0;34m(\u001b[0m\u001b[0;36m48.857\u001b[0m\u001b[0;34m)\u001b[0m\u001b[0;34m\u001b[0m\u001b[0;34m\u001b[0m\u001b[0m\n\u001b[0m",
      "\u001b[0;31mNameError\u001b[0m: name 'radians' is not defined"
     ]
    }
   ],
   "source": [
    "math.radians(48.857)"
   ]
  },
  {
   "cell_type": "markdown",
   "id": "6004d6c6",
   "metadata": {},
   "source": [
    "Better, more correct version of above."
   ]
  },
  {
   "cell_type": "code",
   "execution_count": 95,
   "id": "96285209",
   "metadata": {},
   "outputs": [],
   "source": [
    "points = ((52.205, 0.119), (48.857, 2.351))\n",
    "\n",
    "def get_distance(pair):\n",
    "    R = 6370\n",
    "    point1 = pair[0]\n",
    "    point2 = pair[1]\n",
    "    lat1 = math.radians(point1[0])  #insert value\n",
    "    lon1 = math.radians(point1[1])\n",
    "    lat2 = math.radians(point2[0])\n",
    "    lon2 = math.radians(point2[1])\n",
    "\n",
    "    dlon = lon2 - lon1\n",
    "    dlat = lat2 - lat1\n",
    "\n",
    "    a = math.sin(dlat / 2)**2 + math.cos(lat1) * math.cos(lat2) * math.sin(dlon / 2)**2\n",
    "    c = 2 * math.atan2(math.sqrt(a), math.sqrt(1-a))\n",
    "    distance = R * c\n",
    "    return(distance)"
   ]
  },
  {
   "cell_type": "code",
   "execution_count": 35,
   "id": "ec9e632b",
   "metadata": {},
   "outputs": [
    {
     "data": {
      "text/plain": [
       "404.2157078336033"
      ]
     },
     "execution_count": 35,
     "metadata": {},
     "output_type": "execute_result"
    }
   ],
   "source": [
    "test = get_distance(points)\n",
    "test"
   ]
  },
  {
   "cell_type": "code",
   "execution_count": 96,
   "id": "1bf8a50e",
   "metadata": {},
   "outputs": [],
   "source": [
    "def lat_lon_to_float(v):\n",
    "    #Convert strings from NHC to float locations\n",
    "    \n",
    "    if (v[-1] == 'S') or (v[-1] == 'W'):\n",
    "        multiplier = -1\n",
    "    else:\n",
    "        multiplier = 1\n",
    "    return(float(v[:-1]) * multiplier)"
   ]
  },
  {
   "cell_type": "markdown",
   "id": "a642a4bb",
   "metadata": {},
   "source": [
    "Process Hurricane data"
   ]
  },
  {
   "cell_type": "code",
   "execution_count": 97,
   "id": "980a32ac",
   "metadata": {},
   "outputs": [],
   "source": [
    "data = []\n",
    "\n",
    "with open('hurdat2-1851-2021-041922.txt', 'r') as f:\n",
    "    for line in f.readlines():\n",
    "        if line.startswith('AL'):\n",
    "            #create a list of the items sep ','\n",
    "            storm_id = line.split(',')\n",
    "            #select first item and strip white space\n",
    "            storm_number = storm_id[0].strip()\n",
    "            storm_name = storm_id[1].strip()\n",
    "        else:\n",
    "            location_line = line.split(',')\n",
    "            #strp is 'string parse'\n",
    "            dt = datetime.strptime(location_line[0] + location_line[1], '%Y%m%d %H%M')\n",
    "            storm_status = location_line[3].strip()\n",
    "            storm_lat = lat_lon_to_float(location_line[4].strip())\n",
    "            storm_lon = lat_lon_to_float(location_line[5].strip())\n",
    "            max_sust = location_line[6].strip()\n",
    "            min_pres = location_line[7].strip()\n",
    "            data.append([dt, storm_number, storm_name, storm_status, storm_lat, storm_lon, max_sust, min_pres])\n",
    "        "
   ]
  },
  {
   "cell_type": "code",
   "execution_count": 98,
   "id": "f7607835",
   "metadata": {},
   "outputs": [
    {
     "data": {
      "text/plain": [
       "[datetime.datetime(1851, 6, 25, 0, 0),\n",
       " 'AL011851',\n",
       " 'UNNAMED',\n",
       " 'HU',\n",
       " 28.0,\n",
       " -94.8,\n",
       " '80',\n",
       " '-999']"
      ]
     },
     "execution_count": 98,
     "metadata": {},
     "output_type": "execute_result"
    }
   ],
   "source": [
    "data[0]"
   ]
  },
  {
   "cell_type": "code",
   "execution_count": 99,
   "id": "83655eca",
   "metadata": {},
   "outputs": [],
   "source": [
    "hurdat2 = pd.DataFrame(data, columns=['date', 'storm_id', 'name', 'cat', 'lat', 'long', 'max_sust_windspeed(knots)', 'min_pressure(millibars)'])\n",
    "\n"
   ]
  },
  {
   "cell_type": "code",
   "execution_count": 100,
   "id": "5cbbfd9a",
   "metadata": {},
   "outputs": [
    {
     "data": {
      "text/html": [
       "<div>\n",
       "<style scoped>\n",
       "    .dataframe tbody tr th:only-of-type {\n",
       "        vertical-align: middle;\n",
       "    }\n",
       "\n",
       "    .dataframe tbody tr th {\n",
       "        vertical-align: top;\n",
       "    }\n",
       "\n",
       "    .dataframe thead th {\n",
       "        text-align: right;\n",
       "    }\n",
       "</style>\n",
       "<table border=\"1\" class=\"dataframe\">\n",
       "  <thead>\n",
       "    <tr style=\"text-align: right;\">\n",
       "      <th></th>\n",
       "      <th>date</th>\n",
       "      <th>storm_id</th>\n",
       "      <th>name</th>\n",
       "      <th>cat</th>\n",
       "      <th>lat</th>\n",
       "      <th>long</th>\n",
       "      <th>max_sust_windspeed(knots)</th>\n",
       "      <th>min_pressure(millibars)</th>\n",
       "    </tr>\n",
       "  </thead>\n",
       "  <tbody>\n",
       "    <tr>\n",
       "      <th>0</th>\n",
       "      <td>1851-06-25 00:00:00</td>\n",
       "      <td>AL011851</td>\n",
       "      <td>UNNAMED</td>\n",
       "      <td>HU</td>\n",
       "      <td>28.0</td>\n",
       "      <td>-94.8</td>\n",
       "      <td>80</td>\n",
       "      <td>-999</td>\n",
       "    </tr>\n",
       "    <tr>\n",
       "      <th>1</th>\n",
       "      <td>1851-06-25 06:00:00</td>\n",
       "      <td>AL011851</td>\n",
       "      <td>UNNAMED</td>\n",
       "      <td>HU</td>\n",
       "      <td>28.0</td>\n",
       "      <td>-95.4</td>\n",
       "      <td>80</td>\n",
       "      <td>-999</td>\n",
       "    </tr>\n",
       "    <tr>\n",
       "      <th>2</th>\n",
       "      <td>1851-06-25 12:00:00</td>\n",
       "      <td>AL011851</td>\n",
       "      <td>UNNAMED</td>\n",
       "      <td>HU</td>\n",
       "      <td>28.0</td>\n",
       "      <td>-96.0</td>\n",
       "      <td>80</td>\n",
       "      <td>-999</td>\n",
       "    </tr>\n",
       "    <tr>\n",
       "      <th>3</th>\n",
       "      <td>1851-06-25 18:00:00</td>\n",
       "      <td>AL011851</td>\n",
       "      <td>UNNAMED</td>\n",
       "      <td>HU</td>\n",
       "      <td>28.1</td>\n",
       "      <td>-96.5</td>\n",
       "      <td>80</td>\n",
       "      <td>-999</td>\n",
       "    </tr>\n",
       "    <tr>\n",
       "      <th>4</th>\n",
       "      <td>1851-06-25 21:00:00</td>\n",
       "      <td>AL011851</td>\n",
       "      <td>UNNAMED</td>\n",
       "      <td>HU</td>\n",
       "      <td>28.2</td>\n",
       "      <td>-96.8</td>\n",
       "      <td>80</td>\n",
       "      <td>-999</td>\n",
       "    </tr>\n",
       "  </tbody>\n",
       "</table>\n",
       "</div>"
      ],
      "text/plain": [
       "                 date  storm_id     name cat   lat  long  \\\n",
       "0 1851-06-25 00:00:00  AL011851  UNNAMED  HU  28.0 -94.8   \n",
       "1 1851-06-25 06:00:00  AL011851  UNNAMED  HU  28.0 -95.4   \n",
       "2 1851-06-25 12:00:00  AL011851  UNNAMED  HU  28.0 -96.0   \n",
       "3 1851-06-25 18:00:00  AL011851  UNNAMED  HU  28.1 -96.5   \n",
       "4 1851-06-25 21:00:00  AL011851  UNNAMED  HU  28.2 -96.8   \n",
       "\n",
       "  max_sust_windspeed(knots) min_pressure(millibars)  \n",
       "0                        80                    -999  \n",
       "1                        80                    -999  \n",
       "2                        80                    -999  \n",
       "3                        80                    -999  \n",
       "4                        80                    -999  "
      ]
     },
     "execution_count": 100,
     "metadata": {},
     "output_type": "execute_result"
    }
   ],
   "source": [
    "hurdat2.head()\n"
   ]
  },
  {
   "cell_type": "code",
   "execution_count": 57,
   "id": "2f769e93",
   "metadata": {},
   "outputs": [],
   "source": [
    "hurdat2.to_csv('hurdat2_MOD.csv', index=False)"
   ]
  },
  {
   "cell_type": "markdown",
   "id": "829f95b0",
   "metadata": {},
   "source": [
    "Merging the geomagnetic and hurricane data"
   ]
  },
  {
   "cell_type": "code",
   "execution_count": 101,
   "id": "ad59fa36",
   "metadata": {},
   "outputs": [
    {
     "data": {
      "text/html": [
       "<div>\n",
       "<style scoped>\n",
       "    .dataframe tbody tr th:only-of-type {\n",
       "        vertical-align: middle;\n",
       "    }\n",
       "\n",
       "    .dataframe tbody tr th {\n",
       "        vertical-align: top;\n",
       "    }\n",
       "\n",
       "    .dataframe thead th {\n",
       "        text-align: right;\n",
       "    }\n",
       "</style>\n",
       "<table border=\"1\" class=\"dataframe\">\n",
       "  <thead>\n",
       "    <tr style=\"text-align: right;\">\n",
       "      <th></th>\n",
       "      <th>date</th>\n",
       "      <th>storm_id</th>\n",
       "      <th>name</th>\n",
       "      <th>cat</th>\n",
       "      <th>lat</th>\n",
       "      <th>long</th>\n",
       "      <th>max_sust_windspeed(knots)</th>\n",
       "      <th>min_pressure(millibars)</th>\n",
       "      <th>dec_time</th>\n",
       "      <th>H</th>\n",
       "      <th>D</th>\n",
       "      <th>Z</th>\n",
       "      <th>M</th>\n",
       "    </tr>\n",
       "  </thead>\n",
       "  <tbody>\n",
       "    <tr>\n",
       "      <th>0</th>\n",
       "      <td>2005-08-04 00:00:00</td>\n",
       "      <td>AL082005</td>\n",
       "      <td>HARVEY</td>\n",
       "      <td>TS</td>\n",
       "      <td>31.3</td>\n",
       "      <td>-66.4</td>\n",
       "      <td>50</td>\n",
       "      <td>997</td>\n",
       "      <td>0.0</td>\n",
       "      <td>12316.103125</td>\n",
       "      <td>-71.595325</td>\n",
       "      <td>54850.841400</td>\n",
       "      <td>56227.642290</td>\n",
       "    </tr>\n",
       "    <tr>\n",
       "      <th>1</th>\n",
       "      <td>2005-08-04 06:00:00</td>\n",
       "      <td>AL082005</td>\n",
       "      <td>HARVEY</td>\n",
       "      <td>TS</td>\n",
       "      <td>31.6</td>\n",
       "      <td>-65.0</td>\n",
       "      <td>50</td>\n",
       "      <td>995</td>\n",
       "      <td>6.0</td>\n",
       "      <td>12424.821125</td>\n",
       "      <td>-28.485150</td>\n",
       "      <td>54916.058625</td>\n",
       "      <td>56314.219674</td>\n",
       "    </tr>\n",
       "    <tr>\n",
       "      <th>2</th>\n",
       "      <td>2005-08-04 12:00:00</td>\n",
       "      <td>AL082005</td>\n",
       "      <td>HARVEY</td>\n",
       "      <td>TS</td>\n",
       "      <td>31.9</td>\n",
       "      <td>-63.6</td>\n",
       "      <td>50</td>\n",
       "      <td>995</td>\n",
       "      <td>12.0</td>\n",
       "      <td>12272.562500</td>\n",
       "      <td>-41.607025</td>\n",
       "      <td>54810.760175</td>\n",
       "      <td>56179.645382</td>\n",
       "    </tr>\n",
       "    <tr>\n",
       "      <th>3</th>\n",
       "      <td>2005-08-04 18:00:00</td>\n",
       "      <td>AL082005</td>\n",
       "      <td>HARVEY</td>\n",
       "      <td>TS</td>\n",
       "      <td>32.0</td>\n",
       "      <td>-62.1</td>\n",
       "      <td>55</td>\n",
       "      <td>994</td>\n",
       "      <td>18.0</td>\n",
       "      <td>12315.757825</td>\n",
       "      <td>-8.232800</td>\n",
       "      <td>54822.339850</td>\n",
       "      <td>56199.663107</td>\n",
       "    </tr>\n",
       "    <tr>\n",
       "      <th>4</th>\n",
       "      <td>2005-08-04 18:00:00</td>\n",
       "      <td>AL092005</td>\n",
       "      <td>IRENE</td>\n",
       "      <td>TD</td>\n",
       "      <td>12.9</td>\n",
       "      <td>-33.5</td>\n",
       "      <td>25</td>\n",
       "      <td>1009</td>\n",
       "      <td>18.0</td>\n",
       "      <td>12315.757825</td>\n",
       "      <td>-8.232800</td>\n",
       "      <td>54822.339850</td>\n",
       "      <td>56199.663107</td>\n",
       "    </tr>\n",
       "  </tbody>\n",
       "</table>\n",
       "</div>"
      ],
      "text/plain": [
       "                 date  storm_id    name cat   lat  long  \\\n",
       "0 2005-08-04 00:00:00  AL082005  HARVEY  TS  31.3 -66.4   \n",
       "1 2005-08-04 06:00:00  AL082005  HARVEY  TS  31.6 -65.0   \n",
       "2 2005-08-04 12:00:00  AL082005  HARVEY  TS  31.9 -63.6   \n",
       "3 2005-08-04 18:00:00  AL082005  HARVEY  TS  32.0 -62.1   \n",
       "4 2005-08-04 18:00:00  AL092005   IRENE  TD  12.9 -33.5   \n",
       "\n",
       "  max_sust_windspeed(knots) min_pressure(millibars)  dec_time             H  \\\n",
       "0                        50                     997       0.0  12316.103125   \n",
       "1                        50                     995       6.0  12424.821125   \n",
       "2                        50                     995      12.0  12272.562500   \n",
       "3                        55                     994      18.0  12315.757825   \n",
       "4                        25                    1009      18.0  12315.757825   \n",
       "\n",
       "           D             Z             M  \n",
       "0 -71.595325  54850.841400  56227.642290  \n",
       "1 -28.485150  54916.058625  56314.219674  \n",
       "2 -41.607025  54810.760175  56179.645382  \n",
       "3  -8.232800  54822.339850  56199.663107  \n",
       "4  -8.232800  54822.339850  56199.663107  "
      ]
     },
     "execution_count": 101,
     "metadata": {},
     "output_type": "execute_result"
    }
   ],
   "source": [
    "df6 = pd.merge(hurdat2, df5, on='date')\n",
    "df6.head()"
   ]
  },
  {
   "cell_type": "code",
   "execution_count": 102,
   "id": "a76a459c",
   "metadata": {},
   "outputs": [
    {
     "data": {
      "text/plain": [
       "array(['HARVEY', 'IRENE', 'TEN'], dtype=object)"
      ]
     },
     "execution_count": 102,
     "metadata": {},
     "output_type": "execute_result"
    }
   ],
   "source": [
    "df6.name.unique()"
   ]
  },
  {
   "cell_type": "markdown",
   "id": "c56dac27",
   "metadata": {},
   "source": [
    "Selecting Hurricane Dorian only."
   ]
  },
  {
   "cell_type": "code",
   "execution_count": 103,
   "id": "d723cfe9",
   "metadata": {},
   "outputs": [
    {
     "data": {
      "text/html": [
       "<div>\n",
       "<style scoped>\n",
       "    .dataframe tbody tr th:only-of-type {\n",
       "        vertical-align: middle;\n",
       "    }\n",
       "\n",
       "    .dataframe tbody tr th {\n",
       "        vertical-align: top;\n",
       "    }\n",
       "\n",
       "    .dataframe thead th {\n",
       "        text-align: right;\n",
       "    }\n",
       "</style>\n",
       "<table border=\"1\" class=\"dataframe\">\n",
       "  <thead>\n",
       "    <tr style=\"text-align: right;\">\n",
       "      <th></th>\n",
       "      <th>date</th>\n",
       "      <th>storm_id</th>\n",
       "      <th>name</th>\n",
       "      <th>cat</th>\n",
       "      <th>lat</th>\n",
       "      <th>long</th>\n",
       "      <th>max_sust_windspeed(knots)</th>\n",
       "      <th>min_pressure(millibars)</th>\n",
       "      <th>dec_time</th>\n",
       "      <th>H</th>\n",
       "      <th>D</th>\n",
       "      <th>Z</th>\n",
       "      <th>M</th>\n",
       "    </tr>\n",
       "  </thead>\n",
       "  <tbody>\n",
       "    <tr>\n",
       "      <th>4</th>\n",
       "      <td>2005-08-04 18:00:00</td>\n",
       "      <td>AL092005</td>\n",
       "      <td>IRENE</td>\n",
       "      <td>TD</td>\n",
       "      <td>12.9</td>\n",
       "      <td>-33.5</td>\n",
       "      <td>25</td>\n",
       "      <td>1009</td>\n",
       "      <td>18.0</td>\n",
       "      <td>12315.757825</td>\n",
       "      <td>-8.232800</td>\n",
       "      <td>54822.339850</td>\n",
       "      <td>56199.663107</td>\n",
       "    </tr>\n",
       "    <tr>\n",
       "      <th>6</th>\n",
       "      <td>2005-08-05 00:00:00</td>\n",
       "      <td>AL092005</td>\n",
       "      <td>IRENE</td>\n",
       "      <td>TD</td>\n",
       "      <td>13.6</td>\n",
       "      <td>-34.5</td>\n",
       "      <td>25</td>\n",
       "      <td>1009</td>\n",
       "      <td>2.0</td>\n",
       "      <td>12315.851880</td>\n",
       "      <td>-43.331240</td>\n",
       "      <td>54792.318140</td>\n",
       "      <td>56168.243833</td>\n",
       "    </tr>\n",
       "    <tr>\n",
       "      <th>8</th>\n",
       "      <td>2005-08-05 06:00:00</td>\n",
       "      <td>AL092005</td>\n",
       "      <td>IRENE</td>\n",
       "      <td>TD</td>\n",
       "      <td>14.6</td>\n",
       "      <td>-35.5</td>\n",
       "      <td>25</td>\n",
       "      <td>1009</td>\n",
       "      <td>6.0</td>\n",
       "      <td>12337.089075</td>\n",
       "      <td>-36.189825</td>\n",
       "      <td>54866.171875</td>\n",
       "      <td>56247.001362</td>\n",
       "    </tr>\n",
       "    <tr>\n",
       "      <th>10</th>\n",
       "      <td>2005-08-05 12:00:00</td>\n",
       "      <td>AL092005</td>\n",
       "      <td>IRENE</td>\n",
       "      <td>TD</td>\n",
       "      <td>15.6</td>\n",
       "      <td>-36.8</td>\n",
       "      <td>30</td>\n",
       "      <td>1008</td>\n",
       "      <td>12.0</td>\n",
       "      <td>12308.374250</td>\n",
       "      <td>-46.788275</td>\n",
       "      <td>54861.308600</td>\n",
       "      <td>56236.370207</td>\n",
       "    </tr>\n",
       "    <tr>\n",
       "      <th>12</th>\n",
       "      <td>2005-08-05 18:00:00</td>\n",
       "      <td>AL092005</td>\n",
       "      <td>IRENE</td>\n",
       "      <td>TD</td>\n",
       "      <td>16.6</td>\n",
       "      <td>-38.4</td>\n",
       "      <td>30</td>\n",
       "      <td>1008</td>\n",
       "      <td>18.0</td>\n",
       "      <td>12204.407050</td>\n",
       "      <td>3.149250</td>\n",
       "      <td>54761.448450</td>\n",
       "      <td>56116.861397</td>\n",
       "    </tr>\n",
       "  </tbody>\n",
       "</table>\n",
       "</div>"
      ],
      "text/plain": [
       "                  date  storm_id   name cat   lat  long  \\\n",
       "4  2005-08-04 18:00:00  AL092005  IRENE  TD  12.9 -33.5   \n",
       "6  2005-08-05 00:00:00  AL092005  IRENE  TD  13.6 -34.5   \n",
       "8  2005-08-05 06:00:00  AL092005  IRENE  TD  14.6 -35.5   \n",
       "10 2005-08-05 12:00:00  AL092005  IRENE  TD  15.6 -36.8   \n",
       "12 2005-08-05 18:00:00  AL092005  IRENE  TD  16.6 -38.4   \n",
       "\n",
       "   max_sust_windspeed(knots) min_pressure(millibars)  dec_time             H  \\\n",
       "4                         25                    1009      18.0  12315.757825   \n",
       "6                         25                    1009       2.0  12315.851880   \n",
       "8                         25                    1009       6.0  12337.089075   \n",
       "10                        30                    1008      12.0  12308.374250   \n",
       "12                        30                    1008      18.0  12204.407050   \n",
       "\n",
       "            D             Z             M  \n",
       "4   -8.232800  54822.339850  56199.663107  \n",
       "6  -43.331240  54792.318140  56168.243833  \n",
       "8  -36.189825  54866.171875  56247.001362  \n",
       "10 -46.788275  54861.308600  56236.370207  \n",
       "12   3.149250  54761.448450  56116.861397  "
      ]
     },
     "execution_count": 103,
     "metadata": {},
     "output_type": "execute_result"
    }
   ],
   "source": [
    "df7 = df6.loc[df6['name']=='IRENE']\n",
    "df7.head()"
   ]
  },
  {
   "cell_type": "code",
   "execution_count": 104,
   "id": "c88ad8ac",
   "metadata": {},
   "outputs": [
    {
     "data": {
      "text/html": [
       "<div>\n",
       "<style scoped>\n",
       "    .dataframe tbody tr th:only-of-type {\n",
       "        vertical-align: middle;\n",
       "    }\n",
       "\n",
       "    .dataframe tbody tr th {\n",
       "        vertical-align: top;\n",
       "    }\n",
       "\n",
       "    .dataframe thead th {\n",
       "        text-align: right;\n",
       "    }\n",
       "</style>\n",
       "<table border=\"1\" class=\"dataframe\">\n",
       "  <thead>\n",
       "    <tr style=\"text-align: right;\">\n",
       "      <th></th>\n",
       "      <th>date</th>\n",
       "      <th>storm_id</th>\n",
       "      <th>name</th>\n",
       "      <th>cat</th>\n",
       "      <th>lat</th>\n",
       "      <th>long</th>\n",
       "      <th>max_sust_windspeed(knots)</th>\n",
       "      <th>min_pressure(millibars)</th>\n",
       "      <th>dec_time</th>\n",
       "      <th>H</th>\n",
       "      <th>D</th>\n",
       "      <th>Z</th>\n",
       "      <th>M</th>\n",
       "    </tr>\n",
       "  </thead>\n",
       "  <tbody>\n",
       "    <tr>\n",
       "      <th>0</th>\n",
       "      <td>2005-08-04 18:00:00</td>\n",
       "      <td>AL092005</td>\n",
       "      <td>IRENE</td>\n",
       "      <td>TD</td>\n",
       "      <td>12.9</td>\n",
       "      <td>-33.5</td>\n",
       "      <td>25</td>\n",
       "      <td>1009</td>\n",
       "      <td>18.0</td>\n",
       "      <td>12315.757825</td>\n",
       "      <td>-8.232800</td>\n",
       "      <td>54822.339850</td>\n",
       "      <td>56199.663107</td>\n",
       "    </tr>\n",
       "    <tr>\n",
       "      <th>1</th>\n",
       "      <td>2005-08-05 00:00:00</td>\n",
       "      <td>AL092005</td>\n",
       "      <td>IRENE</td>\n",
       "      <td>TD</td>\n",
       "      <td>13.6</td>\n",
       "      <td>-34.5</td>\n",
       "      <td>25</td>\n",
       "      <td>1009</td>\n",
       "      <td>2.0</td>\n",
       "      <td>12315.851880</td>\n",
       "      <td>-43.331240</td>\n",
       "      <td>54792.318140</td>\n",
       "      <td>56168.243833</td>\n",
       "    </tr>\n",
       "    <tr>\n",
       "      <th>2</th>\n",
       "      <td>2005-08-05 06:00:00</td>\n",
       "      <td>AL092005</td>\n",
       "      <td>IRENE</td>\n",
       "      <td>TD</td>\n",
       "      <td>14.6</td>\n",
       "      <td>-35.5</td>\n",
       "      <td>25</td>\n",
       "      <td>1009</td>\n",
       "      <td>6.0</td>\n",
       "      <td>12337.089075</td>\n",
       "      <td>-36.189825</td>\n",
       "      <td>54866.171875</td>\n",
       "      <td>56247.001362</td>\n",
       "    </tr>\n",
       "    <tr>\n",
       "      <th>3</th>\n",
       "      <td>2005-08-05 12:00:00</td>\n",
       "      <td>AL092005</td>\n",
       "      <td>IRENE</td>\n",
       "      <td>TD</td>\n",
       "      <td>15.6</td>\n",
       "      <td>-36.8</td>\n",
       "      <td>30</td>\n",
       "      <td>1008</td>\n",
       "      <td>12.0</td>\n",
       "      <td>12308.374250</td>\n",
       "      <td>-46.788275</td>\n",
       "      <td>54861.308600</td>\n",
       "      <td>56236.370207</td>\n",
       "    </tr>\n",
       "    <tr>\n",
       "      <th>4</th>\n",
       "      <td>2005-08-05 18:00:00</td>\n",
       "      <td>AL092005</td>\n",
       "      <td>IRENE</td>\n",
       "      <td>TD</td>\n",
       "      <td>16.6</td>\n",
       "      <td>-38.4</td>\n",
       "      <td>30</td>\n",
       "      <td>1008</td>\n",
       "      <td>18.0</td>\n",
       "      <td>12204.407050</td>\n",
       "      <td>3.149250</td>\n",
       "      <td>54761.448450</td>\n",
       "      <td>56116.861397</td>\n",
       "    </tr>\n",
       "  </tbody>\n",
       "</table>\n",
       "</div>"
      ],
      "text/plain": [
       "                 date  storm_id   name cat   lat  long  \\\n",
       "0 2005-08-04 18:00:00  AL092005  IRENE  TD  12.9 -33.5   \n",
       "1 2005-08-05 00:00:00  AL092005  IRENE  TD  13.6 -34.5   \n",
       "2 2005-08-05 06:00:00  AL092005  IRENE  TD  14.6 -35.5   \n",
       "3 2005-08-05 12:00:00  AL092005  IRENE  TD  15.6 -36.8   \n",
       "4 2005-08-05 18:00:00  AL092005  IRENE  TD  16.6 -38.4   \n",
       "\n",
       "  max_sust_windspeed(knots) min_pressure(millibars)  dec_time             H  \\\n",
       "0                        25                    1009      18.0  12315.757825   \n",
       "1                        25                    1009       2.0  12315.851880   \n",
       "2                        25                    1009       6.0  12337.089075   \n",
       "3                        30                    1008      12.0  12308.374250   \n",
       "4                        30                    1008      18.0  12204.407050   \n",
       "\n",
       "           D             Z             M  \n",
       "0  -8.232800  54822.339850  56199.663107  \n",
       "1 -43.331240  54792.318140  56168.243833  \n",
       "2 -36.189825  54866.171875  56247.001362  \n",
       "3 -46.788275  54861.308600  56236.370207  \n",
       "4   3.149250  54761.448450  56116.861397  "
      ]
     },
     "execution_count": 104,
     "metadata": {},
     "output_type": "execute_result"
    }
   ],
   "source": [
    "df7.reset_index(drop=True, inplace=True)\n",
    "df7.head()"
   ]
  },
  {
   "cell_type": "markdown",
   "id": "ae358a9b",
   "metadata": {},
   "source": [
    "Attempt at using Scipy to pairwise process the lat long coords using the distance function. This function did not produce expected results. Instead of having one list of 64 items, it instead had 64 lists of 64 items. The code must have some other function, but it is not what is needed in this instance."
   ]
  },
  {
   "cell_type": "code",
   "execution_count": 249,
   "id": "fafa1c19",
   "metadata": {},
   "outputs": [
    {
     "data": {
      "text/plain": [
       "array([[   0.        ,  120.81785246,  253.66829224, ..., 4535.72806185,\n",
       "        4623.791428  , 4654.55291648],\n",
       "       [ 120.81785246,    0.        ,  133.04997345, ..., 4496.94611595,\n",
       "        4591.03658478, 4628.1981976 ],\n",
       "       [ 253.66829224,  133.04997345,    0.        , ..., 4447.06922171,\n",
       "        4547.63495337, 4591.74074462],\n",
       "       ...,\n",
       "       [4535.72806185, 4496.94611595, 4447.06922171, ...,    0.        ,\n",
       "         236.64597396,  465.27021486],\n",
       "       [4623.791428  , 4591.03658478, 4547.63495337, ...,  236.64597396,\n",
       "           0.        ,  233.53335468],\n",
       "       [4654.55291648, 4628.1981976 , 4591.74074462, ...,  465.27021486,\n",
       "         233.53335468,    0.        ]])"
      ]
     },
     "execution_count": 249,
     "metadata": {},
     "output_type": "execute_result"
    }
   ],
   "source": [
    "from scipy import spatial\n",
    "\n",
    "all_points = df7[['lat', 'long']].values\n",
    "\n",
    "dm = scipy.spatial.distance.cdist(all_points,\n",
    "                                  all_points,\n",
    "                                  get_distance)\n",
    "dm"
   ]
  },
  {
   "cell_type": "code",
   "execution_count": 254,
   "id": "91f5a8d1",
   "metadata": {},
   "outputs": [
    {
     "data": {
      "text/plain": [
       "64"
      ]
     },
     "execution_count": 254,
     "metadata": {},
     "output_type": "execute_result"
    }
   ],
   "source": [
    "len(dm[0])"
   ]
  },
  {
   "cell_type": "code",
   "execution_count": 251,
   "id": "e03c419e",
   "metadata": {},
   "outputs": [
    {
     "data": {
      "text/plain": [
       "(64, 13)"
      ]
     },
     "execution_count": 251,
     "metadata": {},
     "output_type": "execute_result"
    }
   ],
   "source": [
    "df7.shape"
   ]
  },
  {
   "cell_type": "markdown",
   "id": "3cda1431",
   "metadata": {},
   "source": [
    "A better solution is to use itertools pairwise, however this has been discontinued. Instead it is necessary to use the follow code and the tee function."
   ]
  },
  {
   "cell_type": "code",
   "execution_count": 105,
   "id": "088676a1",
   "metadata": {},
   "outputs": [],
   "source": [
    "import itertools\n",
    "\n",
    "def pairwise(iterable):\n",
    "    # pairwise('ABCDEFG') --> AB BC CD DE EF FG\n",
    "    a, b = itertools.tee(iterable)\n",
    "    next(b, None)\n",
    "    return zip(a, b)\n",
    "\n",
    "k = list((pairwise(list(zip(df7.lat, df7.long)))))"
   ]
  },
  {
   "cell_type": "code",
   "execution_count": 106,
   "id": "9b248b2a",
   "metadata": {},
   "outputs": [],
   "source": [
    "sk = [0]\n",
    "\n",
    "for i in k:\n",
    "    sk.append(get_distance(i))\n"
   ]
  },
  {
   "cell_type": "code",
   "execution_count": 107,
   "id": "b18e5bc3",
   "metadata": {},
   "outputs": [
    {
     "name": "stderr",
     "output_type": "stream",
     "text": [
      "/opt/anaconda3/envs/voila2/lib/python3.7/site-packages/ipykernel_launcher.py:1: SettingWithCopyWarning:\n",
      "\n",
      "\n",
      "A value is trying to be set on a copy of a slice from a DataFrame.\n",
      "Try using .loc[row_indexer,col_indexer] = value instead\n",
      "\n",
      "See the caveats in the documentation: https://pandas.pydata.org/pandas-docs/stable/user_guide/indexing.html#returning-a-view-versus-a-copy\n",
      "\n"
     ]
    }
   ],
   "source": [
    "df7['dist'] = sk"
   ]
  },
  {
   "cell_type": "code",
   "execution_count": 108,
   "id": "886fee0b",
   "metadata": {},
   "outputs": [
    {
     "data": {
      "text/html": [
       "<div>\n",
       "<style scoped>\n",
       "    .dataframe tbody tr th:only-of-type {\n",
       "        vertical-align: middle;\n",
       "    }\n",
       "\n",
       "    .dataframe tbody tr th {\n",
       "        vertical-align: top;\n",
       "    }\n",
       "\n",
       "    .dataframe thead th {\n",
       "        text-align: right;\n",
       "    }\n",
       "</style>\n",
       "<table border=\"1\" class=\"dataframe\">\n",
       "  <thead>\n",
       "    <tr style=\"text-align: right;\">\n",
       "      <th></th>\n",
       "      <th>date</th>\n",
       "      <th>storm_id</th>\n",
       "      <th>name</th>\n",
       "      <th>cat</th>\n",
       "      <th>lat</th>\n",
       "      <th>long</th>\n",
       "      <th>max_sust_windspeed(knots)</th>\n",
       "      <th>min_pressure(millibars)</th>\n",
       "      <th>dec_time</th>\n",
       "      <th>H</th>\n",
       "      <th>D</th>\n",
       "      <th>Z</th>\n",
       "      <th>M</th>\n",
       "      <th>dist</th>\n",
       "    </tr>\n",
       "  </thead>\n",
       "  <tbody>\n",
       "    <tr>\n",
       "      <th>0</th>\n",
       "      <td>2005-08-04 18:00:00</td>\n",
       "      <td>AL092005</td>\n",
       "      <td>IRENE</td>\n",
       "      <td>TD</td>\n",
       "      <td>12.9</td>\n",
       "      <td>-33.5</td>\n",
       "      <td>25</td>\n",
       "      <td>1009</td>\n",
       "      <td>18.0</td>\n",
       "      <td>12315.757825</td>\n",
       "      <td>-8.232800</td>\n",
       "      <td>54822.339850</td>\n",
       "      <td>56199.663107</td>\n",
       "      <td>0.000000</td>\n",
       "    </tr>\n",
       "    <tr>\n",
       "      <th>1</th>\n",
       "      <td>2005-08-05 00:00:00</td>\n",
       "      <td>AL092005</td>\n",
       "      <td>IRENE</td>\n",
       "      <td>TD</td>\n",
       "      <td>13.6</td>\n",
       "      <td>-34.5</td>\n",
       "      <td>25</td>\n",
       "      <td>1009</td>\n",
       "      <td>2.0</td>\n",
       "      <td>12315.851880</td>\n",
       "      <td>-43.331240</td>\n",
       "      <td>54792.318140</td>\n",
       "      <td>56168.243833</td>\n",
       "      <td>133.294890</td>\n",
       "    </tr>\n",
       "    <tr>\n",
       "      <th>2</th>\n",
       "      <td>2005-08-05 06:00:00</td>\n",
       "      <td>AL092005</td>\n",
       "      <td>IRENE</td>\n",
       "      <td>TD</td>\n",
       "      <td>14.6</td>\n",
       "      <td>-35.5</td>\n",
       "      <td>25</td>\n",
       "      <td>1009</td>\n",
       "      <td>6.0</td>\n",
       "      <td>12337.089075</td>\n",
       "      <td>-36.189825</td>\n",
       "      <td>54866.171875</td>\n",
       "      <td>56247.001362</td>\n",
       "      <td>154.877120</td>\n",
       "    </tr>\n",
       "    <tr>\n",
       "      <th>3</th>\n",
       "      <td>2005-08-05 12:00:00</td>\n",
       "      <td>AL092005</td>\n",
       "      <td>IRENE</td>\n",
       "      <td>TD</td>\n",
       "      <td>15.6</td>\n",
       "      <td>-36.8</td>\n",
       "      <td>30</td>\n",
       "      <td>1008</td>\n",
       "      <td>12.0</td>\n",
       "      <td>12308.374250</td>\n",
       "      <td>-46.788275</td>\n",
       "      <td>54861.308600</td>\n",
       "      <td>56236.370207</td>\n",
       "      <td>178.413309</td>\n",
       "    </tr>\n",
       "    <tr>\n",
       "      <th>4</th>\n",
       "      <td>2005-08-05 18:00:00</td>\n",
       "      <td>AL092005</td>\n",
       "      <td>IRENE</td>\n",
       "      <td>TD</td>\n",
       "      <td>16.6</td>\n",
       "      <td>-38.4</td>\n",
       "      <td>30</td>\n",
       "      <td>1008</td>\n",
       "      <td>18.0</td>\n",
       "      <td>12204.407050</td>\n",
       "      <td>3.149250</td>\n",
       "      <td>54761.448450</td>\n",
       "      <td>56116.861397</td>\n",
       "      <td>203.883859</td>\n",
       "    </tr>\n",
       "  </tbody>\n",
       "</table>\n",
       "</div>"
      ],
      "text/plain": [
       "                 date  storm_id   name cat   lat  long  \\\n",
       "0 2005-08-04 18:00:00  AL092005  IRENE  TD  12.9 -33.5   \n",
       "1 2005-08-05 00:00:00  AL092005  IRENE  TD  13.6 -34.5   \n",
       "2 2005-08-05 06:00:00  AL092005  IRENE  TD  14.6 -35.5   \n",
       "3 2005-08-05 12:00:00  AL092005  IRENE  TD  15.6 -36.8   \n",
       "4 2005-08-05 18:00:00  AL092005  IRENE  TD  16.6 -38.4   \n",
       "\n",
       "  max_sust_windspeed(knots) min_pressure(millibars)  dec_time             H  \\\n",
       "0                        25                    1009      18.0  12315.757825   \n",
       "1                        25                    1009       2.0  12315.851880   \n",
       "2                        25                    1009       6.0  12337.089075   \n",
       "3                        30                    1008      12.0  12308.374250   \n",
       "4                        30                    1008      18.0  12204.407050   \n",
       "\n",
       "           D             Z             M        dist  \n",
       "0  -8.232800  54822.339850  56199.663107    0.000000  \n",
       "1 -43.331240  54792.318140  56168.243833  133.294890  \n",
       "2 -36.189825  54866.171875  56247.001362  154.877120  \n",
       "3 -46.788275  54861.308600  56236.370207  178.413309  \n",
       "4   3.149250  54761.448450  56116.861397  203.883859  "
      ]
     },
     "execution_count": 108,
     "metadata": {},
     "output_type": "execute_result"
    }
   ],
   "source": [
    "df7.head()"
   ]
  },
  {
   "cell_type": "markdown",
   "id": "74192eed",
   "metadata": {},
   "source": [
    "Once we have the distance travelled, it is possible to divide it by the time take (6 hrs between each observation)."
   ]
  },
  {
   "cell_type": "code",
   "execution_count": 109,
   "id": "816f8105",
   "metadata": {},
   "outputs": [
    {
     "name": "stderr",
     "output_type": "stream",
     "text": [
      "/opt/anaconda3/envs/voila2/lib/python3.7/site-packages/ipykernel_launcher.py:2: SettingWithCopyWarning:\n",
      "\n",
      "\n",
      "A value is trying to be set on a copy of a slice from a DataFrame.\n",
      "Try using .loc[row_indexer,col_indexer] = value instead\n",
      "\n",
      "See the caveats in the documentation: https://pandas.pydata.org/pandas-docs/stable/user_guide/indexing.html#returning-a-view-versus-a-copy\n",
      "\n"
     ]
    },
    {
     "data": {
      "text/html": [
       "<div>\n",
       "<style scoped>\n",
       "    .dataframe tbody tr th:only-of-type {\n",
       "        vertical-align: middle;\n",
       "    }\n",
       "\n",
       "    .dataframe tbody tr th {\n",
       "        vertical-align: top;\n",
       "    }\n",
       "\n",
       "    .dataframe thead th {\n",
       "        text-align: right;\n",
       "    }\n",
       "</style>\n",
       "<table border=\"1\" class=\"dataframe\">\n",
       "  <thead>\n",
       "    <tr style=\"text-align: right;\">\n",
       "      <th></th>\n",
       "      <th>date</th>\n",
       "      <th>storm_id</th>\n",
       "      <th>name</th>\n",
       "      <th>cat</th>\n",
       "      <th>lat</th>\n",
       "      <th>long</th>\n",
       "      <th>max_sust_windspeed(knots)</th>\n",
       "      <th>min_pressure(millibars)</th>\n",
       "      <th>dec_time</th>\n",
       "      <th>H</th>\n",
       "      <th>D</th>\n",
       "      <th>Z</th>\n",
       "      <th>M</th>\n",
       "      <th>dist</th>\n",
       "      <th>FM</th>\n",
       "    </tr>\n",
       "  </thead>\n",
       "  <tbody>\n",
       "    <tr>\n",
       "      <th>0</th>\n",
       "      <td>2005-08-04 18:00:00</td>\n",
       "      <td>AL092005</td>\n",
       "      <td>IRENE</td>\n",
       "      <td>TD</td>\n",
       "      <td>12.9</td>\n",
       "      <td>-33.5</td>\n",
       "      <td>25</td>\n",
       "      <td>1009</td>\n",
       "      <td>18.0</td>\n",
       "      <td>12315.757825</td>\n",
       "      <td>-8.232800</td>\n",
       "      <td>54822.339850</td>\n",
       "      <td>56199.663107</td>\n",
       "      <td>0.000000</td>\n",
       "      <td>0.000000</td>\n",
       "    </tr>\n",
       "    <tr>\n",
       "      <th>1</th>\n",
       "      <td>2005-08-05 00:00:00</td>\n",
       "      <td>AL092005</td>\n",
       "      <td>IRENE</td>\n",
       "      <td>TD</td>\n",
       "      <td>13.6</td>\n",
       "      <td>-34.5</td>\n",
       "      <td>25</td>\n",
       "      <td>1009</td>\n",
       "      <td>2.0</td>\n",
       "      <td>12315.851880</td>\n",
       "      <td>-43.331240</td>\n",
       "      <td>54792.318140</td>\n",
       "      <td>56168.243833</td>\n",
       "      <td>133.294890</td>\n",
       "      <td>22.215815</td>\n",
       "    </tr>\n",
       "    <tr>\n",
       "      <th>2</th>\n",
       "      <td>2005-08-05 06:00:00</td>\n",
       "      <td>AL092005</td>\n",
       "      <td>IRENE</td>\n",
       "      <td>TD</td>\n",
       "      <td>14.6</td>\n",
       "      <td>-35.5</td>\n",
       "      <td>25</td>\n",
       "      <td>1009</td>\n",
       "      <td>6.0</td>\n",
       "      <td>12337.089075</td>\n",
       "      <td>-36.189825</td>\n",
       "      <td>54866.171875</td>\n",
       "      <td>56247.001362</td>\n",
       "      <td>154.877120</td>\n",
       "      <td>25.812853</td>\n",
       "    </tr>\n",
       "    <tr>\n",
       "      <th>3</th>\n",
       "      <td>2005-08-05 12:00:00</td>\n",
       "      <td>AL092005</td>\n",
       "      <td>IRENE</td>\n",
       "      <td>TD</td>\n",
       "      <td>15.6</td>\n",
       "      <td>-36.8</td>\n",
       "      <td>30</td>\n",
       "      <td>1008</td>\n",
       "      <td>12.0</td>\n",
       "      <td>12308.374250</td>\n",
       "      <td>-46.788275</td>\n",
       "      <td>54861.308600</td>\n",
       "      <td>56236.370207</td>\n",
       "      <td>178.413309</td>\n",
       "      <td>29.735551</td>\n",
       "    </tr>\n",
       "    <tr>\n",
       "      <th>4</th>\n",
       "      <td>2005-08-05 18:00:00</td>\n",
       "      <td>AL092005</td>\n",
       "      <td>IRENE</td>\n",
       "      <td>TD</td>\n",
       "      <td>16.6</td>\n",
       "      <td>-38.4</td>\n",
       "      <td>30</td>\n",
       "      <td>1008</td>\n",
       "      <td>18.0</td>\n",
       "      <td>12204.407050</td>\n",
       "      <td>3.149250</td>\n",
       "      <td>54761.448450</td>\n",
       "      <td>56116.861397</td>\n",
       "      <td>203.883859</td>\n",
       "      <td>33.980643</td>\n",
       "    </tr>\n",
       "  </tbody>\n",
       "</table>\n",
       "</div>"
      ],
      "text/plain": [
       "                 date  storm_id   name cat   lat  long  \\\n",
       "0 2005-08-04 18:00:00  AL092005  IRENE  TD  12.9 -33.5   \n",
       "1 2005-08-05 00:00:00  AL092005  IRENE  TD  13.6 -34.5   \n",
       "2 2005-08-05 06:00:00  AL092005  IRENE  TD  14.6 -35.5   \n",
       "3 2005-08-05 12:00:00  AL092005  IRENE  TD  15.6 -36.8   \n",
       "4 2005-08-05 18:00:00  AL092005  IRENE  TD  16.6 -38.4   \n",
       "\n",
       "  max_sust_windspeed(knots) min_pressure(millibars)  dec_time             H  \\\n",
       "0                        25                    1009      18.0  12315.757825   \n",
       "1                        25                    1009       2.0  12315.851880   \n",
       "2                        25                    1009       6.0  12337.089075   \n",
       "3                        30                    1008      12.0  12308.374250   \n",
       "4                        30                    1008      18.0  12204.407050   \n",
       "\n",
       "           D             Z             M        dist         FM  \n",
       "0  -8.232800  54822.339850  56199.663107    0.000000   0.000000  \n",
       "1 -43.331240  54792.318140  56168.243833  133.294890  22.215815  \n",
       "2 -36.189825  54866.171875  56247.001362  154.877120  25.812853  \n",
       "3 -46.788275  54861.308600  56236.370207  178.413309  29.735551  \n",
       "4   3.149250  54761.448450  56116.861397  203.883859  33.980643  "
      ]
     },
     "execution_count": 109,
     "metadata": {},
     "output_type": "execute_result"
    }
   ],
   "source": [
    "#forward motion\n",
    "df7['FM'] = df7.dist/6\n",
    "df7.head()"
   ]
  },
  {
   "cell_type": "markdown",
   "id": "820114da",
   "metadata": {},
   "source": [
    "Correlation plot reveals little correlation between the features, suggesting that the geomagnetic field is not strongly correlated with the geomagnetic field."
   ]
  },
  {
   "cell_type": "code",
   "execution_count": 110,
   "id": "db7c1fc8",
   "metadata": {},
   "outputs": [
    {
     "data": {
      "text/plain": [
       "<AxesSubplot:>"
      ]
     },
     "execution_count": 110,
     "metadata": {},
     "output_type": "execute_result"
    },
    {
     "data": {
      "image/png": "[encoded data removed]",
      "text/plain": [
       "<Figure size 1440x720 with 2 Axes>"
      ]
     },
     "metadata": {},
     "output_type": "display_data"
    }
   ],
   "source": [
    "import seaborn as sns #visualisation\n",
    "import matplotlib.pyplot as plt #visualisation\n",
    "%matplotlib inline \n",
    "sns.set(color_codes=True)\n",
    "\n",
    "plt.figure(figsize=(20,10))\n",
    "c= df7.corr()\n",
    "sns.heatmap(c,cmap=\"BrBG\",annot=True)"
   ]
  },
  {
   "cell_type": "code",
   "execution_count": 3,
   "id": "470517eb",
   "metadata": {},
   "outputs": [],
   "source": [
    "df7 = pd.read_csv('geomag_hurricane_DORIAN.csv')"
   ]
  },
  {
   "cell_type": "code",
   "execution_count": 111,
   "id": "1e1c812d",
   "metadata": {},
   "outputs": [],
   "source": [
    "import cartopy.crs as ccrs\n",
    "import cartopy.feature as cfeature"
   ]
  },
  {
   "cell_type": "markdown",
   "id": "547bb653",
   "metadata": {},
   "source": [
    "Plotting the path of the hurricane reveals that it followed along the coast and therefore along the edge of the Azores High, which was situated inland at the time."
   ]
  },
  {
   "cell_type": "code",
   "execution_count": 112,
   "id": "8df31f2a",
   "metadata": {},
   "outputs": [],
   "source": [
    "plot_crs = ccrs.LambertConformal(central_longitude = -100, central_latitude = 45)\n",
    "#data coordinate reference system\n",
    "data_crs = ccrs.PlateCarree()\n"
   ]
  },
  {
   "cell_type": "code",
   "execution_count": 113,
   "id": "50c5adfd",
   "metadata": {},
   "outputs": [
    {
     "data": {
      "text/plain": [
       "[<matplotlib.lines.Line2D at 0x130922a90>]"
      ]
     },
     "execution_count": 113,
     "metadata": {},
     "output_type": "execute_result"
    },
    {
     "data": {
      "image/png": "[encoded data removed]",
      "text/plain": [
       "<Figure size 432x432 with 1 Axes>"
      ]
     },
     "metadata": {},
     "output_type": "display_data"
    }
   ],
   "source": [
    "fig = plt.figure(figsize=(6,6))\n",
    "ax = plt.subplot(1,1,1, projection=plot_crs)\n",
    "\n",
    "ax.set_extent([-100,-37,12,52], data_crs)\n",
    "ax.coastlines('50m', edgecolor='k', linewidth=0.75)\n",
    "ax.add_feature(cfeature.STATES, linewidth=0.5)\n",
    "\n",
    "ax.plot(df7['long'], df7['lat'],\n",
    "       transform=data_crs)"
   ]
  },
  {
   "cell_type": "code",
   "execution_count": 114,
   "id": "c60688aa",
   "metadata": {
    "scrolled": false
   },
   "outputs": [],
   "source": [
    "#conda install cartopy"
   ]
  },
  {
   "cell_type": "markdown",
   "id": "19161e1f",
   "metadata": {},
   "source": [
    "Plotting the forward motion and geomagnetic field."
   ]
  },
  {
   "cell_type": "code",
   "execution_count": 115,
   "id": "20544bd4",
   "metadata": {},
   "outputs": [
    {
     "data": {
      "application/vnd.plotly.v1+json": {
       "config": {
        "plotlyServerURL": "https://plot.ly"
       },
       "data": [
        {
         "hovertemplate": "date=%{x}<br>FM=%{y}<extra></extra>",
         "legendgroup": "",
         "line": {
          "color": "#636efa",
          "dash": "solid"
         },
         "marker": {
          "symbol": "circle"
         },
         "mode": "lines",
         "name": "",
         "orientation": "v",
         "showlegend": false,
         "type": "scatter",
         "x": [
          "2005-08-04T18:00:00",
          "2005-08-05T00:00:00",
          "2005-08-05T06:00:00",
          "2005-08-05T12:00:00",
          "2005-08-05T18:00:00",
          "2005-08-06T00:00:00",
          "2005-08-06T06:00:00",
          "2005-08-06T12:00:00",
          "2005-08-06T18:00:00",
          "2005-08-07T00:00:00",
          "2005-08-07T06:00:00",
          "2005-08-07T12:00:00",
          "2005-08-07T18:00:00",
          "2005-08-08T00:00:00",
          "2005-08-08T06:00:00",
          "2005-08-08T12:00:00",
          "2005-08-08T18:00:00",
          "2005-08-09T00:00:00",
          "2005-08-09T06:00:00",
          "2005-08-09T12:00:00",
          "2005-08-09T18:00:00",
          "2005-08-10T00:00:00",
          "2005-08-10T06:00:00",
          "2005-08-10T12:00:00",
          "2005-08-10T18:00:00",
          "2005-08-11T00:00:00",
          "2005-08-11T06:00:00",
          "2005-08-11T12:00:00",
          "2005-08-11T18:00:00",
          "2005-08-12T00:00:00",
          "2005-08-12T06:00:00",
          "2005-08-12T12:00:00",
          "2005-08-12T18:00:00",
          "2005-08-13T00:00:00",
          "2005-08-13T06:00:00",
          "2005-08-13T12:00:00",
          "2005-08-13T18:00:00",
          "2005-08-14T00:00:00",
          "2005-08-14T06:00:00",
          "2005-08-14T12:00:00",
          "2005-08-14T18:00:00",
          "2005-08-15T00:00:00",
          "2005-08-15T06:00:00",
          "2005-08-15T12:00:00",
          "2005-08-15T18:00:00",
          "2005-08-16T00:00:00",
          "2005-08-16T06:00:00",
          "2005-08-16T12:00:00",
          "2005-08-16T18:00:00",
          "2005-08-17T00:00:00",
          "2005-08-17T06:00:00",
          "2005-08-17T12:00:00",
          "2005-08-17T18:00:00",
          "2005-08-18T00:00:00",
          "2005-08-18T06:00:00",
          "2005-08-18T12:00:00"
         ],
         "xaxis": "x",
         "y": [
          0,
          22.21581505131367,
          25.812853392526048,
          29.73555149987258,
          33.980643241647456,
          27.197081252273048,
          15.457856733929079,
          21.49002100974283,
          23.83768924294252,
          15.367208043372372,
          14.297797254629542,
          16.73300765937502,
          20.611528300209184,
          22.725795352231003,
          21.100415794125443,
          28.470030506809138,
          17.53967877184256,
          18.92867521993386,
          15.523710224235339,
          13.705142768453968,
          18.84455150795574,
          15.418280783305876,
          13.834714412152055,
          12.138570811318191,
          17.08715038329049,
          22.46003990892996,
          21.73609157379357,
          26.489921052866507,
          23.95847791975713,
          22.435218640733968,
          27.217451942292175,
          23.598206969451066,
          16.02077450814171,
          13.454558567061875,
          15.283335930050463,
          14.845939627690482,
          16.14334429325267,
          16.80894744095352,
          10.398664845513048,
          18.59521354916285,
          16.747964652924786,
          18.343261377544223,
          19.133725240543082,
          18.663318071951657,
          18.27673441887436,
          20.921732505102263,
          16.36336737919738,
          14.875802622120927,
          15.000319034541896,
          10.426567438111727,
          10.426567438111915,
          23.48476461058201,
          29.547529762319613,
          38.314209156134794,
          49.84233210959624,
          72.75889735773022
         ],
         "yaxis": "y"
        }
       ],
       "layout": {
        "legend": {
         "tracegroupgap": 0
        },
        "margin": {
         "t": 60
        },
        "template": {
         "data": {
          "bar": [
           {
            "error_x": {
             "color": "#2a3f5f"
            },
            "error_y": {
             "color": "#2a3f5f"
            },
            "marker": {
             "line": {
              "color": "#E5ECF6",
              "width": 0.5
             },
             "pattern": {
              "fillmode": "overlay",
              "size": 10,
              "solidity": 0.2
             }
            },
            "type": "bar"
           }
          ],
          "barpolar": [
           {
            "marker": {
             "line": {
              "color": "#E5ECF6",
              "width": 0.5
             },
             "pattern": {
              "fillmode": "overlay",
              "size": 10,
              "solidity": 0.2
             }
            },
            "type": "barpolar"
           }
          ],
          "carpet": [
           {
            "aaxis": {
             "endlinecolor": "#2a3f5f",
             "gridcolor": "white",
             "linecolor": "white",
             "minorgridcolor": "white",
             "startlinecolor": "#2a3f5f"
            },
            "baxis": {
             "endlinecolor": "#2a3f5f",
             "gridcolor": "white",
             "linecolor": "white",
             "minorgridcolor": "white",
             "startlinecolor": "#2a3f5f"
            },
            "type": "carpet"
           }
          ],
          "choropleth": [
           {
            "colorbar": {
             "outlinewidth": 0,
             "ticks": ""
            },
            "type": "choropleth"
           }
          ],
          "contour": [
           {
            "colorbar": {
             "outlinewidth": 0,
             "ticks": ""
            },
            "colorscale": [
             [
              0,
              "#0d0887"
             ],
             [
              0.1111111111111111,
              "#46039f"
             ],
             [
              0.2222222222222222,
              "#7201a8"
             ],
             [
              0.3333333333333333,
              "#9c179e"
             ],
             [
              0.4444444444444444,
              "#bd3786"
             ],
             [
              0.5555555555555556,
              "#d8576b"
             ],
             [
              0.6666666666666666,
              "#ed7953"
             ],
             [
              0.7777777777777778,
              "#fb9f3a"
             ],
             [
              0.8888888888888888,
              "#fdca26"
             ],
             [
              1,
              "#f0f921"
             ]
            ],
            "type": "contour"
           }
          ],
          "contourcarpet": [
           {
            "colorbar": {
             "outlinewidth": 0,
             "ticks": ""
            },
            "type": "contourcarpet"
           }
          ],
          "heatmap": [
           {
            "colorbar": {
             "outlinewidth": 0,
             "ticks": ""
            },
            "colorscale": [
             [
              0,
              "#0d0887"
             ],
             [
              0.1111111111111111,
              "#46039f"
             ],
             [
              0.2222222222222222,
              "#7201a8"
             ],
             [
              0.3333333333333333,
              "#9c179e"
             ],
             [
              0.4444444444444444,
              "#bd3786"
             ],
             [
              0.5555555555555556,
              "#d8576b"
             ],
             [
              0.6666666666666666,
              "#ed7953"
             ],
             [
              0.7777777777777778,
              "#fb9f3a"
             ],
             [
              0.8888888888888888,
              "#fdca26"
             ],
             [
              1,
              "#f0f921"
             ]
            ],
            "type": "heatmap"
           }
          ],
          "heatmapgl": [
           {
            "colorbar": {
             "outlinewidth": 0,
             "ticks": ""
            },
            "colorscale": [
             [
              0,
              "#0d0887"
             ],
             [
              0.1111111111111111,
              "#46039f"
             ],
             [
              0.2222222222222222,
              "#7201a8"
             ],
             [
              0.3333333333333333,
              "#9c179e"
             ],
             [
              0.4444444444444444,
              "#bd3786"
             ],
             [
              0.5555555555555556,
              "#d8576b"
             ],
             [
              0.6666666666666666,
              "#ed7953"
             ],
             [
              0.7777777777777778,
              "#fb9f3a"
             ],
             [
              0.8888888888888888,
              "#fdca26"
             ],
             [
              1,
              "#f0f921"
             ]
            ],
            "type": "heatmapgl"
           }
          ],
          "histogram": [
           {
            "marker": {
             "pattern": {
              "fillmode": "overlay",
              "size": 10,
              "solidity": 0.2
             }
            },
            "type": "histogram"
           }
          ],
          "histogram2d": [
           {
            "colorbar": {
             "outlinewidth": 0,
             "ticks": ""
            },
            "colorscale": [
             [
              0,
              "#0d0887"
             ],
             [
              0.1111111111111111,
              "#46039f"
             ],
             [
              0.2222222222222222,
              "#7201a8"
             ],
             [
              0.3333333333333333,
              "#9c179e"
             ],
             [
              0.4444444444444444,
              "#bd3786"
             ],
             [
              0.5555555555555556,
              "#d8576b"
             ],
             [
              0.6666666666666666,
              "#ed7953"
             ],
             [
              0.7777777777777778,
              "#fb9f3a"
             ],
             [
              0.8888888888888888,
              "#fdca26"
             ],
             [
              1,
              "#f0f921"
             ]
            ],
            "type": "histogram2d"
           }
          ],
          "histogram2dcontour": [
           {
            "colorbar": {
             "outlinewidth": 0,
             "ticks": ""
            },
            "colorscale": [
             [
              0,
              "#0d0887"
             ],
             [
              0.1111111111111111,
              "#46039f"
             ],
             [
              0.2222222222222222,
              "#7201a8"
             ],
             [
              0.3333333333333333,
              "#9c179e"
             ],
             [
              0.4444444444444444,
              "#bd3786"
             ],
             [
              0.5555555555555556,
              "#d8576b"
             ],
             [
              0.6666666666666666,
              "#ed7953"
             ],
             [
              0.7777777777777778,
              "#fb9f3a"
             ],
             [
              0.8888888888888888,
              "#fdca26"
             ],
             [
              1,
              "#f0f921"
             ]
            ],
            "type": "histogram2dcontour"
           }
          ],
          "mesh3d": [
           {
            "colorbar": {
             "outlinewidth": 0,
             "ticks": ""
            },
            "type": "mesh3d"
           }
          ],
          "parcoords": [
           {
            "line": {
             "colorbar": {
              "outlinewidth": 0,
              "ticks": ""
             }
            },
            "type": "parcoords"
           }
          ],
          "pie": [
           {
            "automargin": true,
            "type": "pie"
           }
          ],
          "scatter": [
           {
            "marker": {
             "colorbar": {
              "outlinewidth": 0,
              "ticks": ""
             }
            },
            "type": "scatter"
           }
          ],
          "scatter3d": [
           {
            "line": {
             "colorbar": {
              "outlinewidth": 0,
              "ticks": ""
             }
            },
            "marker": {
             "colorbar": {
              "outlinewidth": 0,
              "ticks": ""
             }
            },
            "type": "scatter3d"
           }
          ],
          "scattercarpet": [
           {
            "marker": {
             "colorbar": {
              "outlinewidth": 0,
              "ticks": ""
             }
            },
            "type": "scattercarpet"
           }
          ],
          "scattergeo": [
           {
            "marker": {
             "colorbar": {
              "outlinewidth": 0,
              "ticks": ""
             }
            },
            "type": "scattergeo"
           }
          ],
          "scattergl": [
           {
            "marker": {
             "colorbar": {
              "outlinewidth": 0,
              "ticks": ""
             }
            },
            "type": "scattergl"
           }
          ],
          "scattermapbox": [
           {
            "marker": {
             "colorbar": {
              "outlinewidth": 0,
              "ticks": ""
             }
            },
            "type": "scattermapbox"
           }
          ],
          "scatterpolar": [
           {
            "marker": {
             "colorbar": {
              "outlinewidth": 0,
              "ticks": ""
             }
            },
            "type": "scatterpolar"
           }
          ],
          "scatterpolargl": [
           {
            "marker": {
             "colorbar": {
              "outlinewidth": 0,
              "ticks": ""
             }
            },
            "type": "scatterpolargl"
           }
          ],
          "scatterternary": [
           {
            "marker": {
             "colorbar": {
              "outlinewidth": 0,
              "ticks": ""
             }
            },
            "type": "scatterternary"
           }
          ],
          "surface": [
           {
            "colorbar": {
             "outlinewidth": 0,
             "ticks": ""
            },
            "colorscale": [
             [
              0,
              "#0d0887"
             ],
             [
              0.1111111111111111,
              "#46039f"
             ],
             [
              0.2222222222222222,
              "#7201a8"
             ],
             [
              0.3333333333333333,
              "#9c179e"
             ],
             [
              0.4444444444444444,
              "#bd3786"
             ],
             [
              0.5555555555555556,
              "#d8576b"
             ],
             [
              0.6666666666666666,
              "#ed7953"
             ],
             [
              0.7777777777777778,
              "#fb9f3a"
             ],
             [
              0.8888888888888888,
              "#fdca26"
             ],
             [
              1,
              "#f0f921"
             ]
            ],
            "type": "surface"
           }
          ],
          "table": [
           {
            "cells": {
             "fill": {
              "color": "#EBF0F8"
             },
             "line": {
              "color": "white"
             }
            },
            "header": {
             "fill": {
              "color": "#C8D4E3"
             },
             "line": {
              "color": "white"
             }
            },
            "type": "table"
           }
          ]
         },
         "layout": {
          "annotationdefaults": {
           "arrowcolor": "#2a3f5f",
           "arrowhead": 0,
           "arrowwidth": 1
          },
          "autotypenumbers": "strict",
          "coloraxis": {
           "colorbar": {
            "outlinewidth": 0,
            "ticks": ""
           }
          },
          "colorscale": {
           "diverging": [
            [
             0,
             "#8e0152"
            ],
            [
             0.1,
             "#c51b7d"
            ],
            [
             0.2,
             "#de77ae"
            ],
            [
             0.3,
             "#f1b6da"
            ],
            [
             0.4,
             "#fde0ef"
            ],
            [
             0.5,
             "#f7f7f7"
            ],
            [
             0.6,
             "#e6f5d0"
            ],
            [
             0.7,
             "#b8e186"
            ],
            [
             0.8,
             "#7fbc41"
            ],
            [
             0.9,
             "#4d9221"
            ],
            [
             1,
             "#276419"
            ]
           ],
           "sequential": [
            [
             0,
             "#0d0887"
            ],
            [
             0.1111111111111111,
             "#46039f"
            ],
            [
             0.2222222222222222,
             "#7201a8"
            ],
            [
             0.3333333333333333,
             "#9c179e"
            ],
            [
             0.4444444444444444,
             "#bd3786"
            ],
            [
             0.5555555555555556,
             "#d8576b"
            ],
            [
             0.6666666666666666,
             "#ed7953"
            ],
            [
             0.7777777777777778,
             "#fb9f3a"
            ],
            [
             0.8888888888888888,
             "#fdca26"
            ],
            [
             1,
             "#f0f921"
            ]
           ],
           "sequentialminus": [
            [
             0,
             "#0d0887"
            ],
            [
             0.1111111111111111,
             "#46039f"
            ],
            [
             0.2222222222222222,
             "#7201a8"
            ],
            [
             0.3333333333333333,
             "#9c179e"
            ],
            [
             0.4444444444444444,
             "#bd3786"
            ],
            [
             0.5555555555555556,
             "#d8576b"
            ],
            [
             0.6666666666666666,
             "#ed7953"
            ],
            [
             0.7777777777777778,
             "#fb9f3a"
            ],
            [
             0.8888888888888888,
             "#fdca26"
            ],
            [
             1,
             "#f0f921"
            ]
           ]
          },
          "colorway": [
           "#636efa",
           "#EF553B",
           "#00cc96",
           "#ab63fa",
           "#FFA15A",
           "#19d3f3",
           "#FF6692",
           "#B6E880",
           "#FF97FF",
           "#FECB52"
          ],
          "font": {
           "color": "#2a3f5f"
          },
          "geo": {
           "bgcolor": "white",
           "lakecolor": "white",
           "landcolor": "#E5ECF6",
           "showlakes": true,
           "showland": true,
           "subunitcolor": "white"
          },
          "hoverlabel": {
           "align": "left"
          },
          "hovermode": "closest",
          "mapbox": {
           "style": "light"
          },
          "paper_bgcolor": "white",
          "plot_bgcolor": "#E5ECF6",
          "polar": {
           "angularaxis": {
            "gridcolor": "white",
            "linecolor": "white",
            "ticks": ""
           },
           "bgcolor": "#E5ECF6",
           "radialaxis": {
            "gridcolor": "white",
            "linecolor": "white",
            "ticks": ""
           }
          },
          "scene": {
           "xaxis": {
            "backgroundcolor": "#E5ECF6",
            "gridcolor": "white",
            "gridwidth": 2,
            "linecolor": "white",
            "showbackground": true,
            "ticks": "",
            "zerolinecolor": "white"
           },
           "yaxis": {
            "backgroundcolor": "#E5ECF6",
            "gridcolor": "white",
            "gridwidth": 2,
            "linecolor": "white",
            "showbackground": true,
            "ticks": "",
            "zerolinecolor": "white"
           },
           "zaxis": {
            "backgroundcolor": "#E5ECF6",
            "gridcolor": "white",
            "gridwidth": 2,
            "linecolor": "white",
            "showbackground": true,
            "ticks": "",
            "zerolinecolor": "white"
           }
          },
          "shapedefaults": {
           "line": {
            "color": "#2a3f5f"
           }
          },
          "ternary": {
           "aaxis": {
            "gridcolor": "white",
            "linecolor": "white",
            "ticks": ""
           },
           "baxis": {
            "gridcolor": "white",
            "linecolor": "white",
            "ticks": ""
           },
           "bgcolor": "#E5ECF6",
           "caxis": {
            "gridcolor": "white",
            "linecolor": "white",
            "ticks": ""
           }
          },
          "title": {
           "x": 0.05
          },
          "xaxis": {
           "automargin": true,
           "gridcolor": "white",
           "linecolor": "white",
           "ticks": "",
           "title": {
            "standoff": 15
           },
           "zerolinecolor": "white",
           "zerolinewidth": 2
          },
          "yaxis": {
           "automargin": true,
           "gridcolor": "white",
           "linecolor": "white",
           "ticks": "",
           "title": {
            "standoff": 15
           },
           "zerolinecolor": "white",
           "zerolinewidth": 2
          }
         }
        },
        "xaxis": {
         "anchor": "y",
         "domain": [
          0,
          1
         ],
         "title": {
          "text": "date"
         }
        },
        "yaxis": {
         "anchor": "x",
         "domain": [
          0,
          1
         ],
         "title": {
          "text": "FM"
         }
        }
       }
      },
      "text/html": [
       "<div>                            <div id=\"fa667f4e-80e0-4a1c-9779-0bb966447adf\" class=\"plotly-graph-div\" style=\"height:525px; width:100%;\"></div>            <script type=\"text/javascript\">                require([\"plotly\"], function(Plotly) {                    window.PLOTLYENV=window.PLOTLYENV || {};                                    if (document.getElementById(\"fa667f4e-80e0-4a1c-9779-0bb966447adf\")) {                    Plotly.newPlot(                        \"fa667f4e-80e0-4a1c-9779-0bb966447adf\",                        [{\"hovertemplate\":\"date=%{x}<br>FM=%{y}<extra></extra>\",\"legendgroup\":\"\",\"line\":{\"color\":\"#636efa\",\"dash\":\"solid\"},\"marker\":{\"symbol\":\"circle\"},\"mode\":\"lines\",\"name\":\"\",\"orientation\":\"v\",\"showlegend\":false,\"x\":[\"2005-08-04T18:00:00\",\"2005-08-05T00:00:00\",\"2005-08-05T06:00:00\",\"2005-08-05T12:00:00\",\"2005-08-05T18:00:00\",\"2005-08-06T00:00:00\",\"2005-08-06T06:00:00\",\"2005-08-06T12:00:00\",\"2005-08-06T18:00:00\",\"2005-08-07T00:00:00\",\"2005-08-07T06:00:00\",\"2005-08-07T12:00:00\",\"2005-08-07T18:00:00\",\"2005-08-08T00:00:00\",\"2005-08-08T06:00:00\",\"2005-08-08T12:00:00\",\"2005-08-08T18:00:00\",\"2005-08-09T00:00:00\",\"2005-08-09T06:00:00\",\"2005-08-09T12:00:00\",\"2005-08-09T18:00:00\",\"2005-08-10T00:00:00\",\"2005-08-10T06:00:00\",\"2005-08-10T12:00:00\",\"2005-08-10T18:00:00\",\"2005-08-11T00:00:00\",\"2005-08-11T06:00:00\",\"2005-08-11T12:00:00\",\"2005-08-11T18:00:00\",\"2005-08-12T00:00:00\",\"2005-08-12T06:00:00\",\"2005-08-12T12:00:00\",\"2005-08-12T18:00:00\",\"2005-08-13T00:00:00\",\"2005-08-13T06:00:00\",\"2005-08-13T12:00:00\",\"2005-08-13T18:00:00\",\"2005-08-14T00:00:00\",\"2005-08-14T06:00:00\",\"2005-08-14T12:00:00\",\"2005-08-14T18:00:00\",\"2005-08-15T00:00:00\",\"2005-08-15T06:00:00\",\"2005-08-15T12:00:00\",\"2005-08-15T18:00:00\",\"2005-08-16T00:00:00\",\"2005-08-16T06:00:00\",\"2005-08-16T12:00:00\",\"2005-08-16T18:00:00\",\"2005-08-17T00:00:00\",\"2005-08-17T06:00:00\",\"2005-08-17T12:00:00\",\"2005-08-17T18:00:00\",\"2005-08-18T00:00:00\",\"2005-08-18T06:00:00\",\"2005-08-18T12:00:00\"],\"xaxis\":\"x\",\"y\":[0.0,22.21581505131367,25.812853392526048,29.73555149987258,33.980643241647456,27.197081252273048,15.457856733929079,21.49002100974283,23.83768924294252,15.367208043372372,14.297797254629542,16.73300765937502,20.611528300209184,22.725795352231003,21.100415794125443,28.470030506809138,17.53967877184256,18.92867521993386,15.523710224235339,13.705142768453968,18.84455150795574,15.418280783305876,13.834714412152055,12.138570811318191,17.08715038329049,22.46003990892996,21.73609157379357,26.489921052866507,23.95847791975713,22.435218640733968,27.217451942292175,23.598206969451066,16.02077450814171,13.454558567061875,15.283335930050463,14.845939627690482,16.14334429325267,16.80894744095352,10.398664845513048,18.59521354916285,16.747964652924786,18.343261377544223,19.133725240543082,18.663318071951657,18.27673441887436,20.921732505102263,16.36336737919738,14.875802622120927,15.000319034541896,10.426567438111727,10.426567438111915,23.48476461058201,29.547529762319613,38.314209156134794,49.84233210959624,72.75889735773022],\"yaxis\":\"y\",\"type\":\"scatter\"}],                        {\"template\":{\"data\":{\"bar\":[{\"error_x\":{\"color\":\"#2a3f5f\"},\"error_y\":{\"color\":\"#2a3f5f\"},\"marker\":{\"line\":{\"color\":\"#E5ECF6\",\"width\":0.5},\"pattern\":{\"fillmode\":\"overlay\",\"size\":10,\"solidity\":0.2}},\"type\":\"bar\"}],\"barpolar\":[{\"marker\":{\"line\":{\"color\":\"#E5ECF6\",\"width\":0.5},\"pattern\":{\"fillmode\":\"overlay\",\"size\":10,\"solidity\":0.2}},\"type\":\"barpolar\"}],\"carpet\":[{\"aaxis\":{\"endlinecolor\":\"#2a3f5f\",\"gridcolor\":\"white\",\"linecolor\":\"white\",\"minorgridcolor\":\"white\",\"startlinecolor\":\"#2a3f5f\"},\"baxis\":{\"endlinecolor\":\"#2a3f5f\",\"gridcolor\":\"white\",\"linecolor\":\"white\",\"minorgridcolor\":\"white\",\"startlinecolor\":\"#2a3f5f\"},\"type\":\"carpet\"}],\"choropleth\":[{\"colorbar\":{\"outlinewidth\":0,\"ticks\":\"\"},\"type\":\"choropleth\"}],\"contour\":[{\"colorbar\":{\"outlinewidth\":0,\"ticks\":\"\"},\"colorscale\":[[0.0,\"#0d0887\"],[0.1111111111111111,\"#46039f\"],[0.2222222222222222,\"#7201a8\"],[0.3333333333333333,\"#9c179e\"],[0.4444444444444444,\"#bd3786\"],[0.5555555555555556,\"#d8576b\"],[0.6666666666666666,\"#ed7953\"],[0.7777777777777778,\"#fb9f3a\"],[0.8888888888888888,\"#fdca26\"],[1.0,\"#f0f921\"]],\"type\":\"contour\"}],\"contourcarpet\":[{\"colorbar\":{\"outlinewidth\":0,\"ticks\":\"\"},\"type\":\"contourcarpet\"}],\"heatmap\":[{\"colorbar\":{\"outlinewidth\":0,\"ticks\":\"\"},\"colorscale\":[[0.0,\"#0d0887\"],[0.1111111111111111,\"#46039f\"],[0.2222222222222222,\"#7201a8\"],[0.3333333333333333,\"#9c179e\"],[0.4444444444444444,\"#bd3786\"],[0.5555555555555556,\"#d8576b\"],[0.6666666666666666,\"#ed7953\"],[0.7777777777777778,\"#fb9f3a\"],[0.8888888888888888,\"#fdca26\"],[1.0,\"#f0f921\"]],\"type\":\"heatmap\"}],\"heatmapgl\":[{\"colorbar\":{\"outlinewidth\":0,\"ticks\":\"\"},\"colorscale\":[[0.0,\"#0d0887\"],[0.1111111111111111,\"#46039f\"],[0.2222222222222222,\"#7201a8\"],[0.3333333333333333,\"#9c179e\"],[0.4444444444444444,\"#bd3786\"],[0.5555555555555556,\"#d8576b\"],[0.6666666666666666,\"#ed7953\"],[0.7777777777777778,\"#fb9f3a\"],[0.8888888888888888,\"#fdca26\"],[1.0,\"#f0f921\"]],\"type\":\"heatmapgl\"}],\"histogram\":[{\"marker\":{\"pattern\":{\"fillmode\":\"overlay\",\"size\":10,\"solidity\":0.2}},\"type\":\"histogram\"}],\"histogram2d\":[{\"colorbar\":{\"outlinewidth\":0,\"ticks\":\"\"},\"colorscale\":[[0.0,\"#0d0887\"],[0.1111111111111111,\"#46039f\"],[0.2222222222222222,\"#7201a8\"],[0.3333333333333333,\"#9c179e\"],[0.4444444444444444,\"#bd3786\"],[0.5555555555555556,\"#d8576b\"],[0.6666666666666666,\"#ed7953\"],[0.7777777777777778,\"#fb9f3a\"],[0.8888888888888888,\"#fdca26\"],[1.0,\"#f0f921\"]],\"type\":\"histogram2d\"}],\"histogram2dcontour\":[{\"colorbar\":{\"outlinewidth\":0,\"ticks\":\"\"},\"colorscale\":[[0.0,\"#0d0887\"],[0.1111111111111111,\"#46039f\"],[0.2222222222222222,\"#7201a8\"],[0.3333333333333333,\"#9c179e\"],[0.4444444444444444,\"#bd3786\"],[0.5555555555555556,\"#d8576b\"],[0.6666666666666666,\"#ed7953\"],[0.7777777777777778,\"#fb9f3a\"],[0.8888888888888888,\"#fdca26\"],[1.0,\"#f0f921\"]],\"type\":\"histogram2dcontour\"}],\"mesh3d\":[{\"colorbar\":{\"outlinewidth\":0,\"ticks\":\"\"},\"type\":\"mesh3d\"}],\"parcoords\":[{\"line\":{\"colorbar\":{\"outlinewidth\":0,\"ticks\":\"\"}},\"type\":\"parcoords\"}],\"pie\":[{\"automargin\":true,\"type\":\"pie\"}],\"scatter\":[{\"marker\":{\"colorbar\":{\"outlinewidth\":0,\"ticks\":\"\"}},\"type\":\"scatter\"}],\"scatter3d\":[{\"line\":{\"colorbar\":{\"outlinewidth\":0,\"ticks\":\"\"}},\"marker\":{\"colorbar\":{\"outlinewidth\":0,\"ticks\":\"\"}},\"type\":\"scatter3d\"}],\"scattercarpet\":[{\"marker\":{\"colorbar\":{\"outlinewidth\":0,\"ticks\":\"\"}},\"type\":\"scattercarpet\"}],\"scattergeo\":[{\"marker\":{\"colorbar\":{\"outlinewidth\":0,\"ticks\":\"\"}},\"type\":\"scattergeo\"}],\"scattergl\":[{\"marker\":{\"colorbar\":{\"outlinewidth\":0,\"ticks\":\"\"}},\"type\":\"scattergl\"}],\"scattermapbox\":[{\"marker\":{\"colorbar\":{\"outlinewidth\":0,\"ticks\":\"\"}},\"type\":\"scattermapbox\"}],\"scatterpolar\":[{\"marker\":{\"colorbar\":{\"outlinewidth\":0,\"ticks\":\"\"}},\"type\":\"scatterpolar\"}],\"scatterpolargl\":[{\"marker\":{\"colorbar\":{\"outlinewidth\":0,\"ticks\":\"\"}},\"type\":\"scatterpolargl\"}],\"scatterternary\":[{\"marker\":{\"colorbar\":{\"outlinewidth\":0,\"ticks\":\"\"}},\"type\":\"scatterternary\"}],\"surface\":[{\"colorbar\":{\"outlinewidth\":0,\"ticks\":\"\"},\"colorscale\":[[0.0,\"#0d0887\"],[0.1111111111111111,\"#46039f\"],[0.2222222222222222,\"#7201a8\"],[0.3333333333333333,\"#9c179e\"],[0.4444444444444444,\"#bd3786\"],[0.5555555555555556,\"#d8576b\"],[0.6666666666666666,\"#ed7953\"],[0.7777777777777778,\"#fb9f3a\"],[0.8888888888888888,\"#fdca26\"],[1.0,\"#f0f921\"]],\"type\":\"surface\"}],\"table\":[{\"cells\":{\"fill\":{\"color\":\"#EBF0F8\"},\"line\":{\"color\":\"white\"}},\"header\":{\"fill\":{\"color\":\"#C8D4E3\"},\"line\":{\"color\":\"white\"}},\"type\":\"table\"}]},\"layout\":{\"annotationdefaults\":{\"arrowcolor\":\"#2a3f5f\",\"arrowhead\":0,\"arrowwidth\":1},\"autotypenumbers\":\"strict\",\"coloraxis\":{\"colorbar\":{\"outlinewidth\":0,\"ticks\":\"\"}},\"colorscale\":{\"diverging\":[[0,\"#8e0152\"],[0.1,\"#c51b7d\"],[0.2,\"#de77ae\"],[0.3,\"#f1b6da\"],[0.4,\"#fde0ef\"],[0.5,\"#f7f7f7\"],[0.6,\"#e6f5d0\"],[0.7,\"#b8e186\"],[0.8,\"#7fbc41\"],[0.9,\"#4d9221\"],[1,\"#276419\"]],\"sequential\":[[0.0,\"#0d0887\"],[0.1111111111111111,\"#46039f\"],[0.2222222222222222,\"#7201a8\"],[0.3333333333333333,\"#9c179e\"],[0.4444444444444444,\"#bd3786\"],[0.5555555555555556,\"#d8576b\"],[0.6666666666666666,\"#ed7953\"],[0.7777777777777778,\"#fb9f3a\"],[0.8888888888888888,\"#fdca26\"],[1.0,\"#f0f921\"]],\"sequentialminus\":[[0.0,\"#0d0887\"],[0.1111111111111111,\"#46039f\"],[0.2222222222222222,\"#7201a8\"],[0.3333333333333333,\"#9c179e\"],[0.4444444444444444,\"#bd3786\"],[0.5555555555555556,\"#d8576b\"],[0.6666666666666666,\"#ed7953\"],[0.7777777777777778,\"#fb9f3a\"],[0.8888888888888888,\"#fdca26\"],[1.0,\"#f0f921\"]]},\"colorway\":[\"#636efa\",\"#EF553B\",\"#00cc96\",\"#ab63fa\",\"#FFA15A\",\"#19d3f3\",\"#FF6692\",\"#B6E880\",\"#FF97FF\",\"#FECB52\"],\"font\":{\"color\":\"#2a3f5f\"},\"geo\":{\"bgcolor\":\"white\",\"lakecolor\":\"white\",\"landcolor\":\"#E5ECF6\",\"showlakes\":true,\"showland\":true,\"subunitcolor\":\"white\"},\"hoverlabel\":{\"align\":\"left\"},\"hovermode\":\"closest\",\"mapbox\":{\"style\":\"light\"},\"paper_bgcolor\":\"white\",\"plot_bgcolor\":\"#E5ECF6\",\"polar\":{\"angularaxis\":{\"gridcolor\":\"white\",\"linecolor\":\"white\",\"ticks\":\"\"},\"bgcolor\":\"#E5ECF6\",\"radialaxis\":{\"gridcolor\":\"white\",\"linecolor\":\"white\",\"ticks\":\"\"}},\"scene\":{\"xaxis\":{\"backgroundcolor\":\"#E5ECF6\",\"gridcolor\":\"white\",\"gridwidth\":2,\"linecolor\":\"white\",\"showbackground\":true,\"ticks\":\"\",\"zerolinecolor\":\"white\"},\"yaxis\":{\"backgroundcolor\":\"#E5ECF6\",\"gridcolor\":\"white\",\"gridwidth\":2,\"linecolor\":\"white\",\"showbackground\":true,\"ticks\":\"\",\"zerolinecolor\":\"white\"},\"zaxis\":{\"backgroundcolor\":\"#E5ECF6\",\"gridcolor\":\"white\",\"gridwidth\":2,\"linecolor\":\"white\",\"showbackground\":true,\"ticks\":\"\",\"zerolinecolor\":\"white\"}},\"shapedefaults\":{\"line\":{\"color\":\"#2a3f5f\"}},\"ternary\":{\"aaxis\":{\"gridcolor\":\"white\",\"linecolor\":\"white\",\"ticks\":\"\"},\"baxis\":{\"gridcolor\":\"white\",\"linecolor\":\"white\",\"ticks\":\"\"},\"bgcolor\":\"#E5ECF6\",\"caxis\":{\"gridcolor\":\"white\",\"linecolor\":\"white\",\"ticks\":\"\"}},\"title\":{\"x\":0.05},\"xaxis\":{\"automargin\":true,\"gridcolor\":\"white\",\"linecolor\":\"white\",\"ticks\":\"\",\"title\":{\"standoff\":15},\"zerolinecolor\":\"white\",\"zerolinewidth\":2},\"yaxis\":{\"automargin\":true,\"gridcolor\":\"white\",\"linecolor\":\"white\",\"ticks\":\"\",\"title\":{\"standoff\":15},\"zerolinecolor\":\"white\",\"zerolinewidth\":2}}},\"xaxis\":{\"anchor\":\"y\",\"domain\":[0.0,1.0],\"title\":{\"text\":\"date\"}},\"yaxis\":{\"anchor\":\"x\",\"domain\":[0.0,1.0],\"title\":{\"text\":\"FM\"}},\"legend\":{\"tracegroupgap\":0},\"margin\":{\"t\":60}},                        {\"responsive\": true}                    ).then(function(){\n",
       "                            \n",
       "var gd = document.getElementById('fa667f4e-80e0-4a1c-9779-0bb966447adf');\n",
       "var x = new MutationObserver(function (mutations, observer) {{\n",
       "        var display = window.getComputedStyle(gd).display;\n",
       "        if (!display || display === 'none') {{\n",
       "            console.log([gd, 'removed!']);\n",
       "            Plotly.purge(gd);\n",
       "            observer.disconnect();\n",
       "        }}\n",
       "}});\n",
       "\n",
       "// Listen for the removal of the full notebook cells\n",
       "var notebookContainer = gd.closest('#notebook-container');\n",
       "if (notebookContainer) {{\n",
       "    x.observe(notebookContainer, {childList: true});\n",
       "}}\n",
       "\n",
       "// Listen for the clearing of the current output cell\n",
       "var outputEl = gd.closest('.output');\n",
       "if (outputEl) {{\n",
       "    x.observe(outputEl, {childList: true});\n",
       "}}\n",
       "\n",
       "                        })                };                });            </script>        </div>"
      ]
     },
     "metadata": {},
     "output_type": "display_data"
    }
   ],
   "source": [
    "# x and y given as DataFrame columns\n",
    "import plotly.express as px\n",
    "fig = px.line(df7, x = 'date', y=\"FM\")\n",
    "fig.show()"
   ]
  },
  {
   "cell_type": "code",
   "execution_count": 116,
   "id": "a48e2229",
   "metadata": {},
   "outputs": [
    {
     "data": {
      "application/vnd.plotly.v1+json": {
       "config": {
        "plotlyServerURL": "https://plot.ly"
       },
       "data": [
        {
         "hovertemplate": "date=%{x}<br>M=%{y}<extra></extra>",
         "legendgroup": "",
         "line": {
          "color": "#636efa",
          "dash": "solid"
         },
         "marker": {
          "symbol": "circle"
         },
         "mode": "lines",
         "name": "",
         "orientation": "v",
         "showlegend": false,
         "type": "scatter",
         "x": [
          "2005-08-04T18:00:00",
          "2005-08-05T00:00:00",
          "2005-08-05T06:00:00",
          "2005-08-05T12:00:00",
          "2005-08-05T18:00:00",
          "2005-08-06T00:00:00",
          "2005-08-06T06:00:00",
          "2005-08-06T12:00:00",
          "2005-08-06T18:00:00",
          "2005-08-07T00:00:00",
          "2005-08-07T06:00:00",
          "2005-08-07T12:00:00",
          "2005-08-07T18:00:00",
          "2005-08-08T00:00:00",
          "2005-08-08T06:00:00",
          "2005-08-08T12:00:00",
          "2005-08-08T18:00:00",
          "2005-08-09T00:00:00",
          "2005-08-09T06:00:00",
          "2005-08-09T12:00:00",
          "2005-08-09T18:00:00",
          "2005-08-10T00:00:00",
          "2005-08-10T06:00:00",
          "2005-08-10T12:00:00",
          "2005-08-10T18:00:00",
          "2005-08-11T00:00:00",
          "2005-08-11T06:00:00",
          "2005-08-11T12:00:00",
          "2005-08-11T18:00:00",
          "2005-08-12T00:00:00",
          "2005-08-12T06:00:00",
          "2005-08-12T12:00:00",
          "2005-08-12T18:00:00",
          "2005-08-13T00:00:00",
          "2005-08-13T06:00:00",
          "2005-08-13T12:00:00",
          "2005-08-13T18:00:00",
          "2005-08-14T00:00:00",
          "2005-08-14T06:00:00",
          "2005-08-14T12:00:00",
          "2005-08-14T18:00:00",
          "2005-08-15T00:00:00",
          "2005-08-15T06:00:00",
          "2005-08-15T12:00:00",
          "2005-08-15T18:00:00",
          "2005-08-16T00:00:00",
          "2005-08-16T06:00:00",
          "2005-08-16T12:00:00",
          "2005-08-16T18:00:00",
          "2005-08-17T00:00:00",
          "2005-08-17T06:00:00",
          "2005-08-17T12:00:00",
          "2005-08-17T18:00:00",
          "2005-08-18T00:00:00",
          "2005-08-18T06:00:00",
          "2005-08-18T12:00:00"
         ],
         "xaxis": "x",
         "y": [
          56199.66310667597,
          56168.24383292167,
          56247.00136206733,
          56236.370207073254,
          56116.86139702835,
          56246.54420969017,
          56143.40648968149,
          56266.811803283344,
          56129.40484614569,
          56251.52135514297,
          56077.03607106047,
          56243.40262568956,
          56213.74338227511,
          56242.351621714806,
          56234.95658391889,
          56184.081628781634,
          56228.24092232309,
          56244.885058378524,
          56206.39305132098,
          56125.04727581385,
          56101.911817390835,
          56247.338406471616,
          56254.821068192425,
          56167.06674593553,
          56233.88665040177,
          56216.08966350703,
          56222.02777474385,
          56183.39658810493,
          56224.48739166758,
          56217.50554685669,
          56221.007203447116,
          56154.83800607297,
          56212.44773591656,
          56219.590608779145,
          56255.32129233862,
          56193.15125623241,
          56207.95385895253,
          56228.21113517034,
          56235.52088230086,
          56150.27201636458,
          56214.88197971365,
          56216.39557786996,
          56221.50637300895,
          56221.83138864278,
          56207.44946949032,
          56230.915005914256,
          56283.24525578926,
          56274.222904784605,
          56229.16438490806,
          56270.032296113415,
          56245.162126025345,
          56149.99462593813,
          56193.261657561874,
          56280.522667946134,
          56264.01309381263,
          56114.381318082786
         ],
         "yaxis": "y"
        }
       ],
       "layout": {
        "legend": {
         "tracegroupgap": 0
        },
        "margin": {
         "t": 60
        },
        "template": {
         "data": {
          "bar": [
           {
            "error_x": {
             "color": "#2a3f5f"
            },
            "error_y": {
             "color": "#2a3f5f"
            },
            "marker": {
             "line": {
              "color": "#E5ECF6",
              "width": 0.5
             },
             "pattern": {
              "fillmode": "overlay",
              "size": 10,
              "solidity": 0.2
             }
            },
            "type": "bar"
           }
          ],
          "barpolar": [
           {
            "marker": {
             "line": {
              "color": "#E5ECF6",
              "width": 0.5
             },
             "pattern": {
              "fillmode": "overlay",
              "size": 10,
              "solidity": 0.2
             }
            },
            "type": "barpolar"
           }
          ],
          "carpet": [
           {
            "aaxis": {
             "endlinecolor": "#2a3f5f",
             "gridcolor": "white",
             "linecolor": "white",
             "minorgridcolor": "white",
             "startlinecolor": "#2a3f5f"
            },
            "baxis": {
             "endlinecolor": "#2a3f5f",
             "gridcolor": "white",
             "linecolor": "white",
             "minorgridcolor": "white",
             "startlinecolor": "#2a3f5f"
            },
            "type": "carpet"
           }
          ],
          "choropleth": [
           {
            "colorbar": {
             "outlinewidth": 0,
             "ticks": ""
            },
            "type": "choropleth"
           }
          ],
          "contour": [
           {
            "colorbar": {
             "outlinewidth": 0,
             "ticks": ""
            },
            "colorscale": [
             [
              0,
              "#0d0887"
             ],
             [
              0.1111111111111111,
              "#46039f"
             ],
             [
              0.2222222222222222,
              "#7201a8"
             ],
             [
              0.3333333333333333,
              "#9c179e"
             ],
             [
              0.4444444444444444,
              "#bd3786"
             ],
             [
              0.5555555555555556,
              "#d8576b"
             ],
             [
              0.6666666666666666,
              "#ed7953"
             ],
             [
              0.7777777777777778,
              "#fb9f3a"
             ],
             [
              0.8888888888888888,
              "#fdca26"
             ],
             [
              1,
              "#f0f921"
             ]
            ],
            "type": "contour"
           }
          ],
          "contourcarpet": [
           {
            "colorbar": {
             "outlinewidth": 0,
             "ticks": ""
            },
            "type": "contourcarpet"
           }
          ],
          "heatmap": [
           {
            "colorbar": {
             "outlinewidth": 0,
             "ticks": ""
            },
            "colorscale": [
             [
              0,
              "#0d0887"
             ],
             [
              0.1111111111111111,
              "#46039f"
             ],
             [
              0.2222222222222222,
              "#7201a8"
             ],
             [
              0.3333333333333333,
              "#9c179e"
             ],
             [
              0.4444444444444444,
              "#bd3786"
             ],
             [
              0.5555555555555556,
              "#d8576b"
             ],
             [
              0.6666666666666666,
              "#ed7953"
             ],
             [
              0.7777777777777778,
              "#fb9f3a"
             ],
             [
              0.8888888888888888,
              "#fdca26"
             ],
             [
              1,
              "#f0f921"
             ]
            ],
            "type": "heatmap"
           }
          ],
          "heatmapgl": [
           {
            "colorbar": {
             "outlinewidth": 0,
             "ticks": ""
            },
            "colorscale": [
             [
              0,
              "#0d0887"
             ],
             [
              0.1111111111111111,
              "#46039f"
             ],
             [
              0.2222222222222222,
              "#7201a8"
             ],
             [
              0.3333333333333333,
              "#9c179e"
             ],
             [
              0.4444444444444444,
              "#bd3786"
             ],
             [
              0.5555555555555556,
              "#d8576b"
             ],
             [
              0.6666666666666666,
              "#ed7953"
             ],
             [
              0.7777777777777778,
              "#fb9f3a"
             ],
             [
              0.8888888888888888,
              "#fdca26"
             ],
             [
              1,
              "#f0f921"
             ]
            ],
            "type": "heatmapgl"
           }
          ],
          "histogram": [
           {
            "marker": {
             "pattern": {
              "fillmode": "overlay",
              "size": 10,
              "solidity": 0.2
             }
            },
            "type": "histogram"
           }
          ],
          "histogram2d": [
           {
            "colorbar": {
             "outlinewidth": 0,
             "ticks": ""
            },
            "colorscale": [
             [
              0,
              "#0d0887"
             ],
             [
              0.1111111111111111,
              "#46039f"
             ],
             [
              0.2222222222222222,
              "#7201a8"
             ],
             [
              0.3333333333333333,
              "#9c179e"
             ],
             [
              0.4444444444444444,
              "#bd3786"
             ],
             [
              0.5555555555555556,
              "#d8576b"
             ],
             [
              0.6666666666666666,
              "#ed7953"
             ],
             [
              0.7777777777777778,
              "#fb9f3a"
             ],
             [
              0.8888888888888888,
              "#fdca26"
             ],
             [
              1,
              "#f0f921"
             ]
            ],
            "type": "histogram2d"
           }
          ],
          "histogram2dcontour": [
           {
            "colorbar": {
             "outlinewidth": 0,
             "ticks": ""
            },
            "colorscale": [
             [
              0,
              "#0d0887"
             ],
             [
              0.1111111111111111,
              "#46039f"
             ],
             [
              0.2222222222222222,
              "#7201a8"
             ],
             [
              0.3333333333333333,
              "#9c179e"
             ],
             [
              0.4444444444444444,
              "#bd3786"
             ],
             [
              0.5555555555555556,
              "#d8576b"
             ],
             [
              0.6666666666666666,
              "#ed7953"
             ],
             [
              0.7777777777777778,
              "#fb9f3a"
             ],
             [
              0.8888888888888888,
              "#fdca26"
             ],
             [
              1,
              "#f0f921"
             ]
            ],
            "type": "histogram2dcontour"
           }
          ],
          "mesh3d": [
           {
            "colorbar": {
             "outlinewidth": 0,
             "ticks": ""
            },
            "type": "mesh3d"
           }
          ],
          "parcoords": [
           {
            "line": {
             "colorbar": {
              "outlinewidth": 0,
              "ticks": ""
             }
            },
            "type": "parcoords"
           }
          ],
          "pie": [
           {
            "automargin": true,
            "type": "pie"
           }
          ],
          "scatter": [
           {
            "marker": {
             "colorbar": {
              "outlinewidth": 0,
              "ticks": ""
             }
            },
            "type": "scatter"
           }
          ],
          "scatter3d": [
           {
            "line": {
             "colorbar": {
              "outlinewidth": 0,
              "ticks": ""
             }
            },
            "marker": {
             "colorbar": {
              "outlinewidth": 0,
              "ticks": ""
             }
            },
            "type": "scatter3d"
           }
          ],
          "scattercarpet": [
           {
            "marker": {
             "colorbar": {
              "outlinewidth": 0,
              "ticks": ""
             }
            },
            "type": "scattercarpet"
           }
          ],
          "scattergeo": [
           {
            "marker": {
             "colorbar": {
              "outlinewidth": 0,
              "ticks": ""
             }
            },
            "type": "scattergeo"
           }
          ],
          "scattergl": [
           {
            "marker": {
             "colorbar": {
              "outlinewidth": 0,
              "ticks": ""
             }
            },
            "type": "scattergl"
           }
          ],
          "scattermapbox": [
           {
            "marker": {
             "colorbar": {
              "outlinewidth": 0,
              "ticks": ""
             }
            },
            "type": "scattermapbox"
           }
          ],
          "scatterpolar": [
           {
            "marker": {
             "colorbar": {
              "outlinewidth": 0,
              "ticks": ""
             }
            },
            "type": "scatterpolar"
           }
          ],
          "scatterpolargl": [
           {
            "marker": {
             "colorbar": {
              "outlinewidth": 0,
              "ticks": ""
             }
            },
            "type": "scatterpolargl"
           }
          ],
          "scatterternary": [
           {
            "marker": {
             "colorbar": {
              "outlinewidth": 0,
              "ticks": ""
             }
            },
            "type": "scatterternary"
           }
          ],
          "surface": [
           {
            "colorbar": {
             "outlinewidth": 0,
             "ticks": ""
            },
            "colorscale": [
             [
              0,
              "#0d0887"
             ],
             [
              0.1111111111111111,
              "#46039f"
             ],
             [
              0.2222222222222222,
              "#7201a8"
             ],
             [
              0.3333333333333333,
              "#9c179e"
             ],
             [
              0.4444444444444444,
              "#bd3786"
             ],
             [
              0.5555555555555556,
              "#d8576b"
             ],
             [
              0.6666666666666666,
              "#ed7953"
             ],
             [
              0.7777777777777778,
              "#fb9f3a"
             ],
             [
              0.8888888888888888,
              "#fdca26"
             ],
             [
              1,
              "#f0f921"
             ]
            ],
            "type": "surface"
           }
          ],
          "table": [
           {
            "cells": {
             "fill": {
              "color": "#EBF0F8"
             },
             "line": {
              "color": "white"
             }
            },
            "header": {
             "fill": {
              "color": "#C8D4E3"
             },
             "line": {
              "color": "white"
             }
            },
            "type": "table"
           }
          ]
         },
         "layout": {
          "annotationdefaults": {
           "arrowcolor": "#2a3f5f",
           "arrowhead": 0,
           "arrowwidth": 1
          },
          "autotypenumbers": "strict",
          "coloraxis": {
           "colorbar": {
            "outlinewidth": 0,
            "ticks": ""
           }
          },
          "colorscale": {
           "diverging": [
            [
             0,
             "#8e0152"
            ],
            [
             0.1,
             "#c51b7d"
            ],
            [
             0.2,
             "#de77ae"
            ],
            [
             0.3,
             "#f1b6da"
            ],
            [
             0.4,
             "#fde0ef"
            ],
            [
             0.5,
             "#f7f7f7"
            ],
            [
             0.6,
             "#e6f5d0"
            ],
            [
             0.7,
             "#b8e186"
            ],
            [
             0.8,
             "#7fbc41"
            ],
            [
             0.9,
             "#4d9221"
            ],
            [
             1,
             "#276419"
            ]
           ],
           "sequential": [
            [
             0,
             "#0d0887"
            ],
            [
             0.1111111111111111,
             "#46039f"
            ],
            [
             0.2222222222222222,
             "#7201a8"
            ],
            [
             0.3333333333333333,
             "#9c179e"
            ],
            [
             0.4444444444444444,
             "#bd3786"
            ],
            [
             0.5555555555555556,
             "#d8576b"
            ],
            [
             0.6666666666666666,
             "#ed7953"
            ],
            [
             0.7777777777777778,
             "#fb9f3a"
            ],
            [
             0.8888888888888888,
             "#fdca26"
            ],
            [
             1,
             "#f0f921"
            ]
           ],
           "sequentialminus": [
            [
             0,
             "#0d0887"
            ],
            [
             0.1111111111111111,
             "#46039f"
            ],
            [
             0.2222222222222222,
             "#7201a8"
            ],
            [
             0.3333333333333333,
             "#9c179e"
            ],
            [
             0.4444444444444444,
             "#bd3786"
            ],
            [
             0.5555555555555556,
             "#d8576b"
            ],
            [
             0.6666666666666666,
             "#ed7953"
            ],
            [
             0.7777777777777778,
             "#fb9f3a"
            ],
            [
             0.8888888888888888,
             "#fdca26"
            ],
            [
             1,
             "#f0f921"
            ]
           ]
          },
          "colorway": [
           "#636efa",
           "#EF553B",
           "#00cc96",
           "#ab63fa",
           "#FFA15A",
           "#19d3f3",
           "#FF6692",
           "#B6E880",
           "#FF97FF",
           "#FECB52"
          ],
          "font": {
           "color": "#2a3f5f"
          },
          "geo": {
           "bgcolor": "white",
           "lakecolor": "white",
           "landcolor": "#E5ECF6",
           "showlakes": true,
           "showland": true,
           "subunitcolor": "white"
          },
          "hoverlabel": {
           "align": "left"
          },
          "hovermode": "closest",
          "mapbox": {
           "style": "light"
          },
          "paper_bgcolor": "white",
          "plot_bgcolor": "#E5ECF6",
          "polar": {
           "angularaxis": {
            "gridcolor": "white",
            "linecolor": "white",
            "ticks": ""
           },
           "bgcolor": "#E5ECF6",
           "radialaxis": {
            "gridcolor": "white",
            "linecolor": "white",
            "ticks": ""
           }
          },
          "scene": {
           "xaxis": {
            "backgroundcolor": "#E5ECF6",
            "gridcolor": "white",
            "gridwidth": 2,
            "linecolor": "white",
            "showbackground": true,
            "ticks": "",
            "zerolinecolor": "white"
           },
           "yaxis": {
            "backgroundcolor": "#E5ECF6",
            "gridcolor": "white",
            "gridwidth": 2,
            "linecolor": "white",
            "showbackground": true,
            "ticks": "",
            "zerolinecolor": "white"
           },
           "zaxis": {
            "backgroundcolor": "#E5ECF6",
            "gridcolor": "white",
            "gridwidth": 2,
            "linecolor": "white",
            "showbackground": true,
            "ticks": "",
            "zerolinecolor": "white"
           }
          },
          "shapedefaults": {
           "line": {
            "color": "#2a3f5f"
           }
          },
          "ternary": {
           "aaxis": {
            "gridcolor": "white",
            "linecolor": "white",
            "ticks": ""
           },
           "baxis": {
            "gridcolor": "white",
            "linecolor": "white",
            "ticks": ""
           },
           "bgcolor": "#E5ECF6",
           "caxis": {
            "gridcolor": "white",
            "linecolor": "white",
            "ticks": ""
           }
          },
          "title": {
           "x": 0.05
          },
          "xaxis": {
           "automargin": true,
           "gridcolor": "white",
           "linecolor": "white",
           "ticks": "",
           "title": {
            "standoff": 15
           },
           "zerolinecolor": "white",
           "zerolinewidth": 2
          },
          "yaxis": {
           "automargin": true,
           "gridcolor": "white",
           "linecolor": "white",
           "ticks": "",
           "title": {
            "standoff": 15
           },
           "zerolinecolor": "white",
           "zerolinewidth": 2
          }
         }
        },
        "xaxis": {
         "anchor": "y",
         "domain": [
          0,
          1
         ],
         "title": {
          "text": "date"
         }
        },
        "yaxis": {
         "anchor": "x",
         "domain": [
          0,
          1
         ],
         "title": {
          "text": "M"
         }
        }
       }
      },
      "text/html": [
       "<div>                            <div id=\"ba480d90-e763-475a-af8e-4216fc838390\" class=\"plotly-graph-div\" style=\"height:525px; width:100%;\"></div>            <script type=\"text/javascript\">                require([\"plotly\"], function(Plotly) {                    window.PLOTLYENV=window.PLOTLYENV || {};                                    if (document.getElementById(\"ba480d90-e763-475a-af8e-4216fc838390\")) {                    Plotly.newPlot(                        \"ba480d90-e763-475a-af8e-4216fc838390\",                        [{\"hovertemplate\":\"date=%{x}<br>M=%{y}<extra></extra>\",\"legendgroup\":\"\",\"line\":{\"color\":\"#636efa\",\"dash\":\"solid\"},\"marker\":{\"symbol\":\"circle\"},\"mode\":\"lines\",\"name\":\"\",\"orientation\":\"v\",\"showlegend\":false,\"x\":[\"2005-08-04T18:00:00\",\"2005-08-05T00:00:00\",\"2005-08-05T06:00:00\",\"2005-08-05T12:00:00\",\"2005-08-05T18:00:00\",\"2005-08-06T00:00:00\",\"2005-08-06T06:00:00\",\"2005-08-06T12:00:00\",\"2005-08-06T18:00:00\",\"2005-08-07T00:00:00\",\"2005-08-07T06:00:00\",\"2005-08-07T12:00:00\",\"2005-08-07T18:00:00\",\"2005-08-08T00:00:00\",\"2005-08-08T06:00:00\",\"2005-08-08T12:00:00\",\"2005-08-08T18:00:00\",\"2005-08-09T00:00:00\",\"2005-08-09T06:00:00\",\"2005-08-09T12:00:00\",\"2005-08-09T18:00:00\",\"2005-08-10T00:00:00\",\"2005-08-10T06:00:00\",\"2005-08-10T12:00:00\",\"2005-08-10T18:00:00\",\"2005-08-11T00:00:00\",\"2005-08-11T06:00:00\",\"2005-08-11T12:00:00\",\"2005-08-11T18:00:00\",\"2005-08-12T00:00:00\",\"2005-08-12T06:00:00\",\"2005-08-12T12:00:00\",\"2005-08-12T18:00:00\",\"2005-08-13T00:00:00\",\"2005-08-13T06:00:00\",\"2005-08-13T12:00:00\",\"2005-08-13T18:00:00\",\"2005-08-14T00:00:00\",\"2005-08-14T06:00:00\",\"2005-08-14T12:00:00\",\"2005-08-14T18:00:00\",\"2005-08-15T00:00:00\",\"2005-08-15T06:00:00\",\"2005-08-15T12:00:00\",\"2005-08-15T18:00:00\",\"2005-08-16T00:00:00\",\"2005-08-16T06:00:00\",\"2005-08-16T12:00:00\",\"2005-08-16T18:00:00\",\"2005-08-17T00:00:00\",\"2005-08-17T06:00:00\",\"2005-08-17T12:00:00\",\"2005-08-17T18:00:00\",\"2005-08-18T00:00:00\",\"2005-08-18T06:00:00\",\"2005-08-18T12:00:00\"],\"xaxis\":\"x\",\"y\":[56199.66310667597,56168.24383292167,56247.00136206733,56236.370207073254,56116.86139702835,56246.54420969017,56143.40648968149,56266.811803283344,56129.40484614569,56251.52135514297,56077.03607106047,56243.40262568956,56213.74338227511,56242.351621714806,56234.95658391889,56184.081628781634,56228.24092232309,56244.885058378524,56206.39305132098,56125.04727581385,56101.911817390835,56247.338406471616,56254.821068192425,56167.06674593553,56233.88665040177,56216.08966350703,56222.02777474385,56183.39658810493,56224.48739166758,56217.50554685669,56221.007203447116,56154.83800607297,56212.44773591656,56219.590608779145,56255.32129233862,56193.15125623241,56207.95385895253,56228.21113517034,56235.52088230086,56150.27201636458,56214.88197971365,56216.39557786996,56221.50637300895,56221.83138864278,56207.44946949032,56230.915005914256,56283.24525578926,56274.222904784605,56229.16438490806,56270.032296113415,56245.162126025345,56149.99462593813,56193.261657561874,56280.522667946134,56264.01309381263,56114.381318082786],\"yaxis\":\"y\",\"type\":\"scatter\"}],                        {\"template\":{\"data\":{\"bar\":[{\"error_x\":{\"color\":\"#2a3f5f\"},\"error_y\":{\"color\":\"#2a3f5f\"},\"marker\":{\"line\":{\"color\":\"#E5ECF6\",\"width\":0.5},\"pattern\":{\"fillmode\":\"overlay\",\"size\":10,\"solidity\":0.2}},\"type\":\"bar\"}],\"barpolar\":[{\"marker\":{\"line\":{\"color\":\"#E5ECF6\",\"width\":0.5},\"pattern\":{\"fillmode\":\"overlay\",\"size\":10,\"solidity\":0.2}},\"type\":\"barpolar\"}],\"carpet\":[{\"aaxis\":{\"endlinecolor\":\"#2a3f5f\",\"gridcolor\":\"white\",\"linecolor\":\"white\",\"minorgridcolor\":\"white\",\"startlinecolor\":\"#2a3f5f\"},\"baxis\":{\"endlinecolor\":\"#2a3f5f\",\"gridcolor\":\"white\",\"linecolor\":\"white\",\"minorgridcolor\":\"white\",\"startlinecolor\":\"#2a3f5f\"},\"type\":\"carpet\"}],\"choropleth\":[{\"colorbar\":{\"outlinewidth\":0,\"ticks\":\"\"},\"type\":\"choropleth\"}],\"contour\":[{\"colorbar\":{\"outlinewidth\":0,\"ticks\":\"\"},\"colorscale\":[[0.0,\"#0d0887\"],[0.1111111111111111,\"#46039f\"],[0.2222222222222222,\"#7201a8\"],[0.3333333333333333,\"#9c179e\"],[0.4444444444444444,\"#bd3786\"],[0.5555555555555556,\"#d8576b\"],[0.6666666666666666,\"#ed7953\"],[0.7777777777777778,\"#fb9f3a\"],[0.8888888888888888,\"#fdca26\"],[1.0,\"#f0f921\"]],\"type\":\"contour\"}],\"contourcarpet\":[{\"colorbar\":{\"outlinewidth\":0,\"ticks\":\"\"},\"type\":\"contourcarpet\"}],\"heatmap\":[{\"colorbar\":{\"outlinewidth\":0,\"ticks\":\"\"},\"colorscale\":[[0.0,\"#0d0887\"],[0.1111111111111111,\"#46039f\"],[0.2222222222222222,\"#7201a8\"],[0.3333333333333333,\"#9c179e\"],[0.4444444444444444,\"#bd3786\"],[0.5555555555555556,\"#d8576b\"],[0.6666666666666666,\"#ed7953\"],[0.7777777777777778,\"#fb9f3a\"],[0.8888888888888888,\"#fdca26\"],[1.0,\"#f0f921\"]],\"type\":\"heatmap\"}],\"heatmapgl\":[{\"colorbar\":{\"outlinewidth\":0,\"ticks\":\"\"},\"colorscale\":[[0.0,\"#0d0887\"],[0.1111111111111111,\"#46039f\"],[0.2222222222222222,\"#7201a8\"],[0.3333333333333333,\"#9c179e\"],[0.4444444444444444,\"#bd3786\"],[0.5555555555555556,\"#d8576b\"],[0.6666666666666666,\"#ed7953\"],[0.7777777777777778,\"#fb9f3a\"],[0.8888888888888888,\"#fdca26\"],[1.0,\"#f0f921\"]],\"type\":\"heatmapgl\"}],\"histogram\":[{\"marker\":{\"pattern\":{\"fillmode\":\"overlay\",\"size\":10,\"solidity\":0.2}},\"type\":\"histogram\"}],\"histogram2d\":[{\"colorbar\":{\"outlinewidth\":0,\"ticks\":\"\"},\"colorscale\":[[0.0,\"#0d0887\"],[0.1111111111111111,\"#46039f\"],[0.2222222222222222,\"#7201a8\"],[0.3333333333333333,\"#9c179e\"],[0.4444444444444444,\"#bd3786\"],[0.5555555555555556,\"#d8576b\"],[0.6666666666666666,\"#ed7953\"],[0.7777777777777778,\"#fb9f3a\"],[0.8888888888888888,\"#fdca26\"],[1.0,\"#f0f921\"]],\"type\":\"histogram2d\"}],\"histogram2dcontour\":[{\"colorbar\":{\"outlinewidth\":0,\"ticks\":\"\"},\"colorscale\":[[0.0,\"#0d0887\"],[0.1111111111111111,\"#46039f\"],[0.2222222222222222,\"#7201a8\"],[0.3333333333333333,\"#9c179e\"],[0.4444444444444444,\"#bd3786\"],[0.5555555555555556,\"#d8576b\"],[0.6666666666666666,\"#ed7953\"],[0.7777777777777778,\"#fb9f3a\"],[0.8888888888888888,\"#fdca26\"],[1.0,\"#f0f921\"]],\"type\":\"histogram2dcontour\"}],\"mesh3d\":[{\"colorbar\":{\"outlinewidth\":0,\"ticks\":\"\"},\"type\":\"mesh3d\"}],\"parcoords\":[{\"line\":{\"colorbar\":{\"outlinewidth\":0,\"ticks\":\"\"}},\"type\":\"parcoords\"}],\"pie\":[{\"automargin\":true,\"type\":\"pie\"}],\"scatter\":[{\"marker\":{\"colorbar\":{\"outlinewidth\":0,\"ticks\":\"\"}},\"type\":\"scatter\"}],\"scatter3d\":[{\"line\":{\"colorbar\":{\"outlinewidth\":0,\"ticks\":\"\"}},\"marker\":{\"colorbar\":{\"outlinewidth\":0,\"ticks\":\"\"}},\"type\":\"scatter3d\"}],\"scattercarpet\":[{\"marker\":{\"colorbar\":{\"outlinewidth\":0,\"ticks\":\"\"}},\"type\":\"scattercarpet\"}],\"scattergeo\":[{\"marker\":{\"colorbar\":{\"outlinewidth\":0,\"ticks\":\"\"}},\"type\":\"scattergeo\"}],\"scattergl\":[{\"marker\":{\"colorbar\":{\"outlinewidth\":0,\"ticks\":\"\"}},\"type\":\"scattergl\"}],\"scattermapbox\":[{\"marker\":{\"colorbar\":{\"outlinewidth\":0,\"ticks\":\"\"}},\"type\":\"scattermapbox\"}],\"scatterpolar\":[{\"marker\":{\"colorbar\":{\"outlinewidth\":0,\"ticks\":\"\"}},\"type\":\"scatterpolar\"}],\"scatterpolargl\":[{\"marker\":{\"colorbar\":{\"outlinewidth\":0,\"ticks\":\"\"}},\"type\":\"scatterpolargl\"}],\"scatterternary\":[{\"marker\":{\"colorbar\":{\"outlinewidth\":0,\"ticks\":\"\"}},\"type\":\"scatterternary\"}],\"surface\":[{\"colorbar\":{\"outlinewidth\":0,\"ticks\":\"\"},\"colorscale\":[[0.0,\"#0d0887\"],[0.1111111111111111,\"#46039f\"],[0.2222222222222222,\"#7201a8\"],[0.3333333333333333,\"#9c179e\"],[0.4444444444444444,\"#bd3786\"],[0.5555555555555556,\"#d8576b\"],[0.6666666666666666,\"#ed7953\"],[0.7777777777777778,\"#fb9f3a\"],[0.8888888888888888,\"#fdca26\"],[1.0,\"#f0f921\"]],\"type\":\"surface\"}],\"table\":[{\"cells\":{\"fill\":{\"color\":\"#EBF0F8\"},\"line\":{\"color\":\"white\"}},\"header\":{\"fill\":{\"color\":\"#C8D4E3\"},\"line\":{\"color\":\"white\"}},\"type\":\"table\"}]},\"layout\":{\"annotationdefaults\":{\"arrowcolor\":\"#2a3f5f\",\"arrowhead\":0,\"arrowwidth\":1},\"autotypenumbers\":\"strict\",\"coloraxis\":{\"colorbar\":{\"outlinewidth\":0,\"ticks\":\"\"}},\"colorscale\":{\"diverging\":[[0,\"#8e0152\"],[0.1,\"#c51b7d\"],[0.2,\"#de77ae\"],[0.3,\"#f1b6da\"],[0.4,\"#fde0ef\"],[0.5,\"#f7f7f7\"],[0.6,\"#e6f5d0\"],[0.7,\"#b8e186\"],[0.8,\"#7fbc41\"],[0.9,\"#4d9221\"],[1,\"#276419\"]],\"sequential\":[[0.0,\"#0d0887\"],[0.1111111111111111,\"#46039f\"],[0.2222222222222222,\"#7201a8\"],[0.3333333333333333,\"#9c179e\"],[0.4444444444444444,\"#bd3786\"],[0.5555555555555556,\"#d8576b\"],[0.6666666666666666,\"#ed7953\"],[0.7777777777777778,\"#fb9f3a\"],[0.8888888888888888,\"#fdca26\"],[1.0,\"#f0f921\"]],\"sequentialminus\":[[0.0,\"#0d0887\"],[0.1111111111111111,\"#46039f\"],[0.2222222222222222,\"#7201a8\"],[0.3333333333333333,\"#9c179e\"],[0.4444444444444444,\"#bd3786\"],[0.5555555555555556,\"#d8576b\"],[0.6666666666666666,\"#ed7953\"],[0.7777777777777778,\"#fb9f3a\"],[0.8888888888888888,\"#fdca26\"],[1.0,\"#f0f921\"]]},\"colorway\":[\"#636efa\",\"#EF553B\",\"#00cc96\",\"#ab63fa\",\"#FFA15A\",\"#19d3f3\",\"#FF6692\",\"#B6E880\",\"#FF97FF\",\"#FECB52\"],\"font\":{\"color\":\"#2a3f5f\"},\"geo\":{\"bgcolor\":\"white\",\"lakecolor\":\"white\",\"landcolor\":\"#E5ECF6\",\"showlakes\":true,\"showland\":true,\"subunitcolor\":\"white\"},\"hoverlabel\":{\"align\":\"left\"},\"hovermode\":\"closest\",\"mapbox\":{\"style\":\"light\"},\"paper_bgcolor\":\"white\",\"plot_bgcolor\":\"#E5ECF6\",\"polar\":{\"angularaxis\":{\"gridcolor\":\"white\",\"linecolor\":\"white\",\"ticks\":\"\"},\"bgcolor\":\"#E5ECF6\",\"radialaxis\":{\"gridcolor\":\"white\",\"linecolor\":\"white\",\"ticks\":\"\"}},\"scene\":{\"xaxis\":{\"backgroundcolor\":\"#E5ECF6\",\"gridcolor\":\"white\",\"gridwidth\":2,\"linecolor\":\"white\",\"showbackground\":true,\"ticks\":\"\",\"zerolinecolor\":\"white\"},\"yaxis\":{\"backgroundcolor\":\"#E5ECF6\",\"gridcolor\":\"white\",\"gridwidth\":2,\"linecolor\":\"white\",\"showbackground\":true,\"ticks\":\"\",\"zerolinecolor\":\"white\"},\"zaxis\":{\"backgroundcolor\":\"#E5ECF6\",\"gridcolor\":\"white\",\"gridwidth\":2,\"linecolor\":\"white\",\"showbackground\":true,\"ticks\":\"\",\"zerolinecolor\":\"white\"}},\"shapedefaults\":{\"line\":{\"color\":\"#2a3f5f\"}},\"ternary\":{\"aaxis\":{\"gridcolor\":\"white\",\"linecolor\":\"white\",\"ticks\":\"\"},\"baxis\":{\"gridcolor\":\"white\",\"linecolor\":\"white\",\"ticks\":\"\"},\"bgcolor\":\"#E5ECF6\",\"caxis\":{\"gridcolor\":\"white\",\"linecolor\":\"white\",\"ticks\":\"\"}},\"title\":{\"x\":0.05},\"xaxis\":{\"automargin\":true,\"gridcolor\":\"white\",\"linecolor\":\"white\",\"ticks\":\"\",\"title\":{\"standoff\":15},\"zerolinecolor\":\"white\",\"zerolinewidth\":2},\"yaxis\":{\"automargin\":true,\"gridcolor\":\"white\",\"linecolor\":\"white\",\"ticks\":\"\",\"title\":{\"standoff\":15},\"zerolinecolor\":\"white\",\"zerolinewidth\":2}}},\"xaxis\":{\"anchor\":\"y\",\"domain\":[0.0,1.0],\"title\":{\"text\":\"date\"}},\"yaxis\":{\"anchor\":\"x\",\"domain\":[0.0,1.0],\"title\":{\"text\":\"M\"}},\"legend\":{\"tracegroupgap\":0},\"margin\":{\"t\":60}},                        {\"responsive\": true}                    ).then(function(){\n",
       "                            \n",
       "var gd = document.getElementById('ba480d90-e763-475a-af8e-4216fc838390');\n",
       "var x = new MutationObserver(function (mutations, observer) {{\n",
       "        var display = window.getComputedStyle(gd).display;\n",
       "        if (!display || display === 'none') {{\n",
       "            console.log([gd, 'removed!']);\n",
       "            Plotly.purge(gd);\n",
       "            observer.disconnect();\n",
       "        }}\n",
       "}});\n",
       "\n",
       "// Listen for the removal of the full notebook cells\n",
       "var notebookContainer = gd.closest('#notebook-container');\n",
       "if (notebookContainer) {{\n",
       "    x.observe(notebookContainer, {childList: true});\n",
       "}}\n",
       "\n",
       "// Listen for the clearing of the current output cell\n",
       "var outputEl = gd.closest('.output');\n",
       "if (outputEl) {{\n",
       "    x.observe(outputEl, {childList: true});\n",
       "}}\n",
       "\n",
       "                        })                };                });            </script>        </div>"
      ]
     },
     "metadata": {},
     "output_type": "display_data"
    }
   ],
   "source": [
    "# x and y given as DataFrame columns\n",
    "import plotly.express as px\n",
    "fig = px.line(df7, x = 'date', y=\"M\")\n",
    "fig.show()"
   ]
  },
  {
   "cell_type": "markdown",
   "id": "ce0c4681",
   "metadata": {},
   "source": [
    "Scale all data so that it fits into a single graph."
   ]
  },
  {
   "cell_type": "code",
   "execution_count": 117,
   "id": "41552ceb",
   "metadata": {},
   "outputs": [],
   "source": [
    "# Import the library for normalization of the data\n",
    "import sklearn.preprocessing as preproc\n",
    "\n",
    "# Initialise the objects using StandardScaler() \n",
    "sc_m = preproc.minmax_scale(df7[\"M\"])\n",
    "sc_y = preproc.minmax_scale(df7[\"FM\"])\n",
    "sc_h = preproc.minmax_scale(df7[\"H\"])\n",
    "sc_d = preproc.minmax_scale(df7[\"D\"])\n",
    "sc_z = preproc.minmax_scale(df7[\"Z\"])\n"
   ]
  },
  {
   "cell_type": "code",
   "execution_count": 118,
   "id": "d293edac",
   "metadata": {},
   "outputs": [
    {
     "data": {
      "application/vnd.plotly.v1+json": {
       "config": {
        "plotlyServerURL": "https://plot.ly"
       },
       "data": [
        {
         "line": {
          "width": 0.75
         },
         "mode": "lines",
         "name": "M",
         "type": "scatter",
         "x": [
          "2005-08-04T18:00:00",
          "2005-08-05T00:00:00",
          "2005-08-05T06:00:00",
          "2005-08-05T12:00:00",
          "2005-08-05T18:00:00",
          "2005-08-06T00:00:00",
          "2005-08-06T06:00:00",
          "2005-08-06T12:00:00",
          "2005-08-06T18:00:00",
          "2005-08-07T00:00:00",
          "2005-08-07T06:00:00",
          "2005-08-07T12:00:00",
          "2005-08-07T18:00:00",
          "2005-08-08T00:00:00",
          "2005-08-08T06:00:00",
          "2005-08-08T12:00:00",
          "2005-08-08T18:00:00",
          "2005-08-09T00:00:00",
          "2005-08-09T06:00:00",
          "2005-08-09T12:00:00",
          "2005-08-09T18:00:00",
          "2005-08-10T00:00:00",
          "2005-08-10T06:00:00",
          "2005-08-10T12:00:00",
          "2005-08-10T18:00:00",
          "2005-08-11T00:00:00",
          "2005-08-11T06:00:00",
          "2005-08-11T12:00:00",
          "2005-08-11T18:00:00",
          "2005-08-12T00:00:00",
          "2005-08-12T06:00:00",
          "2005-08-12T12:00:00",
          "2005-08-12T18:00:00",
          "2005-08-13T00:00:00",
          "2005-08-13T06:00:00",
          "2005-08-13T12:00:00",
          "2005-08-13T18:00:00",
          "2005-08-14T00:00:00",
          "2005-08-14T06:00:00",
          "2005-08-14T12:00:00",
          "2005-08-14T18:00:00",
          "2005-08-15T00:00:00",
          "2005-08-15T06:00:00",
          "2005-08-15T12:00:00",
          "2005-08-15T18:00:00",
          "2005-08-16T00:00:00",
          "2005-08-16T06:00:00",
          "2005-08-16T12:00:00",
          "2005-08-16T18:00:00",
          "2005-08-17T00:00:00",
          "2005-08-17T06:00:00",
          "2005-08-17T12:00:00",
          "2005-08-17T18:00:00",
          "2005-08-18T00:00:00",
          "2005-08-18T06:00:00",
          "2005-08-18T12:00:00"
         ],
         "y": [
          0.5946730053599936,
          0.4423069805603177,
          0.8242372483572922,
          0.772682052074174,
          0.19313070860670223,
          0.822020313268979,
          0.3218596625960686,
          0.9203068838687614,
          0.2539594691385787,
          0.8461567039896067,
          0,
          0.8067853759661716,
          0.662954520645826,
          0.8016885905046252,
          0.7658267650207904,
          0.5191114928365437,
          0.733259536724745,
          0.8139743510397466,
          0.6273094985106695,
          0.2328276735904069,
          0.12063355161933487,
          0.8258717264952793,
          0.8621584793411898,
          0.4365987625307639,
          0.7606381817938654,
          0.6743326812986083,
          0.7031292222704906,
          0.5157894260837566,
          0.7150569980723276,
          0.6811989290437168,
          0.6981800183924634,
          0.3772961670685504,
          0.656671355517858,
          0.6913103211487055,
          0.8645842885836714,
          0.5630941479384433,
          0.6348785485197936,
          0.7331150855802093,
          0.7685632987145254,
          0.35515365331775683,
          0.6684760857499441,
          0.6758161960282223,
          0.7006007134866081,
          0.7021768587696329,
          0.6324325398084056,
          0.7462273567308557,
          1,
          0.9562466094004662,
          0.7377378172930094,
          0.9359244851618769,
          0.8153179752201822,
          0.3538084638354917,
          0.5636295330601797,
          0.9867969613152354,
          0.9067346975745636,
          0.1811037033652383
         ]
        },
        {
         "line": {
          "width": 0.75
         },
         "mode": "lines",
         "name": "FM",
         "type": "scatter",
         "x": [
          "2005-08-04T18:00:00",
          "2005-08-05T00:00:00",
          "2005-08-05T06:00:00",
          "2005-08-05T12:00:00",
          "2005-08-05T18:00:00",
          "2005-08-06T00:00:00",
          "2005-08-06T06:00:00",
          "2005-08-06T12:00:00",
          "2005-08-06T18:00:00",
          "2005-08-07T00:00:00",
          "2005-08-07T06:00:00",
          "2005-08-07T12:00:00",
          "2005-08-07T18:00:00",
          "2005-08-08T00:00:00",
          "2005-08-08T06:00:00",
          "2005-08-08T12:00:00",
          "2005-08-08T18:00:00",
          "2005-08-09T00:00:00",
          "2005-08-09T06:00:00",
          "2005-08-09T12:00:00",
          "2005-08-09T18:00:00",
          "2005-08-10T00:00:00",
          "2005-08-10T06:00:00",
          "2005-08-10T12:00:00",
          "2005-08-10T18:00:00",
          "2005-08-11T00:00:00",
          "2005-08-11T06:00:00",
          "2005-08-11T12:00:00",
          "2005-08-11T18:00:00",
          "2005-08-12T00:00:00",
          "2005-08-12T06:00:00",
          "2005-08-12T12:00:00",
          "2005-08-12T18:00:00",
          "2005-08-13T00:00:00",
          "2005-08-13T06:00:00",
          "2005-08-13T12:00:00",
          "2005-08-13T18:00:00",
          "2005-08-14T00:00:00",
          "2005-08-14T06:00:00",
          "2005-08-14T12:00:00",
          "2005-08-14T18:00:00",
          "2005-08-15T00:00:00",
          "2005-08-15T06:00:00",
          "2005-08-15T12:00:00",
          "2005-08-15T18:00:00",
          "2005-08-16T00:00:00",
          "2005-08-16T06:00:00",
          "2005-08-16T12:00:00",
          "2005-08-16T18:00:00",
          "2005-08-17T00:00:00",
          "2005-08-17T06:00:00",
          "2005-08-17T12:00:00",
          "2005-08-17T18:00:00",
          "2005-08-18T00:00:00",
          "2005-08-18T06:00:00",
          "2005-08-18T12:00:00"
         ],
         "y": [
          0,
          0.3053346856273292,
          0.3547724653606722,
          0.40868612059461545,
          0.4670307615380211,
          0.3737973256872551,
          0.21245314724779524,
          0.2953593552151273,
          0.32762576273992833,
          0.21120726950845817,
          0.19650926242507827,
          0.22997885161871864,
          0.2832853307117817,
          0.31234386690188776,
          0.29000461194982147,
          0.39129277024130654,
          0.24106575839936184,
          0.26015615831653055,
          0.2133582391705395,
          0.1883638051999406,
          0.2589999600365523,
          0.21190921444974,
          0.19014464092455347,
          0.1668328033015269,
          0.2348461975623257,
          0.3086913178260763,
          0.2987413548466074,
          0.36407809924090473,
          0.3292858851607057,
          0.3083501737310255,
          0.3740773009309558,
          0.3243343127291619,
          0.2201899024029065,
          0.18491977003046767,
          0.21005452920634035,
          0.2040429441185475,
          0.22187450441808448,
          0.2310225697664131,
          0.14291949470298354,
          0.2555730532547332,
          0.23018442089055943,
          0.2521102166702277,
          0.2629743706322156,
          0.25650908342096784,
          0.2511958685824224,
          0.287548784614442,
          0.2248985068966121,
          0.2044533818177834,
          0.20616473832458646,
          0.14330298859324264,
          0.14330298859324522,
          0.32277515827535946,
          0.40610194540256256,
          0.5265913935962654,
          0.6850341871529307,
          1
         ]
        }
       ],
       "layout": {
        "template": {
         "data": {
          "bar": [
           {
            "error_x": {
             "color": "#2a3f5f"
            },
            "error_y": {
             "color": "#2a3f5f"
            },
            "marker": {
             "line": {
              "color": "#E5ECF6",
              "width": 0.5
             },
             "pattern": {
              "fillmode": "overlay",
              "size": 10,
              "solidity": 0.2
             }
            },
            "type": "bar"
           }
          ],
          "barpolar": [
           {
            "marker": {
             "line": {
              "color": "#E5ECF6",
              "width": 0.5
             },
             "pattern": {
              "fillmode": "overlay",
              "size": 10,
              "solidity": 0.2
             }
            },
            "type": "barpolar"
           }
          ],
          "carpet": [
           {
            "aaxis": {
             "endlinecolor": "#2a3f5f",
             "gridcolor": "white",
             "linecolor": "white",
             "minorgridcolor": "white",
             "startlinecolor": "#2a3f5f"
            },
            "baxis": {
             "endlinecolor": "#2a3f5f",
             "gridcolor": "white",
             "linecolor": "white",
             "minorgridcolor": "white",
             "startlinecolor": "#2a3f5f"
            },
            "type": "carpet"
           }
          ],
          "choropleth": [
           {
            "colorbar": {
             "outlinewidth": 0,
             "ticks": ""
            },
            "type": "choropleth"
           }
          ],
          "contour": [
           {
            "colorbar": {
             "outlinewidth": 0,
             "ticks": ""
            },
            "colorscale": [
             [
              0,
              "#0d0887"
             ],
             [
              0.1111111111111111,
              "#46039f"
             ],
             [
              0.2222222222222222,
              "#7201a8"
             ],
             [
              0.3333333333333333,
              "#9c179e"
             ],
             [
              0.4444444444444444,
              "#bd3786"
             ],
             [
              0.5555555555555556,
              "#d8576b"
             ],
             [
              0.6666666666666666,
              "#ed7953"
             ],
             [
              0.7777777777777778,
              "#fb9f3a"
             ],
             [
              0.8888888888888888,
              "#fdca26"
             ],
             [
              1,
              "#f0f921"
             ]
            ],
            "type": "contour"
           }
          ],
          "contourcarpet": [
           {
            "colorbar": {
             "outlinewidth": 0,
             "ticks": ""
            },
            "type": "contourcarpet"
           }
          ],
          "heatmap": [
           {
            "colorbar": {
             "outlinewidth": 0,
             "ticks": ""
            },
            "colorscale": [
             [
              0,
              "#0d0887"
             ],
             [
              0.1111111111111111,
              "#46039f"
             ],
             [
              0.2222222222222222,
              "#7201a8"
             ],
             [
              0.3333333333333333,
              "#9c179e"
             ],
             [
              0.4444444444444444,
              "#bd3786"
             ],
             [
              0.5555555555555556,
              "#d8576b"
             ],
             [
              0.6666666666666666,
              "#ed7953"
             ],
             [
              0.7777777777777778,
              "#fb9f3a"
             ],
             [
              0.8888888888888888,
              "#fdca26"
             ],
             [
              1,
              "#f0f921"
             ]
            ],
            "type": "heatmap"
           }
          ],
          "heatmapgl": [
           {
            "colorbar": {
             "outlinewidth": 0,
             "ticks": ""
            },
            "colorscale": [
             [
              0,
              "#0d0887"
             ],
             [
              0.1111111111111111,
              "#46039f"
             ],
             [
              0.2222222222222222,
              "#7201a8"
             ],
             [
              0.3333333333333333,
              "#9c179e"
             ],
             [
              0.4444444444444444,
              "#bd3786"
             ],
             [
              0.5555555555555556,
              "#d8576b"
             ],
             [
              0.6666666666666666,
              "#ed7953"
             ],
             [
              0.7777777777777778,
              "#fb9f3a"
             ],
             [
              0.8888888888888888,
              "#fdca26"
             ],
             [
              1,
              "#f0f921"
             ]
            ],
            "type": "heatmapgl"
           }
          ],
          "histogram": [
           {
            "marker": {
             "pattern": {
              "fillmode": "overlay",
              "size": 10,
              "solidity": 0.2
             }
            },
            "type": "histogram"
           }
          ],
          "histogram2d": [
           {
            "colorbar": {
             "outlinewidth": 0,
             "ticks": ""
            },
            "colorscale": [
             [
              0,
              "#0d0887"
             ],
             [
              0.1111111111111111,
              "#46039f"
             ],
             [
              0.2222222222222222,
              "#7201a8"
             ],
             [
              0.3333333333333333,
              "#9c179e"
             ],
             [
              0.4444444444444444,
              "#bd3786"
             ],
             [
              0.5555555555555556,
              "#d8576b"
             ],
             [
              0.6666666666666666,
              "#ed7953"
             ],
             [
              0.7777777777777778,
              "#fb9f3a"
             ],
             [
              0.8888888888888888,
              "#fdca26"
             ],
             [
              1,
              "#f0f921"
             ]
            ],
            "type": "histogram2d"
           }
          ],
          "histogram2dcontour": [
           {
            "colorbar": {
             "outlinewidth": 0,
             "ticks": ""
            },
            "colorscale": [
             [
              0,
              "#0d0887"
             ],
             [
              0.1111111111111111,
              "#46039f"
             ],
             [
              0.2222222222222222,
              "#7201a8"
             ],
             [
              0.3333333333333333,
              "#9c179e"
             ],
             [
              0.4444444444444444,
              "#bd3786"
             ],
             [
              0.5555555555555556,
              "#d8576b"
             ],
             [
              0.6666666666666666,
              "#ed7953"
             ],
             [
              0.7777777777777778,
              "#fb9f3a"
             ],
             [
              0.8888888888888888,
              "#fdca26"
             ],
             [
              1,
              "#f0f921"
             ]
            ],
            "type": "histogram2dcontour"
           }
          ],
          "mesh3d": [
           {
            "colorbar": {
             "outlinewidth": 0,
             "ticks": ""
            },
            "type": "mesh3d"
           }
          ],
          "parcoords": [
           {
            "line": {
             "colorbar": {
              "outlinewidth": 0,
              "ticks": ""
             }
            },
            "type": "parcoords"
           }
          ],
          "pie": [
           {
            "automargin": true,
            "type": "pie"
           }
          ],
          "scatter": [
           {
            "marker": {
             "colorbar": {
              "outlinewidth": 0,
              "ticks": ""
             }
            },
            "type": "scatter"
           }
          ],
          "scatter3d": [
           {
            "line": {
             "colorbar": {
              "outlinewidth": 0,
              "ticks": ""
             }
            },
            "marker": {
             "colorbar": {
              "outlinewidth": 0,
              "ticks": ""
             }
            },
            "type": "scatter3d"
           }
          ],
          "scattercarpet": [
           {
            "marker": {
             "colorbar": {
              "outlinewidth": 0,
              "ticks": ""
             }
            },
            "type": "scattercarpet"
           }
          ],
          "scattergeo": [
           {
            "marker": {
             "colorbar": {
              "outlinewidth": 0,
              "ticks": ""
             }
            },
            "type": "scattergeo"
           }
          ],
          "scattergl": [
           {
            "marker": {
             "colorbar": {
              "outlinewidth": 0,
              "ticks": ""
             }
            },
            "type": "scattergl"
           }
          ],
          "scattermapbox": [
           {
            "marker": {
             "colorbar": {
              "outlinewidth": 0,
              "ticks": ""
             }
            },
            "type": "scattermapbox"
           }
          ],
          "scatterpolar": [
           {
            "marker": {
             "colorbar": {
              "outlinewidth": 0,
              "ticks": ""
             }
            },
            "type": "scatterpolar"
           }
          ],
          "scatterpolargl": [
           {
            "marker": {
             "colorbar": {
              "outlinewidth": 0,
              "ticks": ""
             }
            },
            "type": "scatterpolargl"
           }
          ],
          "scatterternary": [
           {
            "marker": {
             "colorbar": {
              "outlinewidth": 0,
              "ticks": ""
             }
            },
            "type": "scatterternary"
           }
          ],
          "surface": [
           {
            "colorbar": {
             "outlinewidth": 0,
             "ticks": ""
            },
            "colorscale": [
             [
              0,
              "#0d0887"
             ],
             [
              0.1111111111111111,
              "#46039f"
             ],
             [
              0.2222222222222222,
              "#7201a8"
             ],
             [
              0.3333333333333333,
              "#9c179e"
             ],
             [
              0.4444444444444444,
              "#bd3786"
             ],
             [
              0.5555555555555556,
              "#d8576b"
             ],
             [
              0.6666666666666666,
              "#ed7953"
             ],
             [
              0.7777777777777778,
              "#fb9f3a"
             ],
             [
              0.8888888888888888,
              "#fdca26"
             ],
             [
              1,
              "#f0f921"
             ]
            ],
            "type": "surface"
           }
          ],
          "table": [
           {
            "cells": {
             "fill": {
              "color": "#EBF0F8"
             },
             "line": {
              "color": "white"
             }
            },
            "header": {
             "fill": {
              "color": "#C8D4E3"
             },
             "line": {
              "color": "white"
             }
            },
            "type": "table"
           }
          ]
         },
         "layout": {
          "annotationdefaults": {
           "arrowcolor": "#2a3f5f",
           "arrowhead": 0,
           "arrowwidth": 1
          },
          "autotypenumbers": "strict",
          "coloraxis": {
           "colorbar": {
            "outlinewidth": 0,
            "ticks": ""
           }
          },
          "colorscale": {
           "diverging": [
            [
             0,
             "#8e0152"
            ],
            [
             0.1,
             "#c51b7d"
            ],
            [
             0.2,
             "#de77ae"
            ],
            [
             0.3,
             "#f1b6da"
            ],
            [
             0.4,
             "#fde0ef"
            ],
            [
             0.5,
             "#f7f7f7"
            ],
            [
             0.6,
             "#e6f5d0"
            ],
            [
             0.7,
             "#b8e186"
            ],
            [
             0.8,
             "#7fbc41"
            ],
            [
             0.9,
             "#4d9221"
            ],
            [
             1,
             "#276419"
            ]
           ],
           "sequential": [
            [
             0,
             "#0d0887"
            ],
            [
             0.1111111111111111,
             "#46039f"
            ],
            [
             0.2222222222222222,
             "#7201a8"
            ],
            [
             0.3333333333333333,
             "#9c179e"
            ],
            [
             0.4444444444444444,
             "#bd3786"
            ],
            [
             0.5555555555555556,
             "#d8576b"
            ],
            [
             0.6666666666666666,
             "#ed7953"
            ],
            [
             0.7777777777777778,
             "#fb9f3a"
            ],
            [
             0.8888888888888888,
             "#fdca26"
            ],
            [
             1,
             "#f0f921"
            ]
           ],
           "sequentialminus": [
            [
             0,
             "#0d0887"
            ],
            [
             0.1111111111111111,
             "#46039f"
            ],
            [
             0.2222222222222222,
             "#7201a8"
            ],
            [
             0.3333333333333333,
             "#9c179e"
            ],
            [
             0.4444444444444444,
             "#bd3786"
            ],
            [
             0.5555555555555556,
             "#d8576b"
            ],
            [
             0.6666666666666666,
             "#ed7953"
            ],
            [
             0.7777777777777778,
             "#fb9f3a"
            ],
            [
             0.8888888888888888,
             "#fdca26"
            ],
            [
             1,
             "#f0f921"
            ]
           ]
          },
          "colorway": [
           "#636efa",
           "#EF553B",
           "#00cc96",
           "#ab63fa",
           "#FFA15A",
           "#19d3f3",
           "#FF6692",
           "#B6E880",
           "#FF97FF",
           "#FECB52"
          ],
          "font": {
           "color": "#2a3f5f"
          },
          "geo": {
           "bgcolor": "white",
           "lakecolor": "white",
           "landcolor": "#E5ECF6",
           "showlakes": true,
           "showland": true,
           "subunitcolor": "white"
          },
          "hoverlabel": {
           "align": "left"
          },
          "hovermode": "closest",
          "mapbox": {
           "style": "light"
          },
          "paper_bgcolor": "white",
          "plot_bgcolor": "#E5ECF6",
          "polar": {
           "angularaxis": {
            "gridcolor": "white",
            "linecolor": "white",
            "ticks": ""
           },
           "bgcolor": "#E5ECF6",
           "radialaxis": {
            "gridcolor": "white",
            "linecolor": "white",
            "ticks": ""
           }
          },
          "scene": {
           "xaxis": {
            "backgroundcolor": "#E5ECF6",
            "gridcolor": "white",
            "gridwidth": 2,
            "linecolor": "white",
            "showbackground": true,
            "ticks": "",
            "zerolinecolor": "white"
           },
           "yaxis": {
            "backgroundcolor": "#E5ECF6",
            "gridcolor": "white",
            "gridwidth": 2,
            "linecolor": "white",
            "showbackground": true,
            "ticks": "",
            "zerolinecolor": "white"
           },
           "zaxis": {
            "backgroundcolor": "#E5ECF6",
            "gridcolor": "white",
            "gridwidth": 2,
            "linecolor": "white",
            "showbackground": true,
            "ticks": "",
            "zerolinecolor": "white"
           }
          },
          "shapedefaults": {
           "line": {
            "color": "#2a3f5f"
           }
          },
          "ternary": {
           "aaxis": {
            "gridcolor": "white",
            "linecolor": "white",
            "ticks": ""
           },
           "baxis": {
            "gridcolor": "white",
            "linecolor": "white",
            "ticks": ""
           },
           "bgcolor": "#E5ECF6",
           "caxis": {
            "gridcolor": "white",
            "linecolor": "white",
            "ticks": ""
           }
          },
          "title": {
           "x": 0.05
          },
          "xaxis": {
           "automargin": true,
           "gridcolor": "white",
           "linecolor": "white",
           "ticks": "",
           "title": {
            "standoff": 15
           },
           "zerolinecolor": "white",
           "zerolinewidth": 2
          },
          "yaxis": {
           "automargin": true,
           "gridcolor": "white",
           "linecolor": "white",
           "ticks": "",
           "title": {
            "standoff": 15
           },
           "zerolinecolor": "white",
           "zerolinewidth": 2
          }
         }
        }
       }
      },
      "text/html": [
       "<div>                            <div id=\"81358524-1d75-4d43-b862-32a9453df15e\" class=\"plotly-graph-div\" style=\"height:525px; width:100%;\"></div>            <script type=\"text/javascript\">                require([\"plotly\"], function(Plotly) {                    window.PLOTLYENV=window.PLOTLYENV || {};                                    if (document.getElementById(\"81358524-1d75-4d43-b862-32a9453df15e\")) {                    Plotly.newPlot(                        \"81358524-1d75-4d43-b862-32a9453df15e\",                        [{\"line\":{\"width\":0.75},\"mode\":\"lines\",\"name\":\"M\",\"x\":[\"2005-08-04T18:00:00\",\"2005-08-05T00:00:00\",\"2005-08-05T06:00:00\",\"2005-08-05T12:00:00\",\"2005-08-05T18:00:00\",\"2005-08-06T00:00:00\",\"2005-08-06T06:00:00\",\"2005-08-06T12:00:00\",\"2005-08-06T18:00:00\",\"2005-08-07T00:00:00\",\"2005-08-07T06:00:00\",\"2005-08-07T12:00:00\",\"2005-08-07T18:00:00\",\"2005-08-08T00:00:00\",\"2005-08-08T06:00:00\",\"2005-08-08T12:00:00\",\"2005-08-08T18:00:00\",\"2005-08-09T00:00:00\",\"2005-08-09T06:00:00\",\"2005-08-09T12:00:00\",\"2005-08-09T18:00:00\",\"2005-08-10T00:00:00\",\"2005-08-10T06:00:00\",\"2005-08-10T12:00:00\",\"2005-08-10T18:00:00\",\"2005-08-11T00:00:00\",\"2005-08-11T06:00:00\",\"2005-08-11T12:00:00\",\"2005-08-11T18:00:00\",\"2005-08-12T00:00:00\",\"2005-08-12T06:00:00\",\"2005-08-12T12:00:00\",\"2005-08-12T18:00:00\",\"2005-08-13T00:00:00\",\"2005-08-13T06:00:00\",\"2005-08-13T12:00:00\",\"2005-08-13T18:00:00\",\"2005-08-14T00:00:00\",\"2005-08-14T06:00:00\",\"2005-08-14T12:00:00\",\"2005-08-14T18:00:00\",\"2005-08-15T00:00:00\",\"2005-08-15T06:00:00\",\"2005-08-15T12:00:00\",\"2005-08-15T18:00:00\",\"2005-08-16T00:00:00\",\"2005-08-16T06:00:00\",\"2005-08-16T12:00:00\",\"2005-08-16T18:00:00\",\"2005-08-17T00:00:00\",\"2005-08-17T06:00:00\",\"2005-08-17T12:00:00\",\"2005-08-17T18:00:00\",\"2005-08-18T00:00:00\",\"2005-08-18T06:00:00\",\"2005-08-18T12:00:00\"],\"y\":[0.5946730053599936,0.4423069805603177,0.8242372483572922,0.772682052074174,0.19313070860670223,0.822020313268979,0.3218596625960686,0.9203068838687614,0.2539594691385787,0.8461567039896067,0.0,0.8067853759661716,0.662954520645826,0.8016885905046252,0.7658267650207904,0.5191114928365437,0.733259536724745,0.8139743510397466,0.6273094985106695,0.2328276735904069,0.12063355161933487,0.8258717264952793,0.8621584793411898,0.4365987625307639,0.7606381817938654,0.6743326812986083,0.7031292222704906,0.5157894260837566,0.7150569980723276,0.6811989290437168,0.6981800183924634,0.3772961670685504,0.656671355517858,0.6913103211487055,0.8645842885836714,0.5630941479384433,0.6348785485197936,0.7331150855802093,0.7685632987145254,0.35515365331775683,0.6684760857499441,0.6758161960282223,0.7006007134866081,0.7021768587696329,0.6324325398084056,0.7462273567308557,1.0,0.9562466094004662,0.7377378172930094,0.9359244851618769,0.8153179752201822,0.3538084638354917,0.5636295330601797,0.9867969613152354,0.9067346975745636,0.1811037033652383],\"type\":\"scatter\"},{\"line\":{\"width\":0.75},\"mode\":\"lines\",\"name\":\"FM\",\"x\":[\"2005-08-04T18:00:00\",\"2005-08-05T00:00:00\",\"2005-08-05T06:00:00\",\"2005-08-05T12:00:00\",\"2005-08-05T18:00:00\",\"2005-08-06T00:00:00\",\"2005-08-06T06:00:00\",\"2005-08-06T12:00:00\",\"2005-08-06T18:00:00\",\"2005-08-07T00:00:00\",\"2005-08-07T06:00:00\",\"2005-08-07T12:00:00\",\"2005-08-07T18:00:00\",\"2005-08-08T00:00:00\",\"2005-08-08T06:00:00\",\"2005-08-08T12:00:00\",\"2005-08-08T18:00:00\",\"2005-08-09T00:00:00\",\"2005-08-09T06:00:00\",\"2005-08-09T12:00:00\",\"2005-08-09T18:00:00\",\"2005-08-10T00:00:00\",\"2005-08-10T06:00:00\",\"2005-08-10T12:00:00\",\"2005-08-10T18:00:00\",\"2005-08-11T00:00:00\",\"2005-08-11T06:00:00\",\"2005-08-11T12:00:00\",\"2005-08-11T18:00:00\",\"2005-08-12T00:00:00\",\"2005-08-12T06:00:00\",\"2005-08-12T12:00:00\",\"2005-08-12T18:00:00\",\"2005-08-13T00:00:00\",\"2005-08-13T06:00:00\",\"2005-08-13T12:00:00\",\"2005-08-13T18:00:00\",\"2005-08-14T00:00:00\",\"2005-08-14T06:00:00\",\"2005-08-14T12:00:00\",\"2005-08-14T18:00:00\",\"2005-08-15T00:00:00\",\"2005-08-15T06:00:00\",\"2005-08-15T12:00:00\",\"2005-08-15T18:00:00\",\"2005-08-16T00:00:00\",\"2005-08-16T06:00:00\",\"2005-08-16T12:00:00\",\"2005-08-16T18:00:00\",\"2005-08-17T00:00:00\",\"2005-08-17T06:00:00\",\"2005-08-17T12:00:00\",\"2005-08-17T18:00:00\",\"2005-08-18T00:00:00\",\"2005-08-18T06:00:00\",\"2005-08-18T12:00:00\"],\"y\":[0.0,0.3053346856273292,0.3547724653606722,0.40868612059461545,0.4670307615380211,0.3737973256872551,0.21245314724779524,0.2953593552151273,0.32762576273992833,0.21120726950845817,0.19650926242507827,0.22997885161871864,0.2832853307117817,0.31234386690188776,0.29000461194982147,0.39129277024130654,0.24106575839936184,0.26015615831653055,0.2133582391705395,0.1883638051999406,0.2589999600365523,0.21190921444974,0.19014464092455347,0.1668328033015269,0.2348461975623257,0.3086913178260763,0.2987413548466074,0.36407809924090473,0.3292858851607057,0.3083501737310255,0.3740773009309558,0.3243343127291619,0.2201899024029065,0.18491977003046767,0.21005452920634035,0.2040429441185475,0.22187450441808448,0.2310225697664131,0.14291949470298354,0.2555730532547332,0.23018442089055943,0.2521102166702277,0.2629743706322156,0.25650908342096784,0.2511958685824224,0.287548784614442,0.2248985068966121,0.2044533818177834,0.20616473832458646,0.14330298859324264,0.14330298859324522,0.32277515827535946,0.40610194540256256,0.5265913935962654,0.6850341871529307,1.0],\"type\":\"scatter\"}],                        {\"template\":{\"data\":{\"bar\":[{\"error_x\":{\"color\":\"#2a3f5f\"},\"error_y\":{\"color\":\"#2a3f5f\"},\"marker\":{\"line\":{\"color\":\"#E5ECF6\",\"width\":0.5},\"pattern\":{\"fillmode\":\"overlay\",\"size\":10,\"solidity\":0.2}},\"type\":\"bar\"}],\"barpolar\":[{\"marker\":{\"line\":{\"color\":\"#E5ECF6\",\"width\":0.5},\"pattern\":{\"fillmode\":\"overlay\",\"size\":10,\"solidity\":0.2}},\"type\":\"barpolar\"}],\"carpet\":[{\"aaxis\":{\"endlinecolor\":\"#2a3f5f\",\"gridcolor\":\"white\",\"linecolor\":\"white\",\"minorgridcolor\":\"white\",\"startlinecolor\":\"#2a3f5f\"},\"baxis\":{\"endlinecolor\":\"#2a3f5f\",\"gridcolor\":\"white\",\"linecolor\":\"white\",\"minorgridcolor\":\"white\",\"startlinecolor\":\"#2a3f5f\"},\"type\":\"carpet\"}],\"choropleth\":[{\"colorbar\":{\"outlinewidth\":0,\"ticks\":\"\"},\"type\":\"choropleth\"}],\"contour\":[{\"colorbar\":{\"outlinewidth\":0,\"ticks\":\"\"},\"colorscale\":[[0.0,\"#0d0887\"],[0.1111111111111111,\"#46039f\"],[0.2222222222222222,\"#7201a8\"],[0.3333333333333333,\"#9c179e\"],[0.4444444444444444,\"#bd3786\"],[0.5555555555555556,\"#d8576b\"],[0.6666666666666666,\"#ed7953\"],[0.7777777777777778,\"#fb9f3a\"],[0.8888888888888888,\"#fdca26\"],[1.0,\"#f0f921\"]],\"type\":\"contour\"}],\"contourcarpet\":[{\"colorbar\":{\"outlinewidth\":0,\"ticks\":\"\"},\"type\":\"contourcarpet\"}],\"heatmap\":[{\"colorbar\":{\"outlinewidth\":0,\"ticks\":\"\"},\"colorscale\":[[0.0,\"#0d0887\"],[0.1111111111111111,\"#46039f\"],[0.2222222222222222,\"#7201a8\"],[0.3333333333333333,\"#9c179e\"],[0.4444444444444444,\"#bd3786\"],[0.5555555555555556,\"#d8576b\"],[0.6666666666666666,\"#ed7953\"],[0.7777777777777778,\"#fb9f3a\"],[0.8888888888888888,\"#fdca26\"],[1.0,\"#f0f921\"]],\"type\":\"heatmap\"}],\"heatmapgl\":[{\"colorbar\":{\"outlinewidth\":0,\"ticks\":\"\"},\"colorscale\":[[0.0,\"#0d0887\"],[0.1111111111111111,\"#46039f\"],[0.2222222222222222,\"#7201a8\"],[0.3333333333333333,\"#9c179e\"],[0.4444444444444444,\"#bd3786\"],[0.5555555555555556,\"#d8576b\"],[0.6666666666666666,\"#ed7953\"],[0.7777777777777778,\"#fb9f3a\"],[0.8888888888888888,\"#fdca26\"],[1.0,\"#f0f921\"]],\"type\":\"heatmapgl\"}],\"histogram\":[{\"marker\":{\"pattern\":{\"fillmode\":\"overlay\",\"size\":10,\"solidity\":0.2}},\"type\":\"histogram\"}],\"histogram2d\":[{\"colorbar\":{\"outlinewidth\":0,\"ticks\":\"\"},\"colorscale\":[[0.0,\"#0d0887\"],[0.1111111111111111,\"#46039f\"],[0.2222222222222222,\"#7201a8\"],[0.3333333333333333,\"#9c179e\"],[0.4444444444444444,\"#bd3786\"],[0.5555555555555556,\"#d8576b\"],[0.6666666666666666,\"#ed7953\"],[0.7777777777777778,\"#fb9f3a\"],[0.8888888888888888,\"#fdca26\"],[1.0,\"#f0f921\"]],\"type\":\"histogram2d\"}],\"histogram2dcontour\":[{\"colorbar\":{\"outlinewidth\":0,\"ticks\":\"\"},\"colorscale\":[[0.0,\"#0d0887\"],[0.1111111111111111,\"#46039f\"],[0.2222222222222222,\"#7201a8\"],[0.3333333333333333,\"#9c179e\"],[0.4444444444444444,\"#bd3786\"],[0.5555555555555556,\"#d8576b\"],[0.6666666666666666,\"#ed7953\"],[0.7777777777777778,\"#fb9f3a\"],[0.8888888888888888,\"#fdca26\"],[1.0,\"#f0f921\"]],\"type\":\"histogram2dcontour\"}],\"mesh3d\":[{\"colorbar\":{\"outlinewidth\":0,\"ticks\":\"\"},\"type\":\"mesh3d\"}],\"parcoords\":[{\"line\":{\"colorbar\":{\"outlinewidth\":0,\"ticks\":\"\"}},\"type\":\"parcoords\"}],\"pie\":[{\"automargin\":true,\"type\":\"pie\"}],\"scatter\":[{\"marker\":{\"colorbar\":{\"outlinewidth\":0,\"ticks\":\"\"}},\"type\":\"scatter\"}],\"scatter3d\":[{\"line\":{\"colorbar\":{\"outlinewidth\":0,\"ticks\":\"\"}},\"marker\":{\"colorbar\":{\"outlinewidth\":0,\"ticks\":\"\"}},\"type\":\"scatter3d\"}],\"scattercarpet\":[{\"marker\":{\"colorbar\":{\"outlinewidth\":0,\"ticks\":\"\"}},\"type\":\"scattercarpet\"}],\"scattergeo\":[{\"marker\":{\"colorbar\":{\"outlinewidth\":0,\"ticks\":\"\"}},\"type\":\"scattergeo\"}],\"scattergl\":[{\"marker\":{\"colorbar\":{\"outlinewidth\":0,\"ticks\":\"\"}},\"type\":\"scattergl\"}],\"scattermapbox\":[{\"marker\":{\"colorbar\":{\"outlinewidth\":0,\"ticks\":\"\"}},\"type\":\"scattermapbox\"}],\"scatterpolar\":[{\"marker\":{\"colorbar\":{\"outlinewidth\":0,\"ticks\":\"\"}},\"type\":\"scatterpolar\"}],\"scatterpolargl\":[{\"marker\":{\"colorbar\":{\"outlinewidth\":0,\"ticks\":\"\"}},\"type\":\"scatterpolargl\"}],\"scatterternary\":[{\"marker\":{\"colorbar\":{\"outlinewidth\":0,\"ticks\":\"\"}},\"type\":\"scatterternary\"}],\"surface\":[{\"colorbar\":{\"outlinewidth\":0,\"ticks\":\"\"},\"colorscale\":[[0.0,\"#0d0887\"],[0.1111111111111111,\"#46039f\"],[0.2222222222222222,\"#7201a8\"],[0.3333333333333333,\"#9c179e\"],[0.4444444444444444,\"#bd3786\"],[0.5555555555555556,\"#d8576b\"],[0.6666666666666666,\"#ed7953\"],[0.7777777777777778,\"#fb9f3a\"],[0.8888888888888888,\"#fdca26\"],[1.0,\"#f0f921\"]],\"type\":\"surface\"}],\"table\":[{\"cells\":{\"fill\":{\"color\":\"#EBF0F8\"},\"line\":{\"color\":\"white\"}},\"header\":{\"fill\":{\"color\":\"#C8D4E3\"},\"line\":{\"color\":\"white\"}},\"type\":\"table\"}]},\"layout\":{\"annotationdefaults\":{\"arrowcolor\":\"#2a3f5f\",\"arrowhead\":0,\"arrowwidth\":1},\"autotypenumbers\":\"strict\",\"coloraxis\":{\"colorbar\":{\"outlinewidth\":0,\"ticks\":\"\"}},\"colorscale\":{\"diverging\":[[0,\"#8e0152\"],[0.1,\"#c51b7d\"],[0.2,\"#de77ae\"],[0.3,\"#f1b6da\"],[0.4,\"#fde0ef\"],[0.5,\"#f7f7f7\"],[0.6,\"#e6f5d0\"],[0.7,\"#b8e186\"],[0.8,\"#7fbc41\"],[0.9,\"#4d9221\"],[1,\"#276419\"]],\"sequential\":[[0.0,\"#0d0887\"],[0.1111111111111111,\"#46039f\"],[0.2222222222222222,\"#7201a8\"],[0.3333333333333333,\"#9c179e\"],[0.4444444444444444,\"#bd3786\"],[0.5555555555555556,\"#d8576b\"],[0.6666666666666666,\"#ed7953\"],[0.7777777777777778,\"#fb9f3a\"],[0.8888888888888888,\"#fdca26\"],[1.0,\"#f0f921\"]],\"sequentialminus\":[[0.0,\"#0d0887\"],[0.1111111111111111,\"#46039f\"],[0.2222222222222222,\"#7201a8\"],[0.3333333333333333,\"#9c179e\"],[0.4444444444444444,\"#bd3786\"],[0.5555555555555556,\"#d8576b\"],[0.6666666666666666,\"#ed7953\"],[0.7777777777777778,\"#fb9f3a\"],[0.8888888888888888,\"#fdca26\"],[1.0,\"#f0f921\"]]},\"colorway\":[\"#636efa\",\"#EF553B\",\"#00cc96\",\"#ab63fa\",\"#FFA15A\",\"#19d3f3\",\"#FF6692\",\"#B6E880\",\"#FF97FF\",\"#FECB52\"],\"font\":{\"color\":\"#2a3f5f\"},\"geo\":{\"bgcolor\":\"white\",\"lakecolor\":\"white\",\"landcolor\":\"#E5ECF6\",\"showlakes\":true,\"showland\":true,\"subunitcolor\":\"white\"},\"hoverlabel\":{\"align\":\"left\"},\"hovermode\":\"closest\",\"mapbox\":{\"style\":\"light\"},\"paper_bgcolor\":\"white\",\"plot_bgcolor\":\"#E5ECF6\",\"polar\":{\"angularaxis\":{\"gridcolor\":\"white\",\"linecolor\":\"white\",\"ticks\":\"\"},\"bgcolor\":\"#E5ECF6\",\"radialaxis\":{\"gridcolor\":\"white\",\"linecolor\":\"white\",\"ticks\":\"\"}},\"scene\":{\"xaxis\":{\"backgroundcolor\":\"#E5ECF6\",\"gridcolor\":\"white\",\"gridwidth\":2,\"linecolor\":\"white\",\"showbackground\":true,\"ticks\":\"\",\"zerolinecolor\":\"white\"},\"yaxis\":{\"backgroundcolor\":\"#E5ECF6\",\"gridcolor\":\"white\",\"gridwidth\":2,\"linecolor\":\"white\",\"showbackground\":true,\"ticks\":\"\",\"zerolinecolor\":\"white\"},\"zaxis\":{\"backgroundcolor\":\"#E5ECF6\",\"gridcolor\":\"white\",\"gridwidth\":2,\"linecolor\":\"white\",\"showbackground\":true,\"ticks\":\"\",\"zerolinecolor\":\"white\"}},\"shapedefaults\":{\"line\":{\"color\":\"#2a3f5f\"}},\"ternary\":{\"aaxis\":{\"gridcolor\":\"white\",\"linecolor\":\"white\",\"ticks\":\"\"},\"baxis\":{\"gridcolor\":\"white\",\"linecolor\":\"white\",\"ticks\":\"\"},\"bgcolor\":\"#E5ECF6\",\"caxis\":{\"gridcolor\":\"white\",\"linecolor\":\"white\",\"ticks\":\"\"}},\"title\":{\"x\":0.05},\"xaxis\":{\"automargin\":true,\"gridcolor\":\"white\",\"linecolor\":\"white\",\"ticks\":\"\",\"title\":{\"standoff\":15},\"zerolinecolor\":\"white\",\"zerolinewidth\":2},\"yaxis\":{\"automargin\":true,\"gridcolor\":\"white\",\"linecolor\":\"white\",\"ticks\":\"\",\"title\":{\"standoff\":15},\"zerolinecolor\":\"white\",\"zerolinewidth\":2}}}},                        {\"responsive\": true}                    ).then(function(){\n",
       "                            \n",
       "var gd = document.getElementById('81358524-1d75-4d43-b862-32a9453df15e');\n",
       "var x = new MutationObserver(function (mutations, observer) {{\n",
       "        var display = window.getComputedStyle(gd).display;\n",
       "        if (!display || display === 'none') {{\n",
       "            console.log([gd, 'removed!']);\n",
       "            Plotly.purge(gd);\n",
       "            observer.disconnect();\n",
       "        }}\n",
       "}});\n",
       "\n",
       "// Listen for the removal of the full notebook cells\n",
       "var notebookContainer = gd.closest('#notebook-container');\n",
       "if (notebookContainer) {{\n",
       "    x.observe(notebookContainer, {childList: true});\n",
       "}}\n",
       "\n",
       "// Listen for the clearing of the current output cell\n",
       "var outputEl = gd.closest('.output');\n",
       "if (outputEl) {{\n",
       "    x.observe(outputEl, {childList: true});\n",
       "}}\n",
       "\n",
       "                        })                };                });            </script>        </div>"
      ]
     },
     "metadata": {},
     "output_type": "display_data"
    }
   ],
   "source": [
    "import plotly.graph_objects as go\n",
    "\n",
    "\n",
    "fig = go.Figure()\n",
    "\n",
    "# Add traces\n",
    "fig.add_trace(go.Scatter(x=df7[\"date\"], y=sc_m,\n",
    "                    mode='lines',\n",
    "                    name='M',\n",
    "                    line=dict(width=0.75)))\n",
    "fig.add_trace(go.Scatter(x=df7[\"date\"], y=sc_y,\n",
    "                    mode='lines',\n",
    "                    name='FM',\n",
    "                    line=dict(width=0.75)))\n",
    "\n",
    "fig.show()"
   ]
  },
  {
   "cell_type": "markdown",
   "id": "9192d1e4",
   "metadata": {},
   "source": [
    "There appears to be a large electromagnetic anomaly occurs just before the slow down in Hurricane Dorian's forward motion."
   ]
  },
  {
   "cell_type": "code",
   "execution_count": 119,
   "id": "0931a17e",
   "metadata": {},
   "outputs": [
    {
     "data": {
      "application/vnd.plotly.v1+json": {
       "config": {
        "plotlyServerURL": "https://plot.ly"
       },
       "data": [
        {
         "line": {
          "width": 0.75
         },
         "mode": "lines",
         "name": "M",
         "type": "scatter",
         "x": [
          "2005-08-04T18:00:00",
          "2005-08-05T00:00:00",
          "2005-08-05T06:00:00",
          "2005-08-05T12:00:00",
          "2005-08-05T18:00:00",
          "2005-08-06T00:00:00",
          "2005-08-06T06:00:00",
          "2005-08-06T12:00:00",
          "2005-08-06T18:00:00",
          "2005-08-07T00:00:00",
          "2005-08-07T06:00:00",
          "2005-08-07T12:00:00",
          "2005-08-07T18:00:00",
          "2005-08-08T00:00:00",
          "2005-08-08T06:00:00",
          "2005-08-08T12:00:00",
          "2005-08-08T18:00:00",
          "2005-08-09T00:00:00",
          "2005-08-09T06:00:00",
          "2005-08-09T12:00:00",
          "2005-08-09T18:00:00",
          "2005-08-10T00:00:00",
          "2005-08-10T06:00:00",
          "2005-08-10T12:00:00",
          "2005-08-10T18:00:00",
          "2005-08-11T00:00:00",
          "2005-08-11T06:00:00",
          "2005-08-11T12:00:00",
          "2005-08-11T18:00:00",
          "2005-08-12T00:00:00",
          "2005-08-12T06:00:00",
          "2005-08-12T12:00:00",
          "2005-08-12T18:00:00",
          "2005-08-13T00:00:00",
          "2005-08-13T06:00:00",
          "2005-08-13T12:00:00",
          "2005-08-13T18:00:00",
          "2005-08-14T00:00:00",
          "2005-08-14T06:00:00",
          "2005-08-14T12:00:00",
          "2005-08-14T18:00:00",
          "2005-08-15T00:00:00",
          "2005-08-15T06:00:00",
          "2005-08-15T12:00:00",
          "2005-08-15T18:00:00",
          "2005-08-16T00:00:00",
          "2005-08-16T06:00:00",
          "2005-08-16T12:00:00",
          "2005-08-16T18:00:00",
          "2005-08-17T00:00:00",
          "2005-08-17T06:00:00",
          "2005-08-17T12:00:00",
          "2005-08-17T18:00:00",
          "2005-08-18T00:00:00",
          "2005-08-18T06:00:00",
          "2005-08-18T12:00:00"
         ],
         "y": [
          0.5946730053599936,
          0.4423069805603177,
          0.8242372483572922,
          0.772682052074174,
          0.19313070860670223,
          0.822020313268979,
          0.3218596625960686,
          0.9203068838687614,
          0.2539594691385787,
          0.8461567039896067,
          0,
          0.8067853759661716,
          0.662954520645826,
          0.8016885905046252,
          0.7658267650207904,
          0.5191114928365437,
          0.733259536724745,
          0.8139743510397466,
          0.6273094985106695,
          0.2328276735904069,
          0.12063355161933487,
          0.8258717264952793,
          0.8621584793411898,
          0.4365987625307639,
          0.7606381817938654,
          0.6743326812986083,
          0.7031292222704906,
          0.5157894260837566,
          0.7150569980723276,
          0.6811989290437168,
          0.6981800183924634,
          0.3772961670685504,
          0.656671355517858,
          0.6913103211487055,
          0.8645842885836714,
          0.5630941479384433,
          0.6348785485197936,
          0.7331150855802093,
          0.7685632987145254,
          0.35515365331775683,
          0.6684760857499441,
          0.6758161960282223,
          0.7006007134866081,
          0.7021768587696329,
          0.6324325398084056,
          0.7462273567308557,
          1,
          0.9562466094004662,
          0.7377378172930094,
          0.9359244851618769,
          0.8153179752201822,
          0.3538084638354917,
          0.5636295330601797,
          0.9867969613152354,
          0.9067346975745636,
          0.1811037033652383
         ]
        },
        {
         "line": {
          "width": 0.75
         },
         "mode": "lines",
         "name": "H",
         "type": "scatter",
         "x": [
          "2005-08-04T18:00:00",
          "2005-08-05T00:00:00",
          "2005-08-05T06:00:00",
          "2005-08-05T12:00:00",
          "2005-08-05T18:00:00",
          "2005-08-06T00:00:00",
          "2005-08-06T06:00:00",
          "2005-08-06T12:00:00",
          "2005-08-06T18:00:00",
          "2005-08-07T00:00:00",
          "2005-08-07T06:00:00",
          "2005-08-07T12:00:00",
          "2005-08-07T18:00:00",
          "2005-08-08T00:00:00",
          "2005-08-08T06:00:00",
          "2005-08-08T12:00:00",
          "2005-08-08T18:00:00",
          "2005-08-09T00:00:00",
          "2005-08-09T06:00:00",
          "2005-08-09T12:00:00",
          "2005-08-09T18:00:00",
          "2005-08-10T00:00:00",
          "2005-08-10T06:00:00",
          "2005-08-10T12:00:00",
          "2005-08-10T18:00:00",
          "2005-08-11T00:00:00",
          "2005-08-11T06:00:00",
          "2005-08-11T12:00:00",
          "2005-08-11T18:00:00",
          "2005-08-12T00:00:00",
          "2005-08-12T06:00:00",
          "2005-08-12T12:00:00",
          "2005-08-12T18:00:00",
          "2005-08-13T00:00:00",
          "2005-08-13T06:00:00",
          "2005-08-13T12:00:00",
          "2005-08-13T18:00:00",
          "2005-08-14T00:00:00",
          "2005-08-14T06:00:00",
          "2005-08-14T12:00:00",
          "2005-08-14T18:00:00",
          "2005-08-15T00:00:00",
          "2005-08-15T06:00:00",
          "2005-08-15T12:00:00",
          "2005-08-15T18:00:00",
          "2005-08-16T00:00:00",
          "2005-08-16T06:00:00",
          "2005-08-16T12:00:00",
          "2005-08-16T18:00:00",
          "2005-08-17T00:00:00",
          "2005-08-17T06:00:00",
          "2005-08-17T12:00:00",
          "2005-08-17T18:00:00",
          "2005-08-18T00:00:00",
          "2005-08-18T06:00:00",
          "2005-08-18T12:00:00"
         ],
         "y": [
          0.27084727290128896,
          0.2709823010755237,
          0.3014710541112855,
          0.26024719154892395,
          0.11098876619569964,
          0.3468392214100291,
          0.24534129709165242,
          0.16701196358285486,
          0.12074207711725649,
          0.2876183736705471,
          0.16758172921626624,
          0.3064531207005885,
          0.24940028951870374,
          0.2938352973548497,
          0.9580945362317124,
          0.9071101965616677,
          0.2614517568521393,
          0.2872437460370634,
          0.2607653462859041,
          0.13540007417421407,
          0.14012308134039841,
          0.25272133226458493,
          0.3406615263139017,
          0.1738009499084754,
          0.986567911278069,
          0.9397768073982817,
          0.9563313912450511,
          0.8403579503989853,
          0.9597963319654994,
          0.9062982042662178,
          0.9410808379293449,
          0.8449384712933856,
          0.9495585677198619,
          0.8916742077117235,
          0.986508045509467,
          0.8439544426764947,
          0.9325702800674769,
          0.9114425448933474,
          1,
          0.7985781042506588,
          0.9246353619581988,
          0.9117401509804175,
          0.9288092167442343,
          0.9720245971263495,
          0.9276517640302906,
          0.3286829530907909,
          0.3109103568736771,
          0.17212976898321486,
          0.27647203512508156,
          0.3490688982736536,
          0.3340239630564561,
          0.14927967267637143,
          0.2747358560541713,
          0.30329362221397815,
          0.35609788603490955,
          0
         ]
        },
        {
         "line": {
          "width": 0.75
         },
         "name": "D",
         "type": "scatter",
         "x": [
          "2005-08-04T18:00:00",
          "2005-08-05T00:00:00",
          "2005-08-05T06:00:00",
          "2005-08-05T12:00:00",
          "2005-08-05T18:00:00",
          "2005-08-06T00:00:00",
          "2005-08-06T06:00:00",
          "2005-08-06T12:00:00",
          "2005-08-06T18:00:00",
          "2005-08-07T00:00:00",
          "2005-08-07T06:00:00",
          "2005-08-07T12:00:00",
          "2005-08-07T18:00:00",
          "2005-08-08T00:00:00",
          "2005-08-08T06:00:00",
          "2005-08-08T12:00:00",
          "2005-08-08T18:00:00",
          "2005-08-09T00:00:00",
          "2005-08-09T06:00:00",
          "2005-08-09T12:00:00",
          "2005-08-09T18:00:00",
          "2005-08-10T00:00:00",
          "2005-08-10T06:00:00",
          "2005-08-10T12:00:00",
          "2005-08-10T18:00:00",
          "2005-08-11T00:00:00",
          "2005-08-11T06:00:00",
          "2005-08-11T12:00:00",
          "2005-08-11T18:00:00",
          "2005-08-12T00:00:00",
          "2005-08-12T06:00:00",
          "2005-08-12T12:00:00",
          "2005-08-12T18:00:00",
          "2005-08-13T00:00:00",
          "2005-08-13T06:00:00",
          "2005-08-13T12:00:00",
          "2005-08-13T18:00:00",
          "2005-08-14T00:00:00",
          "2005-08-14T06:00:00",
          "2005-08-14T12:00:00",
          "2005-08-14T18:00:00",
          "2005-08-15T00:00:00",
          "2005-08-15T06:00:00",
          "2005-08-15T12:00:00",
          "2005-08-15T18:00:00",
          "2005-08-16T00:00:00",
          "2005-08-16T06:00:00",
          "2005-08-16T12:00:00",
          "2005-08-16T18:00:00",
          "2005-08-17T00:00:00",
          "2005-08-17T06:00:00",
          "2005-08-17T12:00:00",
          "2005-08-17T18:00:00",
          "2005-08-18T00:00:00",
          "2005-08-18T06:00:00",
          "2005-08-18T12:00:00"
         ],
         "y": [
          0.5928942527201725,
          0.44435660945009425,
          0.4745792903929962,
          0.4297263343836761,
          0.6410634272641748,
          0.4276731651364823,
          0.14992293473772766,
          0.3372333133534505,
          0.6750518106245672,
          0.5097347617656424,
          0,
          0.49156358970358444,
          0.6084634670734682,
          0.47033382391962986,
          0.4231919746044357,
          0.43972341146177557,
          0.6573896459441567,
          0.48864729798300055,
          0.5111003319745226,
          0.5299526492294814,
          0.6458540849737975,
          0.46100695929083596,
          0.4888226098165881,
          1,
          0.6446463342087523,
          0.38595899981336745,
          0.479901173640605,
          0.44099739349285927,
          0.6434427449396563,
          0.41880561680634953,
          0.49663983888944774,
          0.6138581765001876,
          0.6633156514426919,
          0.37154809201053435,
          0.5003296045859403,
          0.4919933523276235,
          0.7482869096124491,
          0.45038728009844264,
          0.47868009198175654,
          0.5145290519674919,
          0.6820820232262259,
          0.4840097692175414,
          0.5599659575524591,
          0.6263602978051142,
          0.7399373969941586,
          0.5831936998619089,
          0.5762306354660742,
          0.7315924690747951,
          0.8103610175323119,
          0.6556704896472562,
          0.8221081799916121,
          0.5325414876459292,
          0.8113396744186637,
          0.6558588149724135,
          0.6493654000812832,
          0.591389871934547
         ]
        },
        {
         "line": {
          "width": 0.75
         },
         "mode": "lines",
         "name": "Z",
         "type": "scatter",
         "x": [
          "2005-08-04T18:00:00",
          "2005-08-05T00:00:00",
          "2005-08-05T06:00:00",
          "2005-08-05T12:00:00",
          "2005-08-05T18:00:00",
          "2005-08-06T00:00:00",
          "2005-08-06T06:00:00",
          "2005-08-06T12:00:00",
          "2005-08-06T18:00:00",
          "2005-08-07T00:00:00",
          "2005-08-07T06:00:00",
          "2005-08-07T12:00:00",
          "2005-08-07T18:00:00",
          "2005-08-08T00:00:00",
          "2005-08-08T06:00:00",
          "2005-08-08T12:00:00",
          "2005-08-08T18:00:00",
          "2005-08-09T00:00:00",
          "2005-08-09T06:00:00",
          "2005-08-09T12:00:00",
          "2005-08-09T18:00:00",
          "2005-08-10T00:00:00",
          "2005-08-10T06:00:00",
          "2005-08-10T12:00:00",
          "2005-08-10T18:00:00",
          "2005-08-11T00:00:00",
          "2005-08-11T06:00:00",
          "2005-08-11T12:00:00",
          "2005-08-11T18:00:00",
          "2005-08-12T00:00:00",
          "2005-08-12T06:00:00",
          "2005-08-12T12:00:00",
          "2005-08-12T18:00:00",
          "2005-08-13T00:00:00",
          "2005-08-13T06:00:00",
          "2005-08-13T12:00:00",
          "2005-08-13T18:00:00",
          "2005-08-14T00:00:00",
          "2005-08-14T06:00:00",
          "2005-08-14T12:00:00",
          "2005-08-14T18:00:00",
          "2005-08-15T00:00:00",
          "2005-08-15T06:00:00",
          "2005-08-15T12:00:00",
          "2005-08-15T18:00:00",
          "2005-08-16T00:00:00",
          "2005-08-16T06:00:00",
          "2005-08-16T12:00:00",
          "2005-08-16T18:00:00",
          "2005-08-17T00:00:00",
          "2005-08-17T06:00:00",
          "2005-08-17T12:00:00",
          "2005-08-17T18:00:00",
          "2005-08-18T00:00:00",
          "2005-08-18T06:00:00",
          "2005-08-18T12:00:00"
         ],
         "y": [
          0.5916749536800125,
          0.45892287017801436,
          0.785494447734834,
          0.7639896803883914,
          0.32242112978542536,
          0.7523788460269145,
          0.3546557845441214,
          0.9720145407281962,
          0.37152809086558136,
          0.8150658104993909,
          0.10309286556048392,
          0.7643281744978765,
          0.6688952766068894,
          0.769686374852995,
          0.28627920059821577,
          0.08998047486676342,
          0.7263900819235971,
          0.7851076447011565,
          0.6278066020206268,
          0.339238052191547,
          0.23422904318516657,
          0.8198364549459427,
          0.7941966868921781,
          0.5294865918415042,
          0.2610654059720332,
          0.2136408556862932,
          0.22842640809739123,
          0.13320424913652573,
          0.23691566054088753,
          0.24370499895658781,
          0.2343130955544268,
          0,
          0.1891961715601269,
          0.2630736716990043,
          0.3575357112943891,
          0.17389930364026895,
          0.18092830738240195,
          0.28874350846530206,
          0.25854582473627374,
          0.010437528141068242,
          0.21835766387181366,
          0.23429924036335592,
          0.24503612906892158,
          0.21579651706289837,
          0.1821443214923022,
          0.6922414209559804,
          0.9435419019853555,
          1,
          0.7203408539138252,
          0.8566000989835345,
          0.7550353946701023,
          0.4450623433852172,
          0.5588115090797885,
          0.9359176040630643,
          0.8256090950190753,
          0.3807553164781723
         ]
        },
        {
         "line": {
          "width": 0.75
         },
         "mode": "lines",
         "name": "FM",
         "type": "scatter",
         "x": [
          "2005-08-04T18:00:00",
          "2005-08-05T00:00:00",
          "2005-08-05T06:00:00",
          "2005-08-05T12:00:00",
          "2005-08-05T18:00:00",
          "2005-08-06T00:00:00",
          "2005-08-06T06:00:00",
          "2005-08-06T12:00:00",
          "2005-08-06T18:00:00",
          "2005-08-07T00:00:00",
          "2005-08-07T06:00:00",
          "2005-08-07T12:00:00",
          "2005-08-07T18:00:00",
          "2005-08-08T00:00:00",
          "2005-08-08T06:00:00",
          "2005-08-08T12:00:00",
          "2005-08-08T18:00:00",
          "2005-08-09T00:00:00",
          "2005-08-09T06:00:00",
          "2005-08-09T12:00:00",
          "2005-08-09T18:00:00",
          "2005-08-10T00:00:00",
          "2005-08-10T06:00:00",
          "2005-08-10T12:00:00",
          "2005-08-10T18:00:00",
          "2005-08-11T00:00:00",
          "2005-08-11T06:00:00",
          "2005-08-11T12:00:00",
          "2005-08-11T18:00:00",
          "2005-08-12T00:00:00",
          "2005-08-12T06:00:00",
          "2005-08-12T12:00:00",
          "2005-08-12T18:00:00",
          "2005-08-13T00:00:00",
          "2005-08-13T06:00:00",
          "2005-08-13T12:00:00",
          "2005-08-13T18:00:00",
          "2005-08-14T00:00:00",
          "2005-08-14T06:00:00",
          "2005-08-14T12:00:00",
          "2005-08-14T18:00:00",
          "2005-08-15T00:00:00",
          "2005-08-15T06:00:00",
          "2005-08-15T12:00:00",
          "2005-08-15T18:00:00",
          "2005-08-16T00:00:00",
          "2005-08-16T06:00:00",
          "2005-08-16T12:00:00",
          "2005-08-16T18:00:00",
          "2005-08-17T00:00:00",
          "2005-08-17T06:00:00",
          "2005-08-17T12:00:00",
          "2005-08-17T18:00:00",
          "2005-08-18T00:00:00",
          "2005-08-18T06:00:00",
          "2005-08-18T12:00:00"
         ],
         "y": [
          0,
          0.3053346856273292,
          0.3547724653606722,
          0.40868612059461545,
          0.4670307615380211,
          0.3737973256872551,
          0.21245314724779524,
          0.2953593552151273,
          0.32762576273992833,
          0.21120726950845817,
          0.19650926242507827,
          0.22997885161871864,
          0.2832853307117817,
          0.31234386690188776,
          0.29000461194982147,
          0.39129277024130654,
          0.24106575839936184,
          0.26015615831653055,
          0.2133582391705395,
          0.1883638051999406,
          0.2589999600365523,
          0.21190921444974,
          0.19014464092455347,
          0.1668328033015269,
          0.2348461975623257,
          0.3086913178260763,
          0.2987413548466074,
          0.36407809924090473,
          0.3292858851607057,
          0.3083501737310255,
          0.3740773009309558,
          0.3243343127291619,
          0.2201899024029065,
          0.18491977003046767,
          0.21005452920634035,
          0.2040429441185475,
          0.22187450441808448,
          0.2310225697664131,
          0.14291949470298354,
          0.2555730532547332,
          0.23018442089055943,
          0.2521102166702277,
          0.2629743706322156,
          0.25650908342096784,
          0.2511958685824224,
          0.287548784614442,
          0.2248985068966121,
          0.2044533818177834,
          0.20616473832458646,
          0.14330298859324264,
          0.14330298859324522,
          0.32277515827535946,
          0.40610194540256256,
          0.5265913935962654,
          0.6850341871529307,
          1
         ]
        }
       ],
       "layout": {
        "template": {
         "data": {
          "bar": [
           {
            "error_x": {
             "color": "#2a3f5f"
            },
            "error_y": {
             "color": "#2a3f5f"
            },
            "marker": {
             "line": {
              "color": "#E5ECF6",
              "width": 0.5
             },
             "pattern": {
              "fillmode": "overlay",
              "size": 10,
              "solidity": 0.2
             }
            },
            "type": "bar"
           }
          ],
          "barpolar": [
           {
            "marker": {
             "line": {
              "color": "#E5ECF6",
              "width": 0.5
             },
             "pattern": {
              "fillmode": "overlay",
              "size": 10,
              "solidity": 0.2
             }
            },
            "type": "barpolar"
           }
          ],
          "carpet": [
           {
            "aaxis": {
             "endlinecolor": "#2a3f5f",
             "gridcolor": "white",
             "linecolor": "white",
             "minorgridcolor": "white",
             "startlinecolor": "#2a3f5f"
            },
            "baxis": {
             "endlinecolor": "#2a3f5f",
             "gridcolor": "white",
             "linecolor": "white",
             "minorgridcolor": "white",
             "startlinecolor": "#2a3f5f"
            },
            "type": "carpet"
           }
          ],
          "choropleth": [
           {
            "colorbar": {
             "outlinewidth": 0,
             "ticks": ""
            },
            "type": "choropleth"
           }
          ],
          "contour": [
           {
            "colorbar": {
             "outlinewidth": 0,
             "ticks": ""
            },
            "colorscale": [
             [
              0,
              "#0d0887"
             ],
             [
              0.1111111111111111,
              "#46039f"
             ],
             [
              0.2222222222222222,
              "#7201a8"
             ],
             [
              0.3333333333333333,
              "#9c179e"
             ],
             [
              0.4444444444444444,
              "#bd3786"
             ],
             [
              0.5555555555555556,
              "#d8576b"
             ],
             [
              0.6666666666666666,
              "#ed7953"
             ],
             [
              0.7777777777777778,
              "#fb9f3a"
             ],
             [
              0.8888888888888888,
              "#fdca26"
             ],
             [
              1,
              "#f0f921"
             ]
            ],
            "type": "contour"
           }
          ],
          "contourcarpet": [
           {
            "colorbar": {
             "outlinewidth": 0,
             "ticks": ""
            },
            "type": "contourcarpet"
           }
          ],
          "heatmap": [
           {
            "colorbar": {
             "outlinewidth": 0,
             "ticks": ""
            },
            "colorscale": [
             [
              0,
              "#0d0887"
             ],
             [
              0.1111111111111111,
              "#46039f"
             ],
             [
              0.2222222222222222,
              "#7201a8"
             ],
             [
              0.3333333333333333,
              "#9c179e"
             ],
             [
              0.4444444444444444,
              "#bd3786"
             ],
             [
              0.5555555555555556,
              "#d8576b"
             ],
             [
              0.6666666666666666,
              "#ed7953"
             ],
             [
              0.7777777777777778,
              "#fb9f3a"
             ],
             [
              0.8888888888888888,
              "#fdca26"
             ],
             [
              1,
              "#f0f921"
             ]
            ],
            "type": "heatmap"
           }
          ],
          "heatmapgl": [
           {
            "colorbar": {
             "outlinewidth": 0,
             "ticks": ""
            },
            "colorscale": [
             [
              0,
              "#0d0887"
             ],
             [
              0.1111111111111111,
              "#46039f"
             ],
             [
              0.2222222222222222,
              "#7201a8"
             ],
             [
              0.3333333333333333,
              "#9c179e"
             ],
             [
              0.4444444444444444,
              "#bd3786"
             ],
             [
              0.5555555555555556,
              "#d8576b"
             ],
             [
              0.6666666666666666,
              "#ed7953"
             ],
             [
              0.7777777777777778,
              "#fb9f3a"
             ],
             [
              0.8888888888888888,
              "#fdca26"
             ],
             [
              1,
              "#f0f921"
             ]
            ],
            "type": "heatmapgl"
           }
          ],
          "histogram": [
           {
            "marker": {
             "pattern": {
              "fillmode": "overlay",
              "size": 10,
              "solidity": 0.2
             }
            },
            "type": "histogram"
           }
          ],
          "histogram2d": [
           {
            "colorbar": {
             "outlinewidth": 0,
             "ticks": ""
            },
            "colorscale": [
             [
              0,
              "#0d0887"
             ],
             [
              0.1111111111111111,
              "#46039f"
             ],
             [
              0.2222222222222222,
              "#7201a8"
             ],
             [
              0.3333333333333333,
              "#9c179e"
             ],
             [
              0.4444444444444444,
              "#bd3786"
             ],
             [
              0.5555555555555556,
              "#d8576b"
             ],
             [
              0.6666666666666666,
              "#ed7953"
             ],
             [
              0.7777777777777778,
              "#fb9f3a"
             ],
             [
              0.8888888888888888,
              "#fdca26"
             ],
             [
              1,
              "#f0f921"
             ]
            ],
            "type": "histogram2d"
           }
          ],
          "histogram2dcontour": [
           {
            "colorbar": {
             "outlinewidth": 0,
             "ticks": ""
            },
            "colorscale": [
             [
              0,
              "#0d0887"
             ],
             [
              0.1111111111111111,
              "#46039f"
             ],
             [
              0.2222222222222222,
              "#7201a8"
             ],
             [
              0.3333333333333333,
              "#9c179e"
             ],
             [
              0.4444444444444444,
              "#bd3786"
             ],
             [
              0.5555555555555556,
              "#d8576b"
             ],
             [
              0.6666666666666666,
              "#ed7953"
             ],
             [
              0.7777777777777778,
              "#fb9f3a"
             ],
             [
              0.8888888888888888,
              "#fdca26"
             ],
             [
              1,
              "#f0f921"
             ]
            ],
            "type": "histogram2dcontour"
           }
          ],
          "mesh3d": [
           {
            "colorbar": {
             "outlinewidth": 0,
             "ticks": ""
            },
            "type": "mesh3d"
           }
          ],
          "parcoords": [
           {
            "line": {
             "colorbar": {
              "outlinewidth": 0,
              "ticks": ""
             }
            },
            "type": "parcoords"
           }
          ],
          "pie": [
           {
            "automargin": true,
            "type": "pie"
           }
          ],
          "scatter": [
           {
            "marker": {
             "colorbar": {
              "outlinewidth": 0,
              "ticks": ""
             }
            },
            "type": "scatter"
           }
          ],
          "scatter3d": [
           {
            "line": {
             "colorbar": {
              "outlinewidth": 0,
              "ticks": ""
             }
            },
            "marker": {
             "colorbar": {
              "outlinewidth": 0,
              "ticks": ""
             }
            },
            "type": "scatter3d"
           }
          ],
          "scattercarpet": [
           {
            "marker": {
             "colorbar": {
              "outlinewidth": 0,
              "ticks": ""
             }
            },
            "type": "scattercarpet"
           }
          ],
          "scattergeo": [
           {
            "marker": {
             "colorbar": {
              "outlinewidth": 0,
              "ticks": ""
             }
            },
            "type": "scattergeo"
           }
          ],
          "scattergl": [
           {
            "marker": {
             "colorbar": {
              "outlinewidth": 0,
              "ticks": ""
             }
            },
            "type": "scattergl"
           }
          ],
          "scattermapbox": [
           {
            "marker": {
             "colorbar": {
              "outlinewidth": 0,
              "ticks": ""
             }
            },
            "type": "scattermapbox"
           }
          ],
          "scatterpolar": [
           {
            "marker": {
             "colorbar": {
              "outlinewidth": 0,
              "ticks": ""
             }
            },
            "type": "scatterpolar"
           }
          ],
          "scatterpolargl": [
           {
            "marker": {
             "colorbar": {
              "outlinewidth": 0,
              "ticks": ""
             }
            },
            "type": "scatterpolargl"
           }
          ],
          "scatterternary": [
           {
            "marker": {
             "colorbar": {
              "outlinewidth": 0,
              "ticks": ""
             }
            },
            "type": "scatterternary"
           }
          ],
          "surface": [
           {
            "colorbar": {
             "outlinewidth": 0,
             "ticks": ""
            },
            "colorscale": [
             [
              0,
              "#0d0887"
             ],
             [
              0.1111111111111111,
              "#46039f"
             ],
             [
              0.2222222222222222,
              "#7201a8"
             ],
             [
              0.3333333333333333,
              "#9c179e"
             ],
             [
              0.4444444444444444,
              "#bd3786"
             ],
             [
              0.5555555555555556,
              "#d8576b"
             ],
             [
              0.6666666666666666,
              "#ed7953"
             ],
             [
              0.7777777777777778,
              "#fb9f3a"
             ],
             [
              0.8888888888888888,
              "#fdca26"
             ],
             [
              1,
              "#f0f921"
             ]
            ],
            "type": "surface"
           }
          ],
          "table": [
           {
            "cells": {
             "fill": {
              "color": "#EBF0F8"
             },
             "line": {
              "color": "white"
             }
            },
            "header": {
             "fill": {
              "color": "#C8D4E3"
             },
             "line": {
              "color": "white"
             }
            },
            "type": "table"
           }
          ]
         },
         "layout": {
          "annotationdefaults": {
           "arrowcolor": "#2a3f5f",
           "arrowhead": 0,
           "arrowwidth": 1
          },
          "autotypenumbers": "strict",
          "coloraxis": {
           "colorbar": {
            "outlinewidth": 0,
            "ticks": ""
           }
          },
          "colorscale": {
           "diverging": [
            [
             0,
             "#8e0152"
            ],
            [
             0.1,
             "#c51b7d"
            ],
            [
             0.2,
             "#de77ae"
            ],
            [
             0.3,
             "#f1b6da"
            ],
            [
             0.4,
             "#fde0ef"
            ],
            [
             0.5,
             "#f7f7f7"
            ],
            [
             0.6,
             "#e6f5d0"
            ],
            [
             0.7,
             "#b8e186"
            ],
            [
             0.8,
             "#7fbc41"
            ],
            [
             0.9,
             "#4d9221"
            ],
            [
             1,
             "#276419"
            ]
           ],
           "sequential": [
            [
             0,
             "#0d0887"
            ],
            [
             0.1111111111111111,
             "#46039f"
            ],
            [
             0.2222222222222222,
             "#7201a8"
            ],
            [
             0.3333333333333333,
             "#9c179e"
            ],
            [
             0.4444444444444444,
             "#bd3786"
            ],
            [
             0.5555555555555556,
             "#d8576b"
            ],
            [
             0.6666666666666666,
             "#ed7953"
            ],
            [
             0.7777777777777778,
             "#fb9f3a"
            ],
            [
             0.8888888888888888,
             "#fdca26"
            ],
            [
             1,
             "#f0f921"
            ]
           ],
           "sequentialminus": [
            [
             0,
             "#0d0887"
            ],
            [
             0.1111111111111111,
             "#46039f"
            ],
            [
             0.2222222222222222,
             "#7201a8"
            ],
            [
             0.3333333333333333,
             "#9c179e"
            ],
            [
             0.4444444444444444,
             "#bd3786"
            ],
            [
             0.5555555555555556,
             "#d8576b"
            ],
            [
             0.6666666666666666,
             "#ed7953"
            ],
            [
             0.7777777777777778,
             "#fb9f3a"
            ],
            [
             0.8888888888888888,
             "#fdca26"
            ],
            [
             1,
             "#f0f921"
            ]
           ]
          },
          "colorway": [
           "#636efa",
           "#EF553B",
           "#00cc96",
           "#ab63fa",
           "#FFA15A",
           "#19d3f3",
           "#FF6692",
           "#B6E880",
           "#FF97FF",
           "#FECB52"
          ],
          "font": {
           "color": "#2a3f5f"
          },
          "geo": {
           "bgcolor": "white",
           "lakecolor": "white",
           "landcolor": "#E5ECF6",
           "showlakes": true,
           "showland": true,
           "subunitcolor": "white"
          },
          "hoverlabel": {
           "align": "left"
          },
          "hovermode": "closest",
          "mapbox": {
           "style": "light"
          },
          "paper_bgcolor": "white",
          "plot_bgcolor": "#E5ECF6",
          "polar": {
           "angularaxis": {
            "gridcolor": "white",
            "linecolor": "white",
            "ticks": ""
           },
           "bgcolor": "#E5ECF6",
           "radialaxis": {
            "gridcolor": "white",
            "linecolor": "white",
            "ticks": ""
           }
          },
          "scene": {
           "xaxis": {
            "backgroundcolor": "#E5ECF6",
            "gridcolor": "white",
            "gridwidth": 2,
            "linecolor": "white",
            "showbackground": true,
            "ticks": "",
            "zerolinecolor": "white"
           },
           "yaxis": {
            "backgroundcolor": "#E5ECF6",
            "gridcolor": "white",
            "gridwidth": 2,
            "linecolor": "white",
            "showbackground": true,
            "ticks": "",
            "zerolinecolor": "white"
           },
           "zaxis": {
            "backgroundcolor": "#E5ECF6",
            "gridcolor": "white",
            "gridwidth": 2,
            "linecolor": "white",
            "showbackground": true,
            "ticks": "",
            "zerolinecolor": "white"
           }
          },
          "shapedefaults": {
           "line": {
            "color": "#2a3f5f"
           }
          },
          "ternary": {
           "aaxis": {
            "gridcolor": "white",
            "linecolor": "white",
            "ticks": ""
           },
           "baxis": {
            "gridcolor": "white",
            "linecolor": "white",
            "ticks": ""
           },
           "bgcolor": "#E5ECF6",
           "caxis": {
            "gridcolor": "white",
            "linecolor": "white",
            "ticks": ""
           }
          },
          "title": {
           "x": 0.05
          },
          "xaxis": {
           "automargin": true,
           "gridcolor": "white",
           "linecolor": "white",
           "ticks": "",
           "title": {
            "standoff": 15
           },
           "zerolinecolor": "white",
           "zerolinewidth": 2
          },
          "yaxis": {
           "automargin": true,
           "gridcolor": "white",
           "linecolor": "white",
           "ticks": "",
           "title": {
            "standoff": 15
           },
           "zerolinecolor": "white",
           "zerolinewidth": 2
          }
         }
        }
       }
      },
      "text/html": [
       "<div>                            <div id=\"021f01cb-ae55-434c-bcec-5e97f90a1c8d\" class=\"plotly-graph-div\" style=\"height:525px; width:100%;\"></div>            <script type=\"text/javascript\">                require([\"plotly\"], function(Plotly) {                    window.PLOTLYENV=window.PLOTLYENV || {};                                    if (document.getElementById(\"021f01cb-ae55-434c-bcec-5e97f90a1c8d\")) {                    Plotly.newPlot(                        \"021f01cb-ae55-434c-bcec-5e97f90a1c8d\",                        [{\"line\":{\"width\":0.75},\"mode\":\"lines\",\"name\":\"M\",\"x\":[\"2005-08-04T18:00:00\",\"2005-08-05T00:00:00\",\"2005-08-05T06:00:00\",\"2005-08-05T12:00:00\",\"2005-08-05T18:00:00\",\"2005-08-06T00:00:00\",\"2005-08-06T06:00:00\",\"2005-08-06T12:00:00\",\"2005-08-06T18:00:00\",\"2005-08-07T00:00:00\",\"2005-08-07T06:00:00\",\"2005-08-07T12:00:00\",\"2005-08-07T18:00:00\",\"2005-08-08T00:00:00\",\"2005-08-08T06:00:00\",\"2005-08-08T12:00:00\",\"2005-08-08T18:00:00\",\"2005-08-09T00:00:00\",\"2005-08-09T06:00:00\",\"2005-08-09T12:00:00\",\"2005-08-09T18:00:00\",\"2005-08-10T00:00:00\",\"2005-08-10T06:00:00\",\"2005-08-10T12:00:00\",\"2005-08-10T18:00:00\",\"2005-08-11T00:00:00\",\"2005-08-11T06:00:00\",\"2005-08-11T12:00:00\",\"2005-08-11T18:00:00\",\"2005-08-12T00:00:00\",\"2005-08-12T06:00:00\",\"2005-08-12T12:00:00\",\"2005-08-12T18:00:00\",\"2005-08-13T00:00:00\",\"2005-08-13T06:00:00\",\"2005-08-13T12:00:00\",\"2005-08-13T18:00:00\",\"2005-08-14T00:00:00\",\"2005-08-14T06:00:00\",\"2005-08-14T12:00:00\",\"2005-08-14T18:00:00\",\"2005-08-15T00:00:00\",\"2005-08-15T06:00:00\",\"2005-08-15T12:00:00\",\"2005-08-15T18:00:00\",\"2005-08-16T00:00:00\",\"2005-08-16T06:00:00\",\"2005-08-16T12:00:00\",\"2005-08-16T18:00:00\",\"2005-08-17T00:00:00\",\"2005-08-17T06:00:00\",\"2005-08-17T12:00:00\",\"2005-08-17T18:00:00\",\"2005-08-18T00:00:00\",\"2005-08-18T06:00:00\",\"2005-08-18T12:00:00\"],\"y\":[0.5946730053599936,0.4423069805603177,0.8242372483572922,0.772682052074174,0.19313070860670223,0.822020313268979,0.3218596625960686,0.9203068838687614,0.2539594691385787,0.8461567039896067,0.0,0.8067853759661716,0.662954520645826,0.8016885905046252,0.7658267650207904,0.5191114928365437,0.733259536724745,0.8139743510397466,0.6273094985106695,0.2328276735904069,0.12063355161933487,0.8258717264952793,0.8621584793411898,0.4365987625307639,0.7606381817938654,0.6743326812986083,0.7031292222704906,0.5157894260837566,0.7150569980723276,0.6811989290437168,0.6981800183924634,0.3772961670685504,0.656671355517858,0.6913103211487055,0.8645842885836714,0.5630941479384433,0.6348785485197936,0.7331150855802093,0.7685632987145254,0.35515365331775683,0.6684760857499441,0.6758161960282223,0.7006007134866081,0.7021768587696329,0.6324325398084056,0.7462273567308557,1.0,0.9562466094004662,0.7377378172930094,0.9359244851618769,0.8153179752201822,0.3538084638354917,0.5636295330601797,0.9867969613152354,0.9067346975745636,0.1811037033652383],\"type\":\"scatter\"},{\"line\":{\"width\":0.75},\"mode\":\"lines\",\"name\":\"H\",\"x\":[\"2005-08-04T18:00:00\",\"2005-08-05T00:00:00\",\"2005-08-05T06:00:00\",\"2005-08-05T12:00:00\",\"2005-08-05T18:00:00\",\"2005-08-06T00:00:00\",\"2005-08-06T06:00:00\",\"2005-08-06T12:00:00\",\"2005-08-06T18:00:00\",\"2005-08-07T00:00:00\",\"2005-08-07T06:00:00\",\"2005-08-07T12:00:00\",\"2005-08-07T18:00:00\",\"2005-08-08T00:00:00\",\"2005-08-08T06:00:00\",\"2005-08-08T12:00:00\",\"2005-08-08T18:00:00\",\"2005-08-09T00:00:00\",\"2005-08-09T06:00:00\",\"2005-08-09T12:00:00\",\"2005-08-09T18:00:00\",\"2005-08-10T00:00:00\",\"2005-08-10T06:00:00\",\"2005-08-10T12:00:00\",\"2005-08-10T18:00:00\",\"2005-08-11T00:00:00\",\"2005-08-11T06:00:00\",\"2005-08-11T12:00:00\",\"2005-08-11T18:00:00\",\"2005-08-12T00:00:00\",\"2005-08-12T06:00:00\",\"2005-08-12T12:00:00\",\"2005-08-12T18:00:00\",\"2005-08-13T00:00:00\",\"2005-08-13T06:00:00\",\"2005-08-13T12:00:00\",\"2005-08-13T18:00:00\",\"2005-08-14T00:00:00\",\"2005-08-14T06:00:00\",\"2005-08-14T12:00:00\",\"2005-08-14T18:00:00\",\"2005-08-15T00:00:00\",\"2005-08-15T06:00:00\",\"2005-08-15T12:00:00\",\"2005-08-15T18:00:00\",\"2005-08-16T00:00:00\",\"2005-08-16T06:00:00\",\"2005-08-16T12:00:00\",\"2005-08-16T18:00:00\",\"2005-08-17T00:00:00\",\"2005-08-17T06:00:00\",\"2005-08-17T12:00:00\",\"2005-08-17T18:00:00\",\"2005-08-18T00:00:00\",\"2005-08-18T06:00:00\",\"2005-08-18T12:00:00\"],\"y\":[0.27084727290128896,0.2709823010755237,0.3014710541112855,0.26024719154892395,0.11098876619569964,0.3468392214100291,0.24534129709165242,0.16701196358285486,0.12074207711725649,0.2876183736705471,0.16758172921626624,0.3064531207005885,0.24940028951870374,0.2938352973548497,0.9580945362317124,0.9071101965616677,0.2614517568521393,0.2872437460370634,0.2607653462859041,0.13540007417421407,0.14012308134039841,0.25272133226458493,0.3406615263139017,0.1738009499084754,0.986567911278069,0.9397768073982817,0.9563313912450511,0.8403579503989853,0.9597963319654994,0.9062982042662178,0.9410808379293449,0.8449384712933856,0.9495585677198619,0.8916742077117235,0.986508045509467,0.8439544426764947,0.9325702800674769,0.9114425448933474,1.0,0.7985781042506588,0.9246353619581988,0.9117401509804175,0.9288092167442343,0.9720245971263495,0.9276517640302906,0.3286829530907909,0.3109103568736771,0.17212976898321486,0.27647203512508156,0.3490688982736536,0.3340239630564561,0.14927967267637143,0.2747358560541713,0.30329362221397815,0.35609788603490955,0.0],\"type\":\"scatter\"},{\"line\":{\"width\":0.75},\"name\":\"D\",\"x\":[\"2005-08-04T18:00:00\",\"2005-08-05T00:00:00\",\"2005-08-05T06:00:00\",\"2005-08-05T12:00:00\",\"2005-08-05T18:00:00\",\"2005-08-06T00:00:00\",\"2005-08-06T06:00:00\",\"2005-08-06T12:00:00\",\"2005-08-06T18:00:00\",\"2005-08-07T00:00:00\",\"2005-08-07T06:00:00\",\"2005-08-07T12:00:00\",\"2005-08-07T18:00:00\",\"2005-08-08T00:00:00\",\"2005-08-08T06:00:00\",\"2005-08-08T12:00:00\",\"2005-08-08T18:00:00\",\"2005-08-09T00:00:00\",\"2005-08-09T06:00:00\",\"2005-08-09T12:00:00\",\"2005-08-09T18:00:00\",\"2005-08-10T00:00:00\",\"2005-08-10T06:00:00\",\"2005-08-10T12:00:00\",\"2005-08-10T18:00:00\",\"2005-08-11T00:00:00\",\"2005-08-11T06:00:00\",\"2005-08-11T12:00:00\",\"2005-08-11T18:00:00\",\"2005-08-12T00:00:00\",\"2005-08-12T06:00:00\",\"2005-08-12T12:00:00\",\"2005-08-12T18:00:00\",\"2005-08-13T00:00:00\",\"2005-08-13T06:00:00\",\"2005-08-13T12:00:00\",\"2005-08-13T18:00:00\",\"2005-08-14T00:00:00\",\"2005-08-14T06:00:00\",\"2005-08-14T12:00:00\",\"2005-08-14T18:00:00\",\"2005-08-15T00:00:00\",\"2005-08-15T06:00:00\",\"2005-08-15T12:00:00\",\"2005-08-15T18:00:00\",\"2005-08-16T00:00:00\",\"2005-08-16T06:00:00\",\"2005-08-16T12:00:00\",\"2005-08-16T18:00:00\",\"2005-08-17T00:00:00\",\"2005-08-17T06:00:00\",\"2005-08-17T12:00:00\",\"2005-08-17T18:00:00\",\"2005-08-18T00:00:00\",\"2005-08-18T06:00:00\",\"2005-08-18T12:00:00\"],\"y\":[0.5928942527201725,0.44435660945009425,0.4745792903929962,0.4297263343836761,0.6410634272641748,0.4276731651364823,0.14992293473772766,0.3372333133534505,0.6750518106245672,0.5097347617656424,0.0,0.49156358970358444,0.6084634670734682,0.47033382391962986,0.4231919746044357,0.43972341146177557,0.6573896459441567,0.48864729798300055,0.5111003319745226,0.5299526492294814,0.6458540849737975,0.46100695929083596,0.4888226098165881,1.0,0.6446463342087523,0.38595899981336745,0.479901173640605,0.44099739349285927,0.6434427449396563,0.41880561680634953,0.49663983888944774,0.6138581765001876,0.6633156514426919,0.37154809201053435,0.5003296045859403,0.4919933523276235,0.7482869096124491,0.45038728009844264,0.47868009198175654,0.5145290519674919,0.6820820232262259,0.4840097692175414,0.5599659575524591,0.6263602978051142,0.7399373969941586,0.5831936998619089,0.5762306354660742,0.7315924690747951,0.8103610175323119,0.6556704896472562,0.8221081799916121,0.5325414876459292,0.8113396744186637,0.6558588149724135,0.6493654000812832,0.591389871934547],\"type\":\"scatter\"},{\"line\":{\"width\":0.75},\"mode\":\"lines\",\"name\":\"Z\",\"x\":[\"2005-08-04T18:00:00\",\"2005-08-05T00:00:00\",\"2005-08-05T06:00:00\",\"2005-08-05T12:00:00\",\"2005-08-05T18:00:00\",\"2005-08-06T00:00:00\",\"2005-08-06T06:00:00\",\"2005-08-06T12:00:00\",\"2005-08-06T18:00:00\",\"2005-08-07T00:00:00\",\"2005-08-07T06:00:00\",\"2005-08-07T12:00:00\",\"2005-08-07T18:00:00\",\"2005-08-08T00:00:00\",\"2005-08-08T06:00:00\",\"2005-08-08T12:00:00\",\"2005-08-08T18:00:00\",\"2005-08-09T00:00:00\",\"2005-08-09T06:00:00\",\"2005-08-09T12:00:00\",\"2005-08-09T18:00:00\",\"2005-08-10T00:00:00\",\"2005-08-10T06:00:00\",\"2005-08-10T12:00:00\",\"2005-08-10T18:00:00\",\"2005-08-11T00:00:00\",\"2005-08-11T06:00:00\",\"2005-08-11T12:00:00\",\"2005-08-11T18:00:00\",\"2005-08-12T00:00:00\",\"2005-08-12T06:00:00\",\"2005-08-12T12:00:00\",\"2005-08-12T18:00:00\",\"2005-08-13T00:00:00\",\"2005-08-13T06:00:00\",\"2005-08-13T12:00:00\",\"2005-08-13T18:00:00\",\"2005-08-14T00:00:00\",\"2005-08-14T06:00:00\",\"2005-08-14T12:00:00\",\"2005-08-14T18:00:00\",\"2005-08-15T00:00:00\",\"2005-08-15T06:00:00\",\"2005-08-15T12:00:00\",\"2005-08-15T18:00:00\",\"2005-08-16T00:00:00\",\"2005-08-16T06:00:00\",\"2005-08-16T12:00:00\",\"2005-08-16T18:00:00\",\"2005-08-17T00:00:00\",\"2005-08-17T06:00:00\",\"2005-08-17T12:00:00\",\"2005-08-17T18:00:00\",\"2005-08-18T00:00:00\",\"2005-08-18T06:00:00\",\"2005-08-18T12:00:00\"],\"y\":[0.5916749536800125,0.45892287017801436,0.785494447734834,0.7639896803883914,0.32242112978542536,0.7523788460269145,0.3546557845441214,0.9720145407281962,0.37152809086558136,0.8150658104993909,0.10309286556048392,0.7643281744978765,0.6688952766068894,0.769686374852995,0.28627920059821577,0.08998047486676342,0.7263900819235971,0.7851076447011565,0.6278066020206268,0.339238052191547,0.23422904318516657,0.8198364549459427,0.7941966868921781,0.5294865918415042,0.2610654059720332,0.2136408556862932,0.22842640809739123,0.13320424913652573,0.23691566054088753,0.24370499895658781,0.2343130955544268,0.0,0.1891961715601269,0.2630736716990043,0.3575357112943891,0.17389930364026895,0.18092830738240195,0.28874350846530206,0.25854582473627374,0.010437528141068242,0.21835766387181366,0.23429924036335592,0.24503612906892158,0.21579651706289837,0.1821443214923022,0.6922414209559804,0.9435419019853555,1.0,0.7203408539138252,0.8566000989835345,0.7550353946701023,0.4450623433852172,0.5588115090797885,0.9359176040630643,0.8256090950190753,0.3807553164781723],\"type\":\"scatter\"},{\"line\":{\"width\":0.75},\"mode\":\"lines\",\"name\":\"FM\",\"x\":[\"2005-08-04T18:00:00\",\"2005-08-05T00:00:00\",\"2005-08-05T06:00:00\",\"2005-08-05T12:00:00\",\"2005-08-05T18:00:00\",\"2005-08-06T00:00:00\",\"2005-08-06T06:00:00\",\"2005-08-06T12:00:00\",\"2005-08-06T18:00:00\",\"2005-08-07T00:00:00\",\"2005-08-07T06:00:00\",\"2005-08-07T12:00:00\",\"2005-08-07T18:00:00\",\"2005-08-08T00:00:00\",\"2005-08-08T06:00:00\",\"2005-08-08T12:00:00\",\"2005-08-08T18:00:00\",\"2005-08-09T00:00:00\",\"2005-08-09T06:00:00\",\"2005-08-09T12:00:00\",\"2005-08-09T18:00:00\",\"2005-08-10T00:00:00\",\"2005-08-10T06:00:00\",\"2005-08-10T12:00:00\",\"2005-08-10T18:00:00\",\"2005-08-11T00:00:00\",\"2005-08-11T06:00:00\",\"2005-08-11T12:00:00\",\"2005-08-11T18:00:00\",\"2005-08-12T00:00:00\",\"2005-08-12T06:00:00\",\"2005-08-12T12:00:00\",\"2005-08-12T18:00:00\",\"2005-08-13T00:00:00\",\"2005-08-13T06:00:00\",\"2005-08-13T12:00:00\",\"2005-08-13T18:00:00\",\"2005-08-14T00:00:00\",\"2005-08-14T06:00:00\",\"2005-08-14T12:00:00\",\"2005-08-14T18:00:00\",\"2005-08-15T00:00:00\",\"2005-08-15T06:00:00\",\"2005-08-15T12:00:00\",\"2005-08-15T18:00:00\",\"2005-08-16T00:00:00\",\"2005-08-16T06:00:00\",\"2005-08-16T12:00:00\",\"2005-08-16T18:00:00\",\"2005-08-17T00:00:00\",\"2005-08-17T06:00:00\",\"2005-08-17T12:00:00\",\"2005-08-17T18:00:00\",\"2005-08-18T00:00:00\",\"2005-08-18T06:00:00\",\"2005-08-18T12:00:00\"],\"y\":[0.0,0.3053346856273292,0.3547724653606722,0.40868612059461545,0.4670307615380211,0.3737973256872551,0.21245314724779524,0.2953593552151273,0.32762576273992833,0.21120726950845817,0.19650926242507827,0.22997885161871864,0.2832853307117817,0.31234386690188776,0.29000461194982147,0.39129277024130654,0.24106575839936184,0.26015615831653055,0.2133582391705395,0.1883638051999406,0.2589999600365523,0.21190921444974,0.19014464092455347,0.1668328033015269,0.2348461975623257,0.3086913178260763,0.2987413548466074,0.36407809924090473,0.3292858851607057,0.3083501737310255,0.3740773009309558,0.3243343127291619,0.2201899024029065,0.18491977003046767,0.21005452920634035,0.2040429441185475,0.22187450441808448,0.2310225697664131,0.14291949470298354,0.2555730532547332,0.23018442089055943,0.2521102166702277,0.2629743706322156,0.25650908342096784,0.2511958685824224,0.287548784614442,0.2248985068966121,0.2044533818177834,0.20616473832458646,0.14330298859324264,0.14330298859324522,0.32277515827535946,0.40610194540256256,0.5265913935962654,0.6850341871529307,1.0],\"type\":\"scatter\"}],                        {\"template\":{\"data\":{\"bar\":[{\"error_x\":{\"color\":\"#2a3f5f\"},\"error_y\":{\"color\":\"#2a3f5f\"},\"marker\":{\"line\":{\"color\":\"#E5ECF6\",\"width\":0.5},\"pattern\":{\"fillmode\":\"overlay\",\"size\":10,\"solidity\":0.2}},\"type\":\"bar\"}],\"barpolar\":[{\"marker\":{\"line\":{\"color\":\"#E5ECF6\",\"width\":0.5},\"pattern\":{\"fillmode\":\"overlay\",\"size\":10,\"solidity\":0.2}},\"type\":\"barpolar\"}],\"carpet\":[{\"aaxis\":{\"endlinecolor\":\"#2a3f5f\",\"gridcolor\":\"white\",\"linecolor\":\"white\",\"minorgridcolor\":\"white\",\"startlinecolor\":\"#2a3f5f\"},\"baxis\":{\"endlinecolor\":\"#2a3f5f\",\"gridcolor\":\"white\",\"linecolor\":\"white\",\"minorgridcolor\":\"white\",\"startlinecolor\":\"#2a3f5f\"},\"type\":\"carpet\"}],\"choropleth\":[{\"colorbar\":{\"outlinewidth\":0,\"ticks\":\"\"},\"type\":\"choropleth\"}],\"contour\":[{\"colorbar\":{\"outlinewidth\":0,\"ticks\":\"\"},\"colorscale\":[[0.0,\"#0d0887\"],[0.1111111111111111,\"#46039f\"],[0.2222222222222222,\"#7201a8\"],[0.3333333333333333,\"#9c179e\"],[0.4444444444444444,\"#bd3786\"],[0.5555555555555556,\"#d8576b\"],[0.6666666666666666,\"#ed7953\"],[0.7777777777777778,\"#fb9f3a\"],[0.8888888888888888,\"#fdca26\"],[1.0,\"#f0f921\"]],\"type\":\"contour\"}],\"contourcarpet\":[{\"colorbar\":{\"outlinewidth\":0,\"ticks\":\"\"},\"type\":\"contourcarpet\"}],\"heatmap\":[{\"colorbar\":{\"outlinewidth\":0,\"ticks\":\"\"},\"colorscale\":[[0.0,\"#0d0887\"],[0.1111111111111111,\"#46039f\"],[0.2222222222222222,\"#7201a8\"],[0.3333333333333333,\"#9c179e\"],[0.4444444444444444,\"#bd3786\"],[0.5555555555555556,\"#d8576b\"],[0.6666666666666666,\"#ed7953\"],[0.7777777777777778,\"#fb9f3a\"],[0.8888888888888888,\"#fdca26\"],[1.0,\"#f0f921\"]],\"type\":\"heatmap\"}],\"heatmapgl\":[{\"colorbar\":{\"outlinewidth\":0,\"ticks\":\"\"},\"colorscale\":[[0.0,\"#0d0887\"],[0.1111111111111111,\"#46039f\"],[0.2222222222222222,\"#7201a8\"],[0.3333333333333333,\"#9c179e\"],[0.4444444444444444,\"#bd3786\"],[0.5555555555555556,\"#d8576b\"],[0.6666666666666666,\"#ed7953\"],[0.7777777777777778,\"#fb9f3a\"],[0.8888888888888888,\"#fdca26\"],[1.0,\"#f0f921\"]],\"type\":\"heatmapgl\"}],\"histogram\":[{\"marker\":{\"pattern\":{\"fillmode\":\"overlay\",\"size\":10,\"solidity\":0.2}},\"type\":\"histogram\"}],\"histogram2d\":[{\"colorbar\":{\"outlinewidth\":0,\"ticks\":\"\"},\"colorscale\":[[0.0,\"#0d0887\"],[0.1111111111111111,\"#46039f\"],[0.2222222222222222,\"#7201a8\"],[0.3333333333333333,\"#9c179e\"],[0.4444444444444444,\"#bd3786\"],[0.5555555555555556,\"#d8576b\"],[0.6666666666666666,\"#ed7953\"],[0.7777777777777778,\"#fb9f3a\"],[0.8888888888888888,\"#fdca26\"],[1.0,\"#f0f921\"]],\"type\":\"histogram2d\"}],\"histogram2dcontour\":[{\"colorbar\":{\"outlinewidth\":0,\"ticks\":\"\"},\"colorscale\":[[0.0,\"#0d0887\"],[0.1111111111111111,\"#46039f\"],[0.2222222222222222,\"#7201a8\"],[0.3333333333333333,\"#9c179e\"],[0.4444444444444444,\"#bd3786\"],[0.5555555555555556,\"#d8576b\"],[0.6666666666666666,\"#ed7953\"],[0.7777777777777778,\"#fb9f3a\"],[0.8888888888888888,\"#fdca26\"],[1.0,\"#f0f921\"]],\"type\":\"histogram2dcontour\"}],\"mesh3d\":[{\"colorbar\":{\"outlinewidth\":0,\"ticks\":\"\"},\"type\":\"mesh3d\"}],\"parcoords\":[{\"line\":{\"colorbar\":{\"outlinewidth\":0,\"ticks\":\"\"}},\"type\":\"parcoords\"}],\"pie\":[{\"automargin\":true,\"type\":\"pie\"}],\"scatter\":[{\"marker\":{\"colorbar\":{\"outlinewidth\":0,\"ticks\":\"\"}},\"type\":\"scatter\"}],\"scatter3d\":[{\"line\":{\"colorbar\":{\"outlinewidth\":0,\"ticks\":\"\"}},\"marker\":{\"colorbar\":{\"outlinewidth\":0,\"ticks\":\"\"}},\"type\":\"scatter3d\"}],\"scattercarpet\":[{\"marker\":{\"colorbar\":{\"outlinewidth\":0,\"ticks\":\"\"}},\"type\":\"scattercarpet\"}],\"scattergeo\":[{\"marker\":{\"colorbar\":{\"outlinewidth\":0,\"ticks\":\"\"}},\"type\":\"scattergeo\"}],\"scattergl\":[{\"marker\":{\"colorbar\":{\"outlinewidth\":0,\"ticks\":\"\"}},\"type\":\"scattergl\"}],\"scattermapbox\":[{\"marker\":{\"colorbar\":{\"outlinewidth\":0,\"ticks\":\"\"}},\"type\":\"scattermapbox\"}],\"scatterpolar\":[{\"marker\":{\"colorbar\":{\"outlinewidth\":0,\"ticks\":\"\"}},\"type\":\"scatterpolar\"}],\"scatterpolargl\":[{\"marker\":{\"colorbar\":{\"outlinewidth\":0,\"ticks\":\"\"}},\"type\":\"scatterpolargl\"}],\"scatterternary\":[{\"marker\":{\"colorbar\":{\"outlinewidth\":0,\"ticks\":\"\"}},\"type\":\"scatterternary\"}],\"surface\":[{\"colorbar\":{\"outlinewidth\":0,\"ticks\":\"\"},\"colorscale\":[[0.0,\"#0d0887\"],[0.1111111111111111,\"#46039f\"],[0.2222222222222222,\"#7201a8\"],[0.3333333333333333,\"#9c179e\"],[0.4444444444444444,\"#bd3786\"],[0.5555555555555556,\"#d8576b\"],[0.6666666666666666,\"#ed7953\"],[0.7777777777777778,\"#fb9f3a\"],[0.8888888888888888,\"#fdca26\"],[1.0,\"#f0f921\"]],\"type\":\"surface\"}],\"table\":[{\"cells\":{\"fill\":{\"color\":\"#EBF0F8\"},\"line\":{\"color\":\"white\"}},\"header\":{\"fill\":{\"color\":\"#C8D4E3\"},\"line\":{\"color\":\"white\"}},\"type\":\"table\"}]},\"layout\":{\"annotationdefaults\":{\"arrowcolor\":\"#2a3f5f\",\"arrowhead\":0,\"arrowwidth\":1},\"autotypenumbers\":\"strict\",\"coloraxis\":{\"colorbar\":{\"outlinewidth\":0,\"ticks\":\"\"}},\"colorscale\":{\"diverging\":[[0,\"#8e0152\"],[0.1,\"#c51b7d\"],[0.2,\"#de77ae\"],[0.3,\"#f1b6da\"],[0.4,\"#fde0ef\"],[0.5,\"#f7f7f7\"],[0.6,\"#e6f5d0\"],[0.7,\"#b8e186\"],[0.8,\"#7fbc41\"],[0.9,\"#4d9221\"],[1,\"#276419\"]],\"sequential\":[[0.0,\"#0d0887\"],[0.1111111111111111,\"#46039f\"],[0.2222222222222222,\"#7201a8\"],[0.3333333333333333,\"#9c179e\"],[0.4444444444444444,\"#bd3786\"],[0.5555555555555556,\"#d8576b\"],[0.6666666666666666,\"#ed7953\"],[0.7777777777777778,\"#fb9f3a\"],[0.8888888888888888,\"#fdca26\"],[1.0,\"#f0f921\"]],\"sequentialminus\":[[0.0,\"#0d0887\"],[0.1111111111111111,\"#46039f\"],[0.2222222222222222,\"#7201a8\"],[0.3333333333333333,\"#9c179e\"],[0.4444444444444444,\"#bd3786\"],[0.5555555555555556,\"#d8576b\"],[0.6666666666666666,\"#ed7953\"],[0.7777777777777778,\"#fb9f3a\"],[0.8888888888888888,\"#fdca26\"],[1.0,\"#f0f921\"]]},\"colorway\":[\"#636efa\",\"#EF553B\",\"#00cc96\",\"#ab63fa\",\"#FFA15A\",\"#19d3f3\",\"#FF6692\",\"#B6E880\",\"#FF97FF\",\"#FECB52\"],\"font\":{\"color\":\"#2a3f5f\"},\"geo\":{\"bgcolor\":\"white\",\"lakecolor\":\"white\",\"landcolor\":\"#E5ECF6\",\"showlakes\":true,\"showland\":true,\"subunitcolor\":\"white\"},\"hoverlabel\":{\"align\":\"left\"},\"hovermode\":\"closest\",\"mapbox\":{\"style\":\"light\"},\"paper_bgcolor\":\"white\",\"plot_bgcolor\":\"#E5ECF6\",\"polar\":{\"angularaxis\":{\"gridcolor\":\"white\",\"linecolor\":\"white\",\"ticks\":\"\"},\"bgcolor\":\"#E5ECF6\",\"radialaxis\":{\"gridcolor\":\"white\",\"linecolor\":\"white\",\"ticks\":\"\"}},\"scene\":{\"xaxis\":{\"backgroundcolor\":\"#E5ECF6\",\"gridcolor\":\"white\",\"gridwidth\":2,\"linecolor\":\"white\",\"showbackground\":true,\"ticks\":\"\",\"zerolinecolor\":\"white\"},\"yaxis\":{\"backgroundcolor\":\"#E5ECF6\",\"gridcolor\":\"white\",\"gridwidth\":2,\"linecolor\":\"white\",\"showbackground\":true,\"ticks\":\"\",\"zerolinecolor\":\"white\"},\"zaxis\":{\"backgroundcolor\":\"#E5ECF6\",\"gridcolor\":\"white\",\"gridwidth\":2,\"linecolor\":\"white\",\"showbackground\":true,\"ticks\":\"\",\"zerolinecolor\":\"white\"}},\"shapedefaults\":{\"line\":{\"color\":\"#2a3f5f\"}},\"ternary\":{\"aaxis\":{\"gridcolor\":\"white\",\"linecolor\":\"white\",\"ticks\":\"\"},\"baxis\":{\"gridcolor\":\"white\",\"linecolor\":\"white\",\"ticks\":\"\"},\"bgcolor\":\"#E5ECF6\",\"caxis\":{\"gridcolor\":\"white\",\"linecolor\":\"white\",\"ticks\":\"\"}},\"title\":{\"x\":0.05},\"xaxis\":{\"automargin\":true,\"gridcolor\":\"white\",\"linecolor\":\"white\",\"ticks\":\"\",\"title\":{\"standoff\":15},\"zerolinecolor\":\"white\",\"zerolinewidth\":2},\"yaxis\":{\"automargin\":true,\"gridcolor\":\"white\",\"linecolor\":\"white\",\"ticks\":\"\",\"title\":{\"standoff\":15},\"zerolinecolor\":\"white\",\"zerolinewidth\":2}}}},                        {\"responsive\": true}                    ).then(function(){\n",
       "                            \n",
       "var gd = document.getElementById('021f01cb-ae55-434c-bcec-5e97f90a1c8d');\n",
       "var x = new MutationObserver(function (mutations, observer) {{\n",
       "        var display = window.getComputedStyle(gd).display;\n",
       "        if (!display || display === 'none') {{\n",
       "            console.log([gd, 'removed!']);\n",
       "            Plotly.purge(gd);\n",
       "            observer.disconnect();\n",
       "        }}\n",
       "}});\n",
       "\n",
       "// Listen for the removal of the full notebook cells\n",
       "var notebookContainer = gd.closest('#notebook-container');\n",
       "if (notebookContainer) {{\n",
       "    x.observe(notebookContainer, {childList: true});\n",
       "}}\n",
       "\n",
       "// Listen for the clearing of the current output cell\n",
       "var outputEl = gd.closest('.output');\n",
       "if (outputEl) {{\n",
       "    x.observe(outputEl, {childList: true});\n",
       "}}\n",
       "\n",
       "                        })                };                });            </script>        </div>"
      ]
     },
     "metadata": {},
     "output_type": "display_data"
    }
   ],
   "source": [
    "fig = go.Figure()\n",
    "\n",
    "# Add traces\n",
    "fig.add_trace(go.Scatter(x=df7[\"date\"], y=sc_m,\n",
    "                    mode='lines',\n",
    "                    name='M',\n",
    "                    line=dict(width=0.75)))\n",
    "fig.add_trace(go.Scatter(x=df7[\"date\"], y=sc_h,\n",
    "                    mode='lines',\n",
    "                    name='H',\n",
    "                    line=dict(width=0.75)))\n",
    "fig.add_trace(go.Scatter(x=df7[\"date\"], y=sc_d,\n",
    "                    name='D',\n",
    "                    line=dict(width=0.75)))\n",
    "fig.add_trace(go.Scatter(x=df7[\"date\"], y=sc_z,\n",
    "                    mode='lines',\n",
    "                    name='Z',\n",
    "                    line=dict(width=0.75)))\n",
    "fig.add_trace(go.Scatter(x=df7[\"date\"], y=sc_y,\n",
    "                    mode='lines',\n",
    "                    name='FM',\n",
    "                    line=dict(width=0.75)))\n",
    "\n",
    "fig.show()"
   ]
  },
  {
   "cell_type": "code",
   "execution_count": 58,
   "id": "7369229a",
   "metadata": {},
   "outputs": [],
   "source": [
    "#df7.to_csv('geomag_hurricane_DORIAN.csv', index=False)"
   ]
  },
  {
   "cell_type": "code",
   "execution_count": null,
   "id": "200c276e",
   "metadata": {},
   "outputs": [],
   "source": []
  }
 ],
 "metadata": {
  "kernelspec": {
   "display_name": "Python 3 (ipykernel)",
   "language": "python",
   "name": "python3"
  },
  "language_info": {
   "codemirror_mode": {
    "name": "ipython",
    "version": 3
   },
   "file_extension": ".py",
   "mimetype": "text/x-python",
   "name": "python",
   "nbconvert_exporter": "python",
   "pygments_lexer": "ipython3",
   "version": "3.7.11"
  }
 },
 "nbformat": 4,
 "nbformat_minor": 5
}
